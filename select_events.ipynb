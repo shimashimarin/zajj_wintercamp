{
 "cells": [
  {
   "cell_type": "code",
   "execution_count": 1,
   "id": "b1fd986f",
   "metadata": {},
   "outputs": [],
   "source": [
    "import awkward as ak\n",
    "from coffea.nanoevents import NanoEventsFactory, NanoAODSchema, BaseSchema\n",
    "from coffea import util\n",
    "import numpy as np\n",
    "import numba as nb\n",
    "import uproot as up\n",
    "from coffea import hist as coffea_hist\n",
    " \n",
    "# from coffea import hist,processor\n",
    "from coffea import processor\n",
    "from coffea.nanoevents.methods import candidate\n",
    "ak.behavior.update(candidate.behavior)\n",
    "import matplotlib.pyplot as plt\n",
    "import mplhep as hep\n",
    "import time\n",
    "\n",
    "from hist import Hist, axis\n",
    "import hist\n",
    "\n",
    "import pickle\n",
    "\n",
    "import boost_histogram as bh\n",
    "import os\n",
    "\n",
    "plt.style.use(hep.style.CMS)"
   ]
  },
  {
   "cell_type": "markdown",
   "id": "57817eae-3300-42ae-b6c2-6823414ccf7b",
   "metadata": {},
   "source": [
    "## file list"
   ]
  },
  {
   "cell_type": "code",
   "execution_count": 2,
   "id": "7495ec51",
   "metadata": {},
   "outputs": [],
   "source": [
    "base_dir = \"/data/pubfs/xiaoj/zajj/nb/ntuples/\"\n",
    "files = {\n",
    "    2016:{\n",
    "        \"mc\":{\n",
    "            'za_qcd':[f\"{base_dir}/2016_mc_za_qcd.root\"],\n",
    "            'za_ewk':[f\"{base_dir}/2016_mc_za_ewk.root\"],\n",
    "            'others':[\n",
    "                f\"{base_dir}/2016_mc_others.root\",\n",
    "            ]\n",
    "        },\n",
    "        \"data\":{\n",
    "            'data': [\n",
    "                f\"{base_dir}/2016_data_data.root\",\n",
    "            ]\n",
    "        },\n",
    "        \"fake\":{\n",
    "            'fake': [\n",
    "                f\"{base_dir}/2016_fake_fake.root\",\n",
    "            ]\n",
    "        },\n",
    "        \"fake_up\":{\n",
    "            'fake_up': [\n",
    "                f\"{base_dir}/2016_fake_up_fake.root\",\n",
    "            ]\n",
    "        },\n",
    "        \"fake_down\":{\n",
    "            'fake_down': [\n",
    "                f\"{base_dir}/2016_fake_down_fake.root\",\n",
    "            ],\n",
    "        },\n",
    "        \"JEC_up\":{\n",
    "            'za_qcd_JEC_up':[f\"{base_dir}/2016_jesr_za_qcd.root\"],\n",
    "            'za_ewk_JEC_up':[f\"{base_dir}/2016_jesr_za_ewk.root\"],\n",
    "            'others_JEC_up':[\n",
    "                f\"{base_dir}/2016_jesr_others2.root\",\n",
    "            ]\n",
    "         },     \n",
    "        \"JEC_down\":{\n",
    "            'za_qcd_JEC_down':[f\"{base_dir}/2016_jesr_za_qcd.root\"],\n",
    "            'za_ewk_JEC_down':[f\"{base_dir}/2016_jesr_za_ewk.root\"],\n",
    "            'others_JEC_down':[\n",
    "                f\"{base_dir}/2016_jesr_others2.root\",\n",
    "            ]\n",
    "         },     \n",
    "        \"JER_up\":{\n",
    "            'za_qcd_JER_up':[f\"{base_dir}/2016_jesr_za_qcd.root\"],\n",
    "            'za_ewk_JER_up':[f\"{base_dir}/2016_jesr_za_ewk.root\"],\n",
    "            'others_JER_up':[\n",
    "                f\"{base_dir}/2016_jesr_others2.root\",\n",
    "            ]\n",
    "         },     \n",
    "        \"JER_down\":{\n",
    "            'za_qcd_JER_down':[f\"{base_dir}/2016_jesr_za_qcd.root\"],\n",
    "            'za_ewk_JER_down':[f\"{base_dir}/2016_jesr_za_ewk.root\"],\n",
    "            'others_JER_down':[\n",
    "                f\"{base_dir}/2016_jesr_others2.root\",\n",
    "            ]\n",
    "         },     \n",
    "    },\n",
    "    2017:{\n",
    "        \"mc\":{\n",
    "            'za_qcd':[f\"{base_dir}/2017_mc_za_qcd.root\"],\n",
    "            'za_ewk':[f\"{base_dir}/2017_mc_za_ewk.root\"],\n",
    "            'others':[\n",
    "                f\"{base_dir}/2017_mc_others.root\",\n",
    "            ]\n",
    "        },\n",
    "        \"data\":{\n",
    "            'data': [\n",
    "                f\"{base_dir}/2017_data_data.root\",\n",
    "            ]\n",
    "        },\n",
    "        \"fake\":{\n",
    "            'fake': [f\"{base_dir}/2017_fake_fake.root\"],\n",
    "        },\n",
    "        \"fake_up\":{\n",
    "            'fake_up': [f\"{base_dir}/2017_fake_up_fake.root\"],\n",
    "        },\n",
    "        \"fake_down\":{\n",
    "            'fake_down': [f\"{base_dir}/2017_fake_down_fake.root\"],\n",
    "        },\n",
    "        \"JEC_up\":{\n",
    "            'za_qcd_JEC_up':[f\"{base_dir}/2017_jesr_za_qcd.root\"],\n",
    "            'za_ewk_JEC_up':[f\"{base_dir}/2017_jesr_za_ewk.root\"],\n",
    "            'others_JEC_up':[\n",
    "                f\"{base_dir}/2017_jesr_others.root\",\n",
    "            ]\n",
    "         },      \n",
    "        \"JEC_down\":{\n",
    "            'za_qcd_JEC_down':[f\"{base_dir}/2017_jesr_za_qcd.root\"],\n",
    "            'za_ewk_JEC_down':[f\"{base_dir}/2017_jesr_za_ewk.root\"],\n",
    "            'others_JEC_down':[\n",
    "                f\"{base_dir}/2017_jesr_others.root\",\n",
    "            ]\n",
    "         },      \n",
    "        \"JER_up\":{\n",
    "            'za_qcd_JER_up':[f\"{base_dir}/2017_jesr_za_qcd.root\"],\n",
    "            'za_ewk_JER_up':[f\"{base_dir}/2017_jesr_za_ewk.root\"],\n",
    "            'others_JER_up':[\n",
    "                f\"{base_dir}/2017_jesr_others.root\",\n",
    "            ]\n",
    "         },      \n",
    "        \"JER_down\":{\n",
    "            'za_qcd_JER_down':[f\"{base_dir}/2017_jesr_za_qcd.root\"],\n",
    "            'za_ewk_JER_down':[f\"{base_dir}/2017_jesr_za_ewk.root\"],\n",
    "            'others_JER_down':[\n",
    "                f\"{base_dir}/2017_jesr_others.root\",\n",
    "            ]\n",
    "         },      \n",
    "    },\n",
    "}\n"
   ]
  },
  {
   "cell_type": "code",
   "execution_count": 3,
   "id": "97a0d429-8015-47b5-bfb3-8edf057aad28",
   "metadata": {
    "tags": []
   },
   "outputs": [
    {
     "data": {
      "text/plain": [
       "{2016: {'mc': {'za_qcd': ['/data/pubfs/xiaoj/zajj/nb/ntuples//2016_mc_za_qcd.root'],\n",
       "   'za_ewk': ['/data/pubfs/xiaoj/zajj/nb/ntuples//2016_mc_za_ewk.root'],\n",
       "   'others': ['/data/pubfs/xiaoj/zajj/nb/ntuples//2016_mc_others.root']},\n",
       "  'data': {'data': ['/data/pubfs/xiaoj/zajj/nb/ntuples//2016_data_data.root']},\n",
       "  'fake': {'fake': ['/data/pubfs/xiaoj/zajj/nb/ntuples//2016_fake_fake.root']},\n",
       "  'fake_up': {'fake_up': ['/data/pubfs/xiaoj/zajj/nb/ntuples//2016_fake_up_fake.root']},\n",
       "  'fake_down': {'fake_down': ['/data/pubfs/xiaoj/zajj/nb/ntuples//2016_fake_down_fake.root']},\n",
       "  'JEC_up': {'za_qcd_JEC_up': ['/data/pubfs/xiaoj/zajj/nb/ntuples//2016_jesr_za_qcd.root'],\n",
       "   'za_ewk_JEC_up': ['/data/pubfs/xiaoj/zajj/nb/ntuples//2016_jesr_za_ewk.root'],\n",
       "   'others_JEC_up': ['/data/pubfs/xiaoj/zajj/nb/ntuples//2016_jesr_others2.root']},\n",
       "  'JEC_down': {'za_qcd_JEC_down': ['/data/pubfs/xiaoj/zajj/nb/ntuples//2016_jesr_za_qcd.root'],\n",
       "   'za_ewk_JEC_down': ['/data/pubfs/xiaoj/zajj/nb/ntuples//2016_jesr_za_ewk.root'],\n",
       "   'others_JEC_down': ['/data/pubfs/xiaoj/zajj/nb/ntuples//2016_jesr_others2.root']},\n",
       "  'JER_up': {'za_qcd_JER_up': ['/data/pubfs/xiaoj/zajj/nb/ntuples//2016_jesr_za_qcd.root'],\n",
       "   'za_ewk_JER_up': ['/data/pubfs/xiaoj/zajj/nb/ntuples//2016_jesr_za_ewk.root'],\n",
       "   'others_JER_up': ['/data/pubfs/xiaoj/zajj/nb/ntuples//2016_jesr_others2.root']},\n",
       "  'JER_down': {'za_qcd_JER_down': ['/data/pubfs/xiaoj/zajj/nb/ntuples//2016_jesr_za_qcd.root'],\n",
       "   'za_ewk_JER_down': ['/data/pubfs/xiaoj/zajj/nb/ntuples//2016_jesr_za_ewk.root'],\n",
       "   'others_JER_down': ['/data/pubfs/xiaoj/zajj/nb/ntuples//2016_jesr_others2.root']}},\n",
       " 2017: {'mc': {'za_qcd': ['/data/pubfs/xiaoj/zajj/nb/ntuples//2017_mc_za_qcd.root'],\n",
       "   'za_ewk': ['/data/pubfs/xiaoj/zajj/nb/ntuples//2017_mc_za_ewk.root'],\n",
       "   'others': ['/data/pubfs/xiaoj/zajj/nb/ntuples//2017_mc_others.root']},\n",
       "  'data': {'data': ['/data/pubfs/xiaoj/zajj/nb/ntuples//2017_data_data.root']},\n",
       "  'fake': {'fake': ['/data/pubfs/xiaoj/zajj/nb/ntuples//2017_fake_fake.root']},\n",
       "  'fake_up': {'fake_up': ['/data/pubfs/xiaoj/zajj/nb/ntuples//2017_fake_up_fake.root']},\n",
       "  'fake_down': {'fake_down': ['/data/pubfs/xiaoj/zajj/nb/ntuples//2017_fake_down_fake.root']},\n",
       "  'JEC_up': {'za_qcd_JEC_up': ['/data/pubfs/xiaoj/zajj/nb/ntuples//2017_jesr_za_qcd.root'],\n",
       "   'za_ewk_JEC_up': ['/data/pubfs/xiaoj/zajj/nb/ntuples//2017_jesr_za_ewk.root'],\n",
       "   'others_JEC_up': ['/data/pubfs/xiaoj/zajj/nb/ntuples//2017_jesr_others.root']},\n",
       "  'JEC_down': {'za_qcd_JEC_down': ['/data/pubfs/xiaoj/zajj/nb/ntuples//2017_jesr_za_qcd.root'],\n",
       "   'za_ewk_JEC_down': ['/data/pubfs/xiaoj/zajj/nb/ntuples//2017_jesr_za_ewk.root'],\n",
       "   'others_JEC_down': ['/data/pubfs/xiaoj/zajj/nb/ntuples//2017_jesr_others.root']},\n",
       "  'JER_up': {'za_qcd_JER_up': ['/data/pubfs/xiaoj/zajj/nb/ntuples//2017_jesr_za_qcd.root'],\n",
       "   'za_ewk_JER_up': ['/data/pubfs/xiaoj/zajj/nb/ntuples//2017_jesr_za_ewk.root'],\n",
       "   'others_JER_up': ['/data/pubfs/xiaoj/zajj/nb/ntuples//2017_jesr_others.root']},\n",
       "  'JER_down': {'za_qcd_JER_down': ['/data/pubfs/xiaoj/zajj/nb/ntuples//2017_jesr_za_qcd.root'],\n",
       "   'za_ewk_JER_down': ['/data/pubfs/xiaoj/zajj/nb/ntuples//2017_jesr_za_ewk.root'],\n",
       "   'others_JER_down': ['/data/pubfs/xiaoj/zajj/nb/ntuples//2017_jesr_others.root']}}}"
      ]
     },
     "execution_count": 3,
     "metadata": {},
     "output_type": "execute_result"
    }
   ],
   "source": [
    "# data_list = {'DoubleMuon_Run2018A':data_list['DoubleMuon_Run2018A']}\n",
    "files"
   ]
  },
  {
   "cell_type": "code",
   "execution_count": 4,
   "id": "6ba014c0-f361-454f-a667-b6a168595102",
   "metadata": {},
   "outputs": [],
   "source": [
    "def get_vals(_vals, _low, _high, clip = True, clip_diff = 0.000001):\n",
    "    \"\"\"Try this\"\"\"\n",
    "\n",
    "    if clip:\n",
    "        _new_vals = np.clip(ak.fill_none(_vals, -999.), _low+clip_diff, _high-clip_diff)\n",
    "    else:\n",
    "        _new_vals = ak.fill_none(_vals, -999.)\n",
    "    return _new_vals\n",
    "        "
   ]
  },
  {
   "cell_type": "code",
   "execution_count": null,
   "id": "a28ead17",
   "metadata": {},
   "outputs": [],
   "source": []
  },
  {
   "cell_type": "markdown",
   "id": "c64940c7-59e0-4aa8-9f83-d67f41dea3c3",
   "metadata": {},
   "source": [
    "## Processor"
   ]
  },
  {
   "cell_type": "code",
   "execution_count": 5,
   "id": "f71f2bdd-80cd-4aa8-82cd-ae3779ad3834",
   "metadata": {},
   "outputs": [],
   "source": [
    "class MyProcessor(processor.ProcessorABC):\n",
    "    def __init__(self, **kwargs):\n",
    "        self.year = 2016\n",
    "        if \"year\" in kwargs:\n",
    "            self.is_mc = kwargs[\"year\"]\n",
    "        self.is_mc = True\n",
    "        if \"is_mc\" in kwargs:\n",
    "            self.is_mc = kwargs[\"is_mc\"]\n",
    "        self.uncer = \"nom\" # remember to only use: nom, JEC_up, JEC_down, JER_up, JER_down\n",
    "        if \"uncer\" in kwargs:\n",
    "            self.uncer = kwargs[\"uncer\"]\n",
    "        self.is_fake = False\n",
    "        if \"is_fake\" in kwargs:\n",
    "            self.is_fake = kwargs[\"is_fake\"]\n",
    "        self.channel = \"ALL\"\n",
    "        if \"channel\" in kwargs:\n",
    "            self.channel = kwargs[\"channel\"]\n",
    "        # signal region or control region\n",
    "        self.region = \"SR\"\n",
    "        if \"region\" in kwargs:\n",
    "            self.region = kwargs[\"region\"]\n",
    "        # self.fake_unc = \"nom\"\n",
    "        # if \"fake_unc\" in kwargs:\n",
    "        #     self.fake_unc = kwargs[\"fake_unc\"]\n",
    "        print(kwargs)\n",
    "        \n",
    "        if self.region==\"SR\":\n",
    "            self._accumulator = processor.dict_accumulator(\n",
    "                {\n",
    "                    'mjj': coffea_hist.Hist(\n",
    "                        \"Events\",\n",
    "                        coffea_hist.Cat(\"dataset\", \"Dataset\"),\n",
    "                        coffea_hist.Bin('x', r'$m_{jj}$ (GeV)', 8, 500, 2000),\n",
    "                    ),\n",
    "                    'mll': coffea_hist.Hist(\n",
    "                        \"Events\",\n",
    "                        coffea_hist.Cat(\"dataset\", \"Dataset\"),\n",
    "                        coffea_hist.Bin('x', r'$m_{ll}$ (GeV)', 18, 70, 110),\n",
    "                    ),\n",
    "                    'mllv1': coffea_hist.Hist(\n",
    "                        \"Events\",\n",
    "                        coffea_hist.Cat(\"dataset\", \"Dataset\"),\n",
    "                        coffea_hist.Bin('x', r'$m_{ll}$ (GeV)', 12, 70, 110),\n",
    "                    ),\n",
    "                    'mjj_detajj': coffea_hist.Hist(\n",
    "                        \"Events\",\n",
    "                        coffea_hist.Cat(\"dataset\", \"Dataset\"),\n",
    "                        coffea_hist.Bin('x', r'$m_{jj}$ (GeV)', [500, 800, 1200, 2000]),\n",
    "                        coffea_hist.Bin('y', r'$|\\Delta \\eta _{jj}|$ (GeV)', [2.5,4.5,6,10]),\n",
    "                    ),\n",
    "                }\n",
    "            )\n",
    "        else:\n",
    "            self._accumulator = processor.dict_accumulator(\n",
    "                {\n",
    "                    'lowmjj': coffea_hist.Hist(\n",
    "                        \"Events\",\n",
    "                        coffea_hist.Cat(\"dataset\", \"Dataset\"),\n",
    "                        coffea_hist.Bin('x', r'$m_{jj}$ (GeV)', 5, 150, 500),\n",
    "                    ),\n",
    "                    'mll': coffea_hist.Hist(\n",
    "                        \"Events\",\n",
    "                        coffea_hist.Cat(\"dataset\", \"Dataset\"),\n",
    "                        coffea_hist.Bin('x', r'$m_{ll}$ (GeV)', 18, 70, 110),\n",
    "                    ),\n",
    "                    'mllv1': coffea_hist.Hist(\n",
    "                        \"Events\",\n",
    "                        coffea_hist.Cat(\"dataset\", \"Dataset\"),\n",
    "                        coffea_hist.Bin('x', r'$m_{ll}$ (GeV)', 12, 70, 110),\n",
    "                    ),\n",
    "                }\n",
    "            )\n",
    "\n",
    "    @property\n",
    "    def accumulator(self):\n",
    "        return self._accumulator\n",
    "\n",
    "    def process(self, events):\n",
    "        output = self.accumulator.identity()\n",
    "        dataset = events.metadata['dataset']\n",
    "        lumi = {\n",
    "            2016: 36.33,\n",
    "            2017: 41.53,\n",
    "            2018: 59.74,\n",
    "        }\n",
    "        puid = {\n",
    "            2016: \"puIdMedium\",\n",
    "            2017: \"puIdTight\",\n",
    "            2018: \"puIdTight\",\n",
    "        }\n",
    "        puid_wgt = {\n",
    "            2016: \"M\",\n",
    "            2017: \"T\",\n",
    "            2018: \"T\",\n",
    "        }\n",
    "        # ALL: include MB ME EB EE\n",
    "        # MB: muon barrel\n",
    "        # ME: muon endcap\n",
    "        # EB: electron barrel\n",
    "        # EE: electron endcap\n",
    "        sel_nlep_1 = ((events.HLT_Mu1>0) | (events.HLT_Mu1>0)) & (events.lep==13) & (events.nloosemus < 3) & (events.nlooseeles == 0)\n",
    "        sel_nlep_2 = ((events.HLT_Ele1>0) | (events.HLT_Ele2>0)) & (events.lep==11) & (events.nloosemus == 0) & (events.nlooseeles < 3)\n",
    "        if self.channel==\"ALL\":\n",
    "            sel_nlep = (sel_nlep_1 | sel_nlep_2)\n",
    "        elif self.channel==\"MB\" or self.channel==\"ME\":\n",
    "            sel_nlep = (sel_nlep_1)\n",
    "        else:\n",
    "            sel_nlep = (sel_nlep_2)\n",
    "        events = events.mask[sel_nlep]\n",
    "\n",
    "        # lepton selections\n",
    "        lep_mass = (abs(events.lep) == 11 * 0.00051) + (abs(events.lep) == 13 * 0.10566)\n",
    "        lep1 = ak.zip({\n",
    "            \"pt\": events.ptlep1,\n",
    "            \"eta\": events.etalep1,\n",
    "            \"phi\": events.philep1,\n",
    "            \"mass\": lep_mass,\n",
    "            \"charge\": np.ones(len(events.ptlep1)),\n",
    "            \"pdgId\": events.lep,\n",
    "        }, with_name=\"PtEtaPhiMCandidate\")\n",
    "\n",
    "        lep2 = ak.zip({\n",
    "            \"pt\": events.ptlep2,\n",
    "            \"eta\": events.etalep2,\n",
    "            \"phi\": events.philep2,\n",
    "            \"mass\": lep_mass,\n",
    "            \"charge\": -1 * np.ones(len(events.ptlep2)),\n",
    "            \"pdgId\": events.lep,\n",
    "        }, with_name=\"PtEtaPhiMCandidate\")\n",
    "\n",
    "        sel_lep_1 = (lep1.pt > 25) & (lep2.pt > 25) & (abs(lep1.eta) < 2.5) & (abs(lep2.eta) < 2.5) & (lep1.pdgId == 11) \n",
    "        sel_lep_2 = (lep1.pt > 20) & (lep2.pt > 20) & (abs(lep1.eta) < 2.4) & (abs(lep2.eta) < 2.4) & (lep1.pdgId == 13)\n",
    "        # zpole = lep1 + lep2 ### z boson\n",
    "        sel_lep_4 = (events.massVlep > 70) & (events.massVlep < 110)\n",
    "\n",
    "        events = events.mask[(sel_lep_1 | sel_lep_2) & sel_lep_4]\n",
    "\n",
    "        # photon selections\n",
    "        drla_new = (events.drla!=10)*events.drla\n",
    "        drla2_new = (events.drla2!=10)*events.drla2\n",
    "        # photon selections\n",
    "        pho = ak.zip({\n",
    "            \"pt\": events.photonet,\n",
    "            \"eta\": events.photoneta,\n",
    "            \"phi\": events.photonphi,\n",
    "            \"energy\": events.photone,\n",
    "            \"charge\": np.zeros(len(events.photonet)),\n",
    "            \"pdgId\": 22*np.ones(len(events.photonet)),\n",
    "            \"passEleVeto\": events.passEleVeto,\n",
    "            \"isTrue\": events.isTrue,\n",
    "            \"isprompt\": events.isprompt,\n",
    "            \"drl1a\": drla_new,\n",
    "            \"drl2a\": drla2_new,\n",
    "            \"m_Vgamma\": events.Mva,\n",
    "        }, with_name=\"PtEtaPhiECandidate\")\n",
    "\n",
    "\n",
    "        if self.channel==\"ALL\":\n",
    "            sel_pho_1 = (pho.pt > 20) & (((abs(pho.eta)<2.5) & (abs(pho.eta)>1.566)) | (abs(pho.eta)<1.4442))\n",
    "        elif self.channel==\"MB\" or self.channel==\"EB\":\n",
    "            sel_pho_1 = (pho.pt > 20) & (abs(pho.eta)<1.4442)\n",
    "        else:\n",
    "            sel_pho_1 = (pho.pt > 20) & ((abs(pho.eta)<2.5) & (abs(pho.eta)>1.566))\n",
    "\n",
    "        if self.is_mc:\n",
    "            sel_pho_2 = (pho.drl1a > 0.7) & (pho.drl2a > 0.7) # & (pho.isprompt==1) & (pho.passEleVeto==1)\n",
    "        elif self.is_fake:\n",
    "            sel_pho_2 = (pho.drl1a > 0.7) & (pho.drl2a > 0.7) & (pho.isprompt!=1) # & (pho.passEleVeto==1)\n",
    "        else:\n",
    "            sel_pho_2 = (pho.drl1a > 0.7) & (pho.drl2a > 0.7) # & (pho.passEleVeto)\n",
    "\n",
    "        sel_pho_3 = (pho.m_Vgamma > 100)\n",
    "\n",
    "        events = events.mask[sel_pho_1 & sel_pho_2 & sel_pho_3]\n",
    "\n",
    "        # jet selections\n",
    "        if self.uncer==\"nom\":\n",
    "            postfix=\"\"\n",
    "        else:\n",
    "            postfix=f\"_{self.uncer}\"\n",
    "        jet1 = ak.zip({\n",
    "            \"pt\": events[f\"jet1pt{postfix}\"],\n",
    "            \"eta\": events[f\"jet1eta{postfix}\"],\n",
    "            \"phi\": events[f\"jet1phi{postfix}\"],\n",
    "            \"energy\": events[f\"jet1e{postfix}\"],\n",
    "            \"charge\": np.zeros(len(events[f\"jet1pt{postfix}\"])),\n",
    "            \"dr_a\": events[f\"drj1a{postfix}\"],\n",
    "            \"dr_l1\": events[f\"drj1l{postfix}\"],\n",
    "            \"dr_l2\": events[f\"drj1l2{postfix}\"],\n",
    "            \"puId\": events[f\"jet1{puid[self.year]}{postfix}\"],\n",
    "        }, with_name=\"PtEtaPhiECandidate\")\n",
    "        jet2 = ak.zip({\n",
    "            \"pt\": events[f\"jet2pt{postfix}\"],\n",
    "            \"eta\": events[f\"jet2eta{postfix}\"],\n",
    "            \"phi\": events[f\"jet2phi{postfix}\"],\n",
    "            \"energy\": events[f\"jet2e{postfix}\"],\n",
    "            \"charge\": np.zeros(len(events[f\"jet2pt{postfix}\"])),\n",
    "            \"dr_a\": events[f\"drj2a{postfix}\"],\n",
    "            \"dr_l1\": events[f\"drj2l{postfix}\"],\n",
    "            \"dr_l2\": events[f\"drj2l2{postfix}\"],\n",
    "            \"puId\": events[f\"jet2{puid[self.year]}{postfix}\"],\n",
    "        }, with_name=\"PtEtaPhiECandidate\")\n",
    "\n",
    "        if self.year == 2017:\n",
    "            sel_jet_1 = (((jet1.pt > 30) & (jet1.pt < 50) & (jet1.puId==1) & (abs(jet1.eta)>3.14) | (abs(jet1.eta)<2.65)) | (jet1.pt > 50)) & (abs(jet1.eta) < 4.7) #  \n",
    "            sel_jet_2 = (((jet2.pt > 30) & (jet2.pt < 50) & (jet2.puId==1) & (abs(jet2.eta)>3.14) | (abs(jet2.eta)<2.65)) | (jet2.pt > 50)) & (abs(jet2.eta) < 4.7) #  \n",
    "        else:\n",
    "            sel_jet_1 = (((jet1.pt > 30) & (jet1.pt < 50) & (jet1.puId==1)) | (jet1.pt > 50)) & (abs(jet1.eta) < 4.7) #  & (abs(jet1.eta)<3.14) & (abs(jet1.eta)>2.65)\n",
    "            sel_jet_2 = (((jet2.pt > 30) & (jet2.pt < 50) & (jet2.puId==1)) | (jet2.pt > 50)) & (abs(jet2.eta) < 4.7) #  & (abs(jet2.eta)<3.14) & (abs(jet2.eta)>2.65)\n",
    "        sel_jet_3 = (jet1.dr_a > 0.5) & (jet1.dr_l1 > 0.5) & (jet1.dr_l2 > 0.5) & \\\n",
    "            (jet2.dr_a > 0.5) & (jet2.dr_l1 > 0.5) & (jet2.dr_l2 > 0.5)\n",
    "        if self.region==\"SR\":\n",
    "            sel_jet_4 = (events[f\"Mjj{postfix}\"] > 500) & (abs(jet1.eta-jet2.eta) > 2.5)\n",
    "        else:\n",
    "            sel_jet_4 = (events[f\"Mjj{postfix}\"] > 150) & (events[f\"Mjj{postfix}\"] < 500)\n",
    "        sel_jet_5 = jet1.delta_r(jet2) > 0.5\n",
    "        # sel_jet_3 = (events.Mjj > 150) & (events.Mjj < 400)\n",
    "\n",
    "        events = events.mask[sel_jet_1 & sel_jet_2 & sel_jet_3 & sel_jet_4 & sel_jet_5]\n",
    "\n",
    "        # optimal selections\n",
    "        sel_opt_1 = (events[f\"zepp{postfix}\"] < 2.4)\n",
    "        za = (lep1 + lep2 + pho)\n",
    "        dijet = (jet1 + jet2)\n",
    "        sel_opt_2 = (abs(za.delta_phi(dijet)) > 1.9)\n",
    "\n",
    "        events = events.mask[sel_opt_1 & sel_opt_2]\n",
    "        \n",
    "        # total mask, new objects\n",
    "        tot_mask = (events.event != None)\n",
    "        # weights\n",
    "        tot_mask = ak.fill_none(tot_mask, False) # will remove None events\n",
    "        events = events[tot_mask]\n",
    "        pho = pho[tot_mask]\n",
    "        jet1 = jet1[tot_mask]\n",
    "        jet2 = jet2[tot_mask]\n",
    "        if self.is_mc:\n",
    "            # eletron id sf\n",
    "            eid_scale = (events.lep == 11) * events.ele1_id_scale * events.ele1_reco_scale * events.ele2_id_scale * events.ele2_reco_scale * events.ele_hlt_scale\n",
    "            # muon id sf\n",
    "            mid_scale = (events.lep == 13) * events.muon1_iso_scale * events.muon1_id_scale * events.muon2_id_scale * events.muon2_iso_scale * events.muon_hlt_scale\n",
    "            wgt = events.scalef * events.pileupWeight * events.prefWeight * (eid_scale + mid_scale) * events.photon_id_scale * events.photon_veto_scale * events[f\"puIdweight_{puid_wgt[self.year]}{postfix}\"] * lumi[self.year]\n",
    "            # print(wgt)\n",
    "        elif self.is_fake:\n",
    "            wgt = events.scalef\n",
    "        else:\n",
    "            wgt = np.ones(len(events.run))\n",
    "        # print(ak.to_list(wgt[0:20]))\n",
    "        vals = {}\n",
    "        if self.region==\"SR\":\n",
    "            vals['mjj'] = get_vals(events[f\"Mjj{postfix}\"], 500, 2000)\n",
    "            vals['mll'] = get_vals(events.massVlep, 70, 110)\n",
    "            vals['mllv1'] = get_vals(events.massVlep, 70, 110)\n",
    "            vals['detajj'] = get_vals(abs(jet1.eta-jet2.eta), 2.5, 10)\n",
    "\n",
    "            output[\"mjj\"].fill(dataset = dataset, x = vals['mjj'], weight = wgt)\n",
    "            output[\"mll\"].fill(dataset = dataset, x = vals['mll'], weight = wgt)\n",
    "            output[\"mllv1\"].fill(dataset = dataset, x = vals['mllv1'], weight = wgt)\n",
    "            output[\"mjj_detajj\"].fill(dataset = dataset, x = vals['mjj'], y = vals['detajj'], weight = wgt)\n",
    "        else:\n",
    "            vals['lowmjj'] = get_vals(events[f\"Mjj{postfix}\"], 150, 500)\n",
    "            vals['mll'] = get_vals(events.massVlep, 70, 110)\n",
    "            vals['mllv1'] = get_vals(events.massVlep, 70, 110)\n",
    "\n",
    "            output[\"lowmjj\"].fill(dataset = dataset, x = vals['lowmjj'], weight = wgt)\n",
    "            output[\"mll\"].fill(dataset = dataset, x = vals['mll'], weight = wgt)\n",
    "            output[\"mllv1\"].fill(dataset = dataset, x = vals['mllv1'], weight = wgt)\n",
    "        \n",
    "        return output\n",
    "\n",
    "    def postprocess(self, accumulator):\n",
    "        return accumulator"
   ]
  },
  {
   "cell_type": "code",
   "execution_count": 6,
   "id": "c12c110f",
   "metadata": {},
   "outputs": [],
   "source": [
    "# file_list"
   ]
  },
  {
   "cell_type": "markdown",
   "id": "3ee04577-fe61-459d-97a9-4488542c6f53",
   "metadata": {},
   "source": [
    "## run"
   ]
  },
  {
   "cell_type": "markdown",
   "id": "5bbe21e5",
   "metadata": {},
   "source": [
    "## 2016"
   ]
  },
  {
   "cell_type": "code",
   "execution_count": 7,
   "id": "84db22ee-fbed-43a5-9b91-b9e70c182e81",
   "metadata": {},
   "outputs": [
    {
     "name": "stdout",
     "output_type": "stream",
     "text": [
      "{'year': 2016, 'is_mc': True, 'uncer': 'nom', 'is_fake': False, 'channel': 'EB', 'region': 'SR'}\n"
     ]
    },
    {
     "data": {
      "application/vnd.jupyter.widget-view+json": {
       "model_id": "4a893b56484243579e87f7f81efcf7bd",
       "version_major": 2,
       "version_minor": 0
      },
      "text/plain": [
       "Preprocessing:   0%|          | 0/3 [00:00<?, ?file/s]"
      ]
     },
     "metadata": {},
     "output_type": "display_data"
    },
    {
     "data": {
      "application/vnd.jupyter.widget-view+json": {
       "model_id": "3a835832fa5c447088dff267cc5165a3",
       "version_major": 2,
       "version_minor": 0
      },
      "text/plain": [
       "Processing:   0%|          | 0/53 [00:00<?, ?chunk/s]"
      ]
     },
     "metadata": {},
     "output_type": "display_data"
    }
   ],
   "source": [
    "mc_hists_2016 = processor.run_uproot_job(files[2016]['mc'],\n",
    "                                'ZPKUCandidates',\n",
    "                                MyProcessor(year=2016,is_mc=True,uncer=\"nom\",is_fake=False,channel=\"EB\",region=\"SR\"),\n",
    "                                processor.futures_executor,\n",
    "                                chunksize=10000,\n",
    "                                executor_args = {'schema': BaseSchema, 'workers': 4}\n",
    "                                )"
   ]
  },
  {
   "cell_type": "code",
   "execution_count": 8,
   "id": "69ec7ee7",
   "metadata": {},
   "outputs": [
    {
     "name": "stdout",
     "output_type": "stream",
     "text": [
      "{'year': 2016, 'is_mc': False, 'uncer': 'nom', 'is_fake': False, 'channel': 'EB', 'region': 'SR'}\n"
     ]
    },
    {
     "data": {
      "application/vnd.jupyter.widget-view+json": {
       "model_id": "6d1ff1e8d45a49e8bf7a075be752ec38",
       "version_major": 2,
       "version_minor": 0
      },
      "text/plain": [
       "Preprocessing:   0%|          | 0/1 [00:00<?, ?file/s]"
      ]
     },
     "metadata": {},
     "output_type": "display_data"
    },
    {
     "data": {
      "application/vnd.jupyter.widget-view+json": {
       "model_id": "56034b77859b4b8fb8d1b1efd1da64b6",
       "version_major": 2,
       "version_minor": 0
      },
      "text/plain": [
       "Processing:   0%|          | 0/4 [00:00<?, ?chunk/s]"
      ]
     },
     "metadata": {},
     "output_type": "display_data"
    }
   ],
   "source": [
    "data_hists_2016 = processor.run_uproot_job(files[2016]['data'],\n",
    "                                'ZPKUCandidates',\n",
    "                                MyProcessor(year=2016,is_mc=False,uncer=\"nom\",is_fake=False,channel=\"EB\",region=\"SR\"),\n",
    "                                processor.futures_executor,\n",
    "                                chunksize=10000,\n",
    "                                executor_args = {'schema': BaseSchema, 'workers': 4}\n",
    "                                )"
   ]
  },
  {
   "cell_type": "code",
   "execution_count": 41,
   "id": "e887a5c9",
   "metadata": {},
   "outputs": [
    {
     "name": "stdout",
     "output_type": "stream",
     "text": [
      "{'year': 2016, 'is_mc': False, 'uncer': 'nom', 'is_fake': True, 'channel': 'EB', 'region': 'SR'}\n"
     ]
    },
    {
     "data": {
      "application/vnd.jupyter.widget-view+json": {
       "model_id": "69a64fce16e74cb1b24c6368d5b8accb",
       "version_major": 2,
       "version_minor": 0
      },
      "text/plain": [
       "Processing:   0%|          | 0/5 [00:00<?, ?chunk/s]"
      ]
     },
     "metadata": {},
     "output_type": "display_data"
    }
   ],
   "source": [
    "fake_hists_2016 = processor.run_uproot_job(files[2016]['fake'],\n",
    "                                'ZPKUCandidates',\n",
    "                                MyProcessor(year=2016,is_mc=False,uncer=\"nom\",is_fake=True,channel=\"EB\",region=\"SR\"),\n",
    "                                processor.futures_executor,\n",
    "                                chunksize=10000,\n",
    "                                executor_args = {'schema': BaseSchema, 'workers': 4}\n",
    "                                )"
   ]
  },
  {
   "cell_type": "code",
   "execution_count": 42,
   "id": "1c283ba5",
   "metadata": {},
   "outputs": [
    {
     "name": "stdout",
     "output_type": "stream",
     "text": [
      "{'year': 2016, 'is_mc': False, 'uncer': 'nom', 'is_fake': True, 'channel': 'EB', 'region': 'SR'}\n"
     ]
    },
    {
     "data": {
      "application/vnd.jupyter.widget-view+json": {
       "model_id": "7eee5588230d4b0b8bae9b2da713fef2",
       "version_major": 2,
       "version_minor": 0
      },
      "text/plain": [
       "Processing:   0%|          | 0/5 [00:00<?, ?chunk/s]"
      ]
     },
     "metadata": {},
     "output_type": "display_data"
    }
   ],
   "source": [
    "fake_up_hists_2016 = processor.run_uproot_job(files[2016]['fake_up'],\n",
    "                                'ZPKUCandidates',\n",
    "                                MyProcessor(year=2016,is_mc=False,uncer=\"nom\",is_fake=True,channel=\"EB\",region=\"SR\"),\n",
    "                                processor.futures_executor,\n",
    "                                chunksize=10000,\n",
    "                                executor_args = {'schema': BaseSchema, 'workers': 4}\n",
    "                                )"
   ]
  },
  {
   "cell_type": "code",
   "execution_count": 16,
   "id": "43e0cadc",
   "metadata": {},
   "outputs": [
    {
     "name": "stdout",
     "output_type": "stream",
     "text": [
      "{'year': 2016, 'is_mc': False, 'uncer': 'nom', 'is_fake': True, 'channel': 'EB', 'region': 'SR'}\n"
     ]
    },
    {
     "data": {
      "application/vnd.jupyter.widget-view+json": {
       "model_id": "da3fcdf108ed4b2ab42a87272cd3be87",
       "version_major": 2,
       "version_minor": 0
      },
      "text/plain": [
       "Preprocessing:   0%|          | 0/1 [00:00<?, ?file/s]"
      ]
     },
     "metadata": {},
     "output_type": "display_data"
    },
    {
     "data": {
      "application/vnd.jupyter.widget-view+json": {
       "model_id": "c95493d565d34abfa6c6677af60d048a",
       "version_major": 2,
       "version_minor": 0
      },
      "text/plain": [
       "Processing:   0%|          | 0/5 [00:00<?, ?chunk/s]"
      ]
     },
     "metadata": {},
     "output_type": "display_data"
    }
   ],
   "source": [
    "fake_down_hists_2016 = processor.run_uproot_job(files[2016]['fake_down'],\n",
    "                                'ZPKUCandidates',\n",
    "                                MyProcessor(year=2016,is_mc=False,uncer=\"nom\",is_fake=True,channel=\"EB\",region=\"SR\"),\n",
    "                                processor.futures_executor,\n",
    "                                chunksize=10000,\n",
    "                                executor_args = {'schema': BaseSchema, 'workers': 4}\n",
    "                                )"
   ]
  },
  {
   "cell_type": "markdown",
   "id": "1bfdfa94",
   "metadata": {},
   "source": [
    "### 2016 all"
   ]
  },
  {
   "cell_type": "code",
   "execution_count": 8,
   "id": "66926f6d",
   "metadata": {},
   "outputs": [
    {
     "name": "stdout",
     "output_type": "stream",
     "text": [
      "=========> 2016 channel: ALL icate: mc\n",
      "{'year': 2016, 'is_mc': True, 'uncer': 'nom', 'is_fake': False, 'channel': 'ALL', 'region': 'SR'}\n"
     ]
    },
    {
     "data": {
      "application/vnd.jupyter.widget-view+json": {
       "model_id": "e3be68e257ca44b3a3928d797af653d3",
       "version_major": 2,
       "version_minor": 0
      },
      "text/plain": [
       "Processing:   0%|          | 0/53 [00:00<?, ?chunk/s]"
      ]
     },
     "metadata": {},
     "output_type": "display_data"
    },
    {
     "name": "stdout",
     "output_type": "stream",
     "text": [
      "=========> 2016 channel: ALL icate: data\n",
      "{'year': 2016, 'is_mc': False, 'uncer': 'nom', 'is_fake': False, 'channel': 'ALL', 'region': 'SR'}\n"
     ]
    },
    {
     "data": {
      "application/vnd.jupyter.widget-view+json": {
       "model_id": "32790c3a6e984c12bcff4a16e49b80b7",
       "version_major": 2,
       "version_minor": 0
      },
      "text/plain": [
       "Preprocessing:   0%|          | 0/1 [00:00<?, ?file/s]"
      ]
     },
     "metadata": {},
     "output_type": "display_data"
    },
    {
     "data": {
      "application/vnd.jupyter.widget-view+json": {
       "model_id": "e9445e3f5944475588ece2951f7e988c",
       "version_major": 2,
       "version_minor": 0
      },
      "text/plain": [
       "Processing:   0%|          | 0/4 [00:00<?, ?chunk/s]"
      ]
     },
     "metadata": {},
     "output_type": "display_data"
    },
    {
     "name": "stdout",
     "output_type": "stream",
     "text": [
      "=========> 2016 channel: ALL icate: fake\n",
      "{'year': 2016, 'is_mc': False, 'uncer': 'nom', 'is_fake': True, 'channel': 'ALL', 'region': 'SR'}\n"
     ]
    },
    {
     "data": {
      "application/vnd.jupyter.widget-view+json": {
       "model_id": "019c7116033c464c8fb561d5cfde1b41",
       "version_major": 2,
       "version_minor": 0
      },
      "text/plain": [
       "Preprocessing:   0%|          | 0/1 [00:00<?, ?file/s]"
      ]
     },
     "metadata": {},
     "output_type": "display_data"
    },
    {
     "data": {
      "application/vnd.jupyter.widget-view+json": {
       "model_id": "c6aa8d30d0f54eb48d26c3c4d75b6b7a",
       "version_major": 2,
       "version_minor": 0
      },
      "text/plain": [
       "Processing:   0%|          | 0/5 [00:00<?, ?chunk/s]"
      ]
     },
     "metadata": {},
     "output_type": "display_data"
    },
    {
     "name": "stdout",
     "output_type": "stream",
     "text": [
      "=========> 2016 channel: ALL icate: fake_up\n",
      "{'year': 2016, 'is_mc': False, 'uncer': 'nom', 'is_fake': True, 'channel': 'ALL', 'region': 'SR'}\n"
     ]
    },
    {
     "data": {
      "application/vnd.jupyter.widget-view+json": {
       "model_id": "4d8aa625bad5418086fadaa628aac1d8",
       "version_major": 2,
       "version_minor": 0
      },
      "text/plain": [
       "Preprocessing:   0%|          | 0/1 [00:00<?, ?file/s]"
      ]
     },
     "metadata": {},
     "output_type": "display_data"
    },
    {
     "data": {
      "application/vnd.jupyter.widget-view+json": {
       "model_id": "d56be71c34304039b538cd9d9ecf1ca0",
       "version_major": 2,
       "version_minor": 0
      },
      "text/plain": [
       "Processing:   0%|          | 0/5 [00:00<?, ?chunk/s]"
      ]
     },
     "metadata": {},
     "output_type": "display_data"
    },
    {
     "name": "stdout",
     "output_type": "stream",
     "text": [
      "=========> 2016 channel: ALL icate: fake_down\n",
      "{'year': 2016, 'is_mc': False, 'uncer': 'nom', 'is_fake': True, 'channel': 'ALL', 'region': 'SR'}\n"
     ]
    },
    {
     "data": {
      "application/vnd.jupyter.widget-view+json": {
       "model_id": "648495101b79479faeafca55902e17b1",
       "version_major": 2,
       "version_minor": 0
      },
      "text/plain": [
       "Preprocessing:   0%|          | 0/1 [00:00<?, ?file/s]"
      ]
     },
     "metadata": {},
     "output_type": "display_data"
    },
    {
     "data": {
      "application/vnd.jupyter.widget-view+json": {
       "model_id": "9ad990bd2acf4383a8cd6bd9122c0281",
       "version_major": 2,
       "version_minor": 0
      },
      "text/plain": [
       "Processing:   0%|          | 0/5 [00:00<?, ?chunk/s]"
      ]
     },
     "metadata": {},
     "output_type": "display_data"
    },
    {
     "name": "stdout",
     "output_type": "stream",
     "text": [
      "=========> 2016 channel: ALL icate: JEC_up\n",
      "{'year': 2016, 'is_mc': True, 'uncer': 'JEC_up', 'is_fake': False, 'channel': 'ALL', 'region': 'SR'}\n"
     ]
    },
    {
     "data": {
      "application/vnd.jupyter.widget-view+json": {
       "model_id": "4e1fce2468d340c6b346bbda3f99f960",
       "version_major": 2,
       "version_minor": 0
      },
      "text/plain": [
       "Preprocessing:   0%|          | 0/3 [00:00<?, ?file/s]"
      ]
     },
     "metadata": {},
     "output_type": "display_data"
    },
    {
     "data": {
      "application/vnd.jupyter.widget-view+json": {
       "model_id": "d4b444fee16f4e0d974cc7b87c88c4d5",
       "version_major": 2,
       "version_minor": 0
      },
      "text/plain": [
       "Processing:   0%|          | 0/52 [00:00<?, ?chunk/s]"
      ]
     },
     "metadata": {},
     "output_type": "display_data"
    },
    {
     "name": "stdout",
     "output_type": "stream",
     "text": [
      "=========> 2016 channel: ALL icate: JEC_down\n",
      "{'year': 2016, 'is_mc': True, 'uncer': 'JEC_down', 'is_fake': False, 'channel': 'ALL', 'region': 'SR'}\n"
     ]
    },
    {
     "data": {
      "application/vnd.jupyter.widget-view+json": {
       "model_id": "b34c1c412756487ba022e7b062398a38",
       "version_major": 2,
       "version_minor": 0
      },
      "text/plain": [
       "Processing:   0%|          | 0/52 [00:00<?, ?chunk/s]"
      ]
     },
     "metadata": {},
     "output_type": "display_data"
    },
    {
     "name": "stdout",
     "output_type": "stream",
     "text": [
      "=========> 2016 channel: ALL icate: JER_up\n",
      "{'year': 2016, 'is_mc': True, 'uncer': 'JER_up', 'is_fake': False, 'channel': 'ALL', 'region': 'SR'}\n"
     ]
    },
    {
     "data": {
      "application/vnd.jupyter.widget-view+json": {
       "model_id": "c5e96d4fb6e54f118d3f0dd180f8ddb4",
       "version_major": 2,
       "version_minor": 0
      },
      "text/plain": [
       "Processing:   0%|          | 0/52 [00:00<?, ?chunk/s]"
      ]
     },
     "metadata": {},
     "output_type": "display_data"
    },
    {
     "name": "stdout",
     "output_type": "stream",
     "text": [
      "=========> 2016 channel: ALL icate: JER_down\n",
      "{'year': 2016, 'is_mc': True, 'uncer': 'JER_down', 'is_fake': False, 'channel': 'ALL', 'region': 'SR'}\n"
     ]
    },
    {
     "data": {
      "application/vnd.jupyter.widget-view+json": {
       "model_id": "7ba06bfc524a49209c5d81f262463fba",
       "version_major": 2,
       "version_minor": 0
      },
      "text/plain": [
       "Processing:   0%|          | 0/52 [00:00<?, ?chunk/s]"
      ]
     },
     "metadata": {},
     "output_type": "display_data"
    },
    {
     "name": "stdout",
     "output_type": "stream",
     "text": [
      "=========> 2016 channel: EB icate: mc\n",
      "{'year': 2016, 'is_mc': True, 'uncer': 'nom', 'is_fake': False, 'channel': 'EB', 'region': 'SR'}\n"
     ]
    },
    {
     "data": {
      "application/vnd.jupyter.widget-view+json": {
       "model_id": "65876037917945fe875aa9c8bb2f1f5d",
       "version_major": 2,
       "version_minor": 0
      },
      "text/plain": [
       "Processing:   0%|          | 0/53 [00:00<?, ?chunk/s]"
      ]
     },
     "metadata": {},
     "output_type": "display_data"
    },
    {
     "name": "stdout",
     "output_type": "stream",
     "text": [
      "=========> 2016 channel: EB icate: data\n",
      "{'year': 2016, 'is_mc': False, 'uncer': 'nom', 'is_fake': False, 'channel': 'EB', 'region': 'SR'}\n"
     ]
    },
    {
     "data": {
      "application/vnd.jupyter.widget-view+json": {
       "model_id": "3ab198e35ccc47818f2159b15d5199bd",
       "version_major": 2,
       "version_minor": 0
      },
      "text/plain": [
       "Processing:   0%|          | 0/4 [00:00<?, ?chunk/s]"
      ]
     },
     "metadata": {},
     "output_type": "display_data"
    },
    {
     "name": "stdout",
     "output_type": "stream",
     "text": [
      "=========> 2016 channel: EB icate: fake\n",
      "{'year': 2016, 'is_mc': False, 'uncer': 'nom', 'is_fake': True, 'channel': 'EB', 'region': 'SR'}\n"
     ]
    },
    {
     "data": {
      "application/vnd.jupyter.widget-view+json": {
       "model_id": "640ce5eed17642b0894cbe10f1c60f46",
       "version_major": 2,
       "version_minor": 0
      },
      "text/plain": [
       "Processing:   0%|          | 0/5 [00:00<?, ?chunk/s]"
      ]
     },
     "metadata": {},
     "output_type": "display_data"
    },
    {
     "name": "stdout",
     "output_type": "stream",
     "text": [
      "=========> 2016 channel: EB icate: fake_up\n",
      "{'year': 2016, 'is_mc': False, 'uncer': 'nom', 'is_fake': True, 'channel': 'EB', 'region': 'SR'}\n"
     ]
    },
    {
     "data": {
      "application/vnd.jupyter.widget-view+json": {
       "model_id": "aed4bfeed3a54409b310790a718875cc",
       "version_major": 2,
       "version_minor": 0
      },
      "text/plain": [
       "Processing:   0%|          | 0/5 [00:00<?, ?chunk/s]"
      ]
     },
     "metadata": {},
     "output_type": "display_data"
    },
    {
     "name": "stdout",
     "output_type": "stream",
     "text": [
      "=========> 2016 channel: EB icate: fake_down\n",
      "{'year': 2016, 'is_mc': False, 'uncer': 'nom', 'is_fake': True, 'channel': 'EB', 'region': 'SR'}\n"
     ]
    },
    {
     "data": {
      "application/vnd.jupyter.widget-view+json": {
       "model_id": "ba96ba355bd547ada463b93b03a0bc4b",
       "version_major": 2,
       "version_minor": 0
      },
      "text/plain": [
       "Processing:   0%|          | 0/5 [00:00<?, ?chunk/s]"
      ]
     },
     "metadata": {},
     "output_type": "display_data"
    },
    {
     "name": "stdout",
     "output_type": "stream",
     "text": [
      "=========> 2016 channel: EB icate: JEC_up\n",
      "{'year': 2016, 'is_mc': True, 'uncer': 'JEC_up', 'is_fake': False, 'channel': 'EB', 'region': 'SR'}\n"
     ]
    },
    {
     "data": {
      "application/vnd.jupyter.widget-view+json": {
       "model_id": "0b3f215616e74dcc9953d067d1e8911d",
       "version_major": 2,
       "version_minor": 0
      },
      "text/plain": [
       "Processing:   0%|          | 0/52 [00:00<?, ?chunk/s]"
      ]
     },
     "metadata": {},
     "output_type": "display_data"
    },
    {
     "name": "stdout",
     "output_type": "stream",
     "text": [
      "=========> 2016 channel: EB icate: JEC_down\n",
      "{'year': 2016, 'is_mc': True, 'uncer': 'JEC_down', 'is_fake': False, 'channel': 'EB', 'region': 'SR'}\n"
     ]
    },
    {
     "data": {
      "application/vnd.jupyter.widget-view+json": {
       "model_id": "ddd440c1ef6f49ff8118f13e38c23501",
       "version_major": 2,
       "version_minor": 0
      },
      "text/plain": [
       "Processing:   0%|          | 0/52 [00:00<?, ?chunk/s]"
      ]
     },
     "metadata": {},
     "output_type": "display_data"
    },
    {
     "name": "stdout",
     "output_type": "stream",
     "text": [
      "=========> 2016 channel: EB icate: JER_up\n",
      "{'year': 2016, 'is_mc': True, 'uncer': 'JER_up', 'is_fake': False, 'channel': 'EB', 'region': 'SR'}\n"
     ]
    },
    {
     "data": {
      "application/vnd.jupyter.widget-view+json": {
       "model_id": "01538d42606b4777b6891789b55aa07d",
       "version_major": 2,
       "version_minor": 0
      },
      "text/plain": [
       "Processing:   0%|          | 0/52 [00:00<?, ?chunk/s]"
      ]
     },
     "metadata": {},
     "output_type": "display_data"
    },
    {
     "name": "stdout",
     "output_type": "stream",
     "text": [
      "=========> 2016 channel: EB icate: JER_down\n",
      "{'year': 2016, 'is_mc': True, 'uncer': 'JER_down', 'is_fake': False, 'channel': 'EB', 'region': 'SR'}\n"
     ]
    },
    {
     "data": {
      "application/vnd.jupyter.widget-view+json": {
       "model_id": "c924724cc9ba449c8e88071faca38327",
       "version_major": 2,
       "version_minor": 0
      },
      "text/plain": [
       "Processing:   0%|          | 0/52 [00:00<?, ?chunk/s]"
      ]
     },
     "metadata": {},
     "output_type": "display_data"
    },
    {
     "name": "stdout",
     "output_type": "stream",
     "text": [
      "=========> 2016 channel: MB icate: mc\n",
      "{'year': 2016, 'is_mc': True, 'uncer': 'nom', 'is_fake': False, 'channel': 'MB', 'region': 'SR'}\n"
     ]
    },
    {
     "data": {
      "application/vnd.jupyter.widget-view+json": {
       "model_id": "03d2a879439f4abe9b0b2e9a0044c5e5",
       "version_major": 2,
       "version_minor": 0
      },
      "text/plain": [
       "Processing:   0%|          | 0/53 [00:00<?, ?chunk/s]"
      ]
     },
     "metadata": {},
     "output_type": "display_data"
    },
    {
     "name": "stdout",
     "output_type": "stream",
     "text": [
      "=========> 2016 channel: MB icate: data\n",
      "{'year': 2016, 'is_mc': False, 'uncer': 'nom', 'is_fake': False, 'channel': 'MB', 'region': 'SR'}\n"
     ]
    },
    {
     "data": {
      "application/vnd.jupyter.widget-view+json": {
       "model_id": "5d5ab4ab6fea49a587f64549504d545c",
       "version_major": 2,
       "version_minor": 0
      },
      "text/plain": [
       "Processing:   0%|          | 0/4 [00:00<?, ?chunk/s]"
      ]
     },
     "metadata": {},
     "output_type": "display_data"
    },
    {
     "name": "stdout",
     "output_type": "stream",
     "text": [
      "=========> 2016 channel: MB icate: fake\n",
      "{'year': 2016, 'is_mc': False, 'uncer': 'nom', 'is_fake': True, 'channel': 'MB', 'region': 'SR'}\n"
     ]
    },
    {
     "data": {
      "application/vnd.jupyter.widget-view+json": {
       "model_id": "d3ea9dc2c6934cbfaa4302fe50a158af",
       "version_major": 2,
       "version_minor": 0
      },
      "text/plain": [
       "Processing:   0%|          | 0/5 [00:00<?, ?chunk/s]"
      ]
     },
     "metadata": {},
     "output_type": "display_data"
    },
    {
     "name": "stdout",
     "output_type": "stream",
     "text": [
      "=========> 2016 channel: MB icate: fake_up\n",
      "{'year': 2016, 'is_mc': False, 'uncer': 'nom', 'is_fake': True, 'channel': 'MB', 'region': 'SR'}\n"
     ]
    },
    {
     "data": {
      "application/vnd.jupyter.widget-view+json": {
       "model_id": "074ae3d62274402fa963dbc860432197",
       "version_major": 2,
       "version_minor": 0
      },
      "text/plain": [
       "Processing:   0%|          | 0/5 [00:00<?, ?chunk/s]"
      ]
     },
     "metadata": {},
     "output_type": "display_data"
    },
    {
     "name": "stdout",
     "output_type": "stream",
     "text": [
      "=========> 2016 channel: MB icate: fake_down\n",
      "{'year': 2016, 'is_mc': False, 'uncer': 'nom', 'is_fake': True, 'channel': 'MB', 'region': 'SR'}\n"
     ]
    },
    {
     "data": {
      "application/vnd.jupyter.widget-view+json": {
       "model_id": "6f1c2f09eca6421e96b98759772f647e",
       "version_major": 2,
       "version_minor": 0
      },
      "text/plain": [
       "Processing:   0%|          | 0/5 [00:00<?, ?chunk/s]"
      ]
     },
     "metadata": {},
     "output_type": "display_data"
    },
    {
     "name": "stdout",
     "output_type": "stream",
     "text": [
      "=========> 2016 channel: MB icate: JEC_up\n",
      "{'year': 2016, 'is_mc': True, 'uncer': 'JEC_up', 'is_fake': False, 'channel': 'MB', 'region': 'SR'}\n"
     ]
    },
    {
     "data": {
      "application/vnd.jupyter.widget-view+json": {
       "model_id": "6989746a41c24c449a8a8e289c289564",
       "version_major": 2,
       "version_minor": 0
      },
      "text/plain": [
       "Processing:   0%|          | 0/52 [00:00<?, ?chunk/s]"
      ]
     },
     "metadata": {},
     "output_type": "display_data"
    },
    {
     "name": "stdout",
     "output_type": "stream",
     "text": [
      "=========> 2016 channel: MB icate: JEC_down\n",
      "{'year': 2016, 'is_mc': True, 'uncer': 'JEC_down', 'is_fake': False, 'channel': 'MB', 'region': 'SR'}\n"
     ]
    },
    {
     "data": {
      "application/vnd.jupyter.widget-view+json": {
       "model_id": "33b7e0a9d94646d191ed420d4edf90e2",
       "version_major": 2,
       "version_minor": 0
      },
      "text/plain": [
       "Processing:   0%|          | 0/52 [00:00<?, ?chunk/s]"
      ]
     },
     "metadata": {},
     "output_type": "display_data"
    },
    {
     "name": "stdout",
     "output_type": "stream",
     "text": [
      "=========> 2016 channel: MB icate: JER_up\n",
      "{'year': 2016, 'is_mc': True, 'uncer': 'JER_up', 'is_fake': False, 'channel': 'MB', 'region': 'SR'}\n"
     ]
    },
    {
     "data": {
      "application/vnd.jupyter.widget-view+json": {
       "model_id": "2b7daf631af141b38940de758f296f89",
       "version_major": 2,
       "version_minor": 0
      },
      "text/plain": [
       "Processing:   0%|          | 0/52 [00:00<?, ?chunk/s]"
      ]
     },
     "metadata": {},
     "output_type": "display_data"
    },
    {
     "name": "stdout",
     "output_type": "stream",
     "text": [
      "=========> 2016 channel: MB icate: JER_down\n",
      "{'year': 2016, 'is_mc': True, 'uncer': 'JER_down', 'is_fake': False, 'channel': 'MB', 'region': 'SR'}\n"
     ]
    },
    {
     "data": {
      "application/vnd.jupyter.widget-view+json": {
       "model_id": "6acf5bfbc30b42eb8b57136e0e393677",
       "version_major": 2,
       "version_minor": 0
      },
      "text/plain": [
       "Processing:   0%|          | 0/52 [00:00<?, ?chunk/s]"
      ]
     },
     "metadata": {},
     "output_type": "display_data"
    },
    {
     "name": "stdout",
     "output_type": "stream",
     "text": [
      "=========> 2016 channel: EE icate: mc\n",
      "{'year': 2016, 'is_mc': True, 'uncer': 'nom', 'is_fake': False, 'channel': 'EE', 'region': 'SR'}\n"
     ]
    },
    {
     "data": {
      "application/vnd.jupyter.widget-view+json": {
       "model_id": "1a6fdfe41b1d4edb9b0dc4ebb52c8b86",
       "version_major": 2,
       "version_minor": 0
      },
      "text/plain": [
       "Processing:   0%|          | 0/53 [00:00<?, ?chunk/s]"
      ]
     },
     "metadata": {},
     "output_type": "display_data"
    },
    {
     "name": "stdout",
     "output_type": "stream",
     "text": [
      "=========> 2016 channel: EE icate: data\n",
      "{'year': 2016, 'is_mc': False, 'uncer': 'nom', 'is_fake': False, 'channel': 'EE', 'region': 'SR'}\n"
     ]
    },
    {
     "data": {
      "application/vnd.jupyter.widget-view+json": {
       "model_id": "d74933335ff14f41a8bf676833872205",
       "version_major": 2,
       "version_minor": 0
      },
      "text/plain": [
       "Processing:   0%|          | 0/4 [00:00<?, ?chunk/s]"
      ]
     },
     "metadata": {},
     "output_type": "display_data"
    },
    {
     "name": "stdout",
     "output_type": "stream",
     "text": [
      "=========> 2016 channel: EE icate: fake\n",
      "{'year': 2016, 'is_mc': False, 'uncer': 'nom', 'is_fake': True, 'channel': 'EE', 'region': 'SR'}\n"
     ]
    },
    {
     "data": {
      "application/vnd.jupyter.widget-view+json": {
       "model_id": "000d28170d984cc5bb3ac4bd5f57f1c9",
       "version_major": 2,
       "version_minor": 0
      },
      "text/plain": [
       "Processing:   0%|          | 0/5 [00:00<?, ?chunk/s]"
      ]
     },
     "metadata": {},
     "output_type": "display_data"
    },
    {
     "name": "stdout",
     "output_type": "stream",
     "text": [
      "=========> 2016 channel: EE icate: fake_up\n",
      "{'year': 2016, 'is_mc': False, 'uncer': 'nom', 'is_fake': True, 'channel': 'EE', 'region': 'SR'}\n"
     ]
    },
    {
     "data": {
      "application/vnd.jupyter.widget-view+json": {
       "model_id": "c6b6562995b24022aca92690cfaa9c3f",
       "version_major": 2,
       "version_minor": 0
      },
      "text/plain": [
       "Processing:   0%|          | 0/5 [00:00<?, ?chunk/s]"
      ]
     },
     "metadata": {},
     "output_type": "display_data"
    },
    {
     "name": "stdout",
     "output_type": "stream",
     "text": [
      "=========> 2016 channel: EE icate: fake_down\n",
      "{'year': 2016, 'is_mc': False, 'uncer': 'nom', 'is_fake': True, 'channel': 'EE', 'region': 'SR'}\n"
     ]
    },
    {
     "data": {
      "application/vnd.jupyter.widget-view+json": {
       "model_id": "18499922cfc24efb8b2155cab70e9a82",
       "version_major": 2,
       "version_minor": 0
      },
      "text/plain": [
       "Processing:   0%|          | 0/5 [00:00<?, ?chunk/s]"
      ]
     },
     "metadata": {},
     "output_type": "display_data"
    },
    {
     "name": "stdout",
     "output_type": "stream",
     "text": [
      "=========> 2016 channel: EE icate: JEC_up\n",
      "{'year': 2016, 'is_mc': True, 'uncer': 'JEC_up', 'is_fake': False, 'channel': 'EE', 'region': 'SR'}\n"
     ]
    },
    {
     "data": {
      "application/vnd.jupyter.widget-view+json": {
       "model_id": "fd2c81c9c9a546e7b53ef8ee8984aba1",
       "version_major": 2,
       "version_minor": 0
      },
      "text/plain": [
       "Processing:   0%|          | 0/52 [00:00<?, ?chunk/s]"
      ]
     },
     "metadata": {},
     "output_type": "display_data"
    },
    {
     "name": "stdout",
     "output_type": "stream",
     "text": [
      "=========> 2016 channel: EE icate: JEC_down\n",
      "{'year': 2016, 'is_mc': True, 'uncer': 'JEC_down', 'is_fake': False, 'channel': 'EE', 'region': 'SR'}\n"
     ]
    },
    {
     "data": {
      "application/vnd.jupyter.widget-view+json": {
       "model_id": "53c9e7759bb44cb099130ea945c028db",
       "version_major": 2,
       "version_minor": 0
      },
      "text/plain": [
       "Processing:   0%|          | 0/52 [00:00<?, ?chunk/s]"
      ]
     },
     "metadata": {},
     "output_type": "display_data"
    },
    {
     "name": "stdout",
     "output_type": "stream",
     "text": [
      "=========> 2016 channel: EE icate: JER_up\n",
      "{'year': 2016, 'is_mc': True, 'uncer': 'JER_up', 'is_fake': False, 'channel': 'EE', 'region': 'SR'}\n"
     ]
    },
    {
     "data": {
      "application/vnd.jupyter.widget-view+json": {
       "model_id": "313b5b26059c42e9b76c9b1329a9f150",
       "version_major": 2,
       "version_minor": 0
      },
      "text/plain": [
       "Processing:   0%|          | 0/52 [00:00<?, ?chunk/s]"
      ]
     },
     "metadata": {},
     "output_type": "display_data"
    },
    {
     "name": "stdout",
     "output_type": "stream",
     "text": [
      "=========> 2016 channel: EE icate: JER_down\n",
      "{'year': 2016, 'is_mc': True, 'uncer': 'JER_down', 'is_fake': False, 'channel': 'EE', 'region': 'SR'}\n"
     ]
    },
    {
     "data": {
      "application/vnd.jupyter.widget-view+json": {
       "model_id": "0688d029a0f947e4b27225366f1e1b4e",
       "version_major": 2,
       "version_minor": 0
      },
      "text/plain": [
       "Processing:   0%|          | 0/52 [00:00<?, ?chunk/s]"
      ]
     },
     "metadata": {},
     "output_type": "display_data"
    },
    {
     "name": "stdout",
     "output_type": "stream",
     "text": [
      "=========> 2016 channel: ME icate: mc\n",
      "{'year': 2016, 'is_mc': True, 'uncer': 'nom', 'is_fake': False, 'channel': 'ME', 'region': 'SR'}\n"
     ]
    },
    {
     "data": {
      "application/vnd.jupyter.widget-view+json": {
       "model_id": "ef09bbe7729c48b2a4c04eea46991c1a",
       "version_major": 2,
       "version_minor": 0
      },
      "text/plain": [
       "Processing:   0%|          | 0/53 [00:00<?, ?chunk/s]"
      ]
     },
     "metadata": {},
     "output_type": "display_data"
    },
    {
     "name": "stdout",
     "output_type": "stream",
     "text": [
      "=========> 2016 channel: ME icate: data\n",
      "{'year': 2016, 'is_mc': False, 'uncer': 'nom', 'is_fake': False, 'channel': 'ME', 'region': 'SR'}\n"
     ]
    },
    {
     "data": {
      "application/vnd.jupyter.widget-view+json": {
       "model_id": "fb29ed4a3f6346f69c145d7bd7d4e2c6",
       "version_major": 2,
       "version_minor": 0
      },
      "text/plain": [
       "Processing:   0%|          | 0/4 [00:00<?, ?chunk/s]"
      ]
     },
     "metadata": {},
     "output_type": "display_data"
    },
    {
     "name": "stdout",
     "output_type": "stream",
     "text": [
      "=========> 2016 channel: ME icate: fake\n",
      "{'year': 2016, 'is_mc': False, 'uncer': 'nom', 'is_fake': True, 'channel': 'ME', 'region': 'SR'}\n"
     ]
    },
    {
     "data": {
      "application/vnd.jupyter.widget-view+json": {
       "model_id": "c2a6231fea1542a197538af13ceb69ff",
       "version_major": 2,
       "version_minor": 0
      },
      "text/plain": [
       "Processing:   0%|          | 0/5 [00:00<?, ?chunk/s]"
      ]
     },
     "metadata": {},
     "output_type": "display_data"
    },
    {
     "name": "stdout",
     "output_type": "stream",
     "text": [
      "=========> 2016 channel: ME icate: fake_up\n",
      "{'year': 2016, 'is_mc': False, 'uncer': 'nom', 'is_fake': True, 'channel': 'ME', 'region': 'SR'}\n"
     ]
    },
    {
     "data": {
      "application/vnd.jupyter.widget-view+json": {
       "model_id": "dcb32c79d02e4b6cb4a321354068fbbc",
       "version_major": 2,
       "version_minor": 0
      },
      "text/plain": [
       "Processing:   0%|          | 0/5 [00:00<?, ?chunk/s]"
      ]
     },
     "metadata": {},
     "output_type": "display_data"
    },
    {
     "name": "stdout",
     "output_type": "stream",
     "text": [
      "=========> 2016 channel: ME icate: fake_down\n",
      "{'year': 2016, 'is_mc': False, 'uncer': 'nom', 'is_fake': True, 'channel': 'ME', 'region': 'SR'}\n"
     ]
    },
    {
     "data": {
      "application/vnd.jupyter.widget-view+json": {
       "model_id": "cfaaff8bb68c495689f579763f09b20d",
       "version_major": 2,
       "version_minor": 0
      },
      "text/plain": [
       "Processing:   0%|          | 0/5 [00:00<?, ?chunk/s]"
      ]
     },
     "metadata": {},
     "output_type": "display_data"
    },
    {
     "name": "stdout",
     "output_type": "stream",
     "text": [
      "=========> 2016 channel: ME icate: JEC_up\n",
      "{'year': 2016, 'is_mc': True, 'uncer': 'JEC_up', 'is_fake': False, 'channel': 'ME', 'region': 'SR'}\n"
     ]
    },
    {
     "data": {
      "application/vnd.jupyter.widget-view+json": {
       "model_id": "4f8bd4d135a74d4490729a838ee77354",
       "version_major": 2,
       "version_minor": 0
      },
      "text/plain": [
       "Processing:   0%|          | 0/52 [00:00<?, ?chunk/s]"
      ]
     },
     "metadata": {},
     "output_type": "display_data"
    },
    {
     "name": "stdout",
     "output_type": "stream",
     "text": [
      "=========> 2016 channel: ME icate: JEC_down\n",
      "{'year': 2016, 'is_mc': True, 'uncer': 'JEC_down', 'is_fake': False, 'channel': 'ME', 'region': 'SR'}\n"
     ]
    },
    {
     "data": {
      "application/vnd.jupyter.widget-view+json": {
       "model_id": "830eae0a3be6434885f0401a9b18cb2e",
       "version_major": 2,
       "version_minor": 0
      },
      "text/plain": [
       "Processing:   0%|          | 0/52 [00:00<?, ?chunk/s]"
      ]
     },
     "metadata": {},
     "output_type": "display_data"
    },
    {
     "name": "stdout",
     "output_type": "stream",
     "text": [
      "=========> 2016 channel: ME icate: JER_up\n",
      "{'year': 2016, 'is_mc': True, 'uncer': 'JER_up', 'is_fake': False, 'channel': 'ME', 'region': 'SR'}\n"
     ]
    },
    {
     "data": {
      "application/vnd.jupyter.widget-view+json": {
       "model_id": "7b96047ba1a84941aa573b3e28095153",
       "version_major": 2,
       "version_minor": 0
      },
      "text/plain": [
       "Processing:   0%|          | 0/52 [00:00<?, ?chunk/s]"
      ]
     },
     "metadata": {},
     "output_type": "display_data"
    },
    {
     "name": "stdout",
     "output_type": "stream",
     "text": [
      "=========> 2016 channel: ME icate: JER_down\n",
      "{'year': 2016, 'is_mc': True, 'uncer': 'JER_down', 'is_fake': False, 'channel': 'ME', 'region': 'SR'}\n"
     ]
    },
    {
     "data": {
      "application/vnd.jupyter.widget-view+json": {
       "model_id": "e2328b248632469da41b9a3b7f32e539",
       "version_major": 2,
       "version_minor": 0
      },
      "text/plain": [
       "Processing:   0%|          | 0/52 [00:00<?, ?chunk/s]"
      ]
     },
     "metadata": {},
     "output_type": "display_data"
    },
    {
     "name": "stdout",
     "output_type": "stream",
     "text": [
      "=========> 2016 channel: ALL icate: mc\n",
      "{'year': 2016, 'is_mc': True, 'uncer': 'nom', 'is_fake': False, 'channel': 'ALL', 'region': 'CR'}\n"
     ]
    },
    {
     "data": {
      "application/vnd.jupyter.widget-view+json": {
       "model_id": "85d85828d07f49a5b64b003717585513",
       "version_major": 2,
       "version_minor": 0
      },
      "text/plain": [
       "Processing:   0%|          | 0/53 [00:00<?, ?chunk/s]"
      ]
     },
     "metadata": {},
     "output_type": "display_data"
    },
    {
     "name": "stdout",
     "output_type": "stream",
     "text": [
      "=========> 2016 channel: ALL icate: data\n",
      "{'year': 2016, 'is_mc': False, 'uncer': 'nom', 'is_fake': False, 'channel': 'ALL', 'region': 'CR'}\n"
     ]
    },
    {
     "data": {
      "application/vnd.jupyter.widget-view+json": {
       "model_id": "90feeaeba76a4f3f8ddcff35336d564b",
       "version_major": 2,
       "version_minor": 0
      },
      "text/plain": [
       "Processing:   0%|          | 0/4 [00:00<?, ?chunk/s]"
      ]
     },
     "metadata": {},
     "output_type": "display_data"
    },
    {
     "name": "stdout",
     "output_type": "stream",
     "text": [
      "=========> 2016 channel: ALL icate: fake\n",
      "{'year': 2016, 'is_mc': False, 'uncer': 'nom', 'is_fake': True, 'channel': 'ALL', 'region': 'CR'}\n"
     ]
    },
    {
     "data": {
      "application/vnd.jupyter.widget-view+json": {
       "model_id": "a04735ff92504868be1692d2c18dd973",
       "version_major": 2,
       "version_minor": 0
      },
      "text/plain": [
       "Processing:   0%|          | 0/5 [00:00<?, ?chunk/s]"
      ]
     },
     "metadata": {},
     "output_type": "display_data"
    },
    {
     "name": "stdout",
     "output_type": "stream",
     "text": [
      "=========> 2016 channel: ALL icate: fake_up\n",
      "{'year': 2016, 'is_mc': False, 'uncer': 'nom', 'is_fake': True, 'channel': 'ALL', 'region': 'CR'}\n"
     ]
    },
    {
     "data": {
      "application/vnd.jupyter.widget-view+json": {
       "model_id": "1bf9cb65bc8d43d285657769fe0076e7",
       "version_major": 2,
       "version_minor": 0
      },
      "text/plain": [
       "Processing:   0%|          | 0/5 [00:00<?, ?chunk/s]"
      ]
     },
     "metadata": {},
     "output_type": "display_data"
    },
    {
     "name": "stdout",
     "output_type": "stream",
     "text": [
      "=========> 2016 channel: ALL icate: fake_down\n",
      "{'year': 2016, 'is_mc': False, 'uncer': 'nom', 'is_fake': True, 'channel': 'ALL', 'region': 'CR'}\n"
     ]
    },
    {
     "data": {
      "application/vnd.jupyter.widget-view+json": {
       "model_id": "6766bc0cd8f041468f2abd517536d8d7",
       "version_major": 2,
       "version_minor": 0
      },
      "text/plain": [
       "Processing:   0%|          | 0/5 [00:00<?, ?chunk/s]"
      ]
     },
     "metadata": {},
     "output_type": "display_data"
    },
    {
     "name": "stdout",
     "output_type": "stream",
     "text": [
      "=========> 2016 channel: ALL icate: JEC_up\n",
      "{'year': 2016, 'is_mc': True, 'uncer': 'JEC_up', 'is_fake': False, 'channel': 'ALL', 'region': 'CR'}\n"
     ]
    },
    {
     "data": {
      "application/vnd.jupyter.widget-view+json": {
       "model_id": "8077680dfd1b42b1b0a2bb614a367bc2",
       "version_major": 2,
       "version_minor": 0
      },
      "text/plain": [
       "Processing:   0%|          | 0/52 [00:00<?, ?chunk/s]"
      ]
     },
     "metadata": {},
     "output_type": "display_data"
    },
    {
     "name": "stdout",
     "output_type": "stream",
     "text": [
      "=========> 2016 channel: ALL icate: JEC_down\n",
      "{'year': 2016, 'is_mc': True, 'uncer': 'JEC_down', 'is_fake': False, 'channel': 'ALL', 'region': 'CR'}\n"
     ]
    },
    {
     "data": {
      "application/vnd.jupyter.widget-view+json": {
       "model_id": "642974228e574bd0b3957f72533bf110",
       "version_major": 2,
       "version_minor": 0
      },
      "text/plain": [
       "Processing:   0%|          | 0/52 [00:00<?, ?chunk/s]"
      ]
     },
     "metadata": {},
     "output_type": "display_data"
    },
    {
     "name": "stdout",
     "output_type": "stream",
     "text": [
      "=========> 2016 channel: ALL icate: JER_up\n",
      "{'year': 2016, 'is_mc': True, 'uncer': 'JER_up', 'is_fake': False, 'channel': 'ALL', 'region': 'CR'}\n"
     ]
    },
    {
     "data": {
      "application/vnd.jupyter.widget-view+json": {
       "model_id": "98fcfc5ce44f494cbfb331afa245fe55",
       "version_major": 2,
       "version_minor": 0
      },
      "text/plain": [
       "Processing:   0%|          | 0/52 [00:00<?, ?chunk/s]"
      ]
     },
     "metadata": {},
     "output_type": "display_data"
    },
    {
     "name": "stdout",
     "output_type": "stream",
     "text": [
      "=========> 2016 channel: ALL icate: JER_down\n",
      "{'year': 2016, 'is_mc': True, 'uncer': 'JER_down', 'is_fake': False, 'channel': 'ALL', 'region': 'CR'}\n"
     ]
    },
    {
     "data": {
      "application/vnd.jupyter.widget-view+json": {
       "model_id": "140fee173ed74165bc34542bb116ff4e",
       "version_major": 2,
       "version_minor": 0
      },
      "text/plain": [
       "Processing:   0%|          | 0/52 [00:00<?, ?chunk/s]"
      ]
     },
     "metadata": {},
     "output_type": "display_data"
    },
    {
     "name": "stdout",
     "output_type": "stream",
     "text": [
      "=========> 2016 channel: EB icate: mc\n",
      "{'year': 2016, 'is_mc': True, 'uncer': 'nom', 'is_fake': False, 'channel': 'EB', 'region': 'CR'}\n"
     ]
    },
    {
     "data": {
      "application/vnd.jupyter.widget-view+json": {
       "model_id": "6e30c786306041a990ce376ab4d09277",
       "version_major": 2,
       "version_minor": 0
      },
      "text/plain": [
       "Processing:   0%|          | 0/53 [00:00<?, ?chunk/s]"
      ]
     },
     "metadata": {},
     "output_type": "display_data"
    },
    {
     "name": "stdout",
     "output_type": "stream",
     "text": [
      "=========> 2016 channel: EB icate: data\n",
      "{'year': 2016, 'is_mc': False, 'uncer': 'nom', 'is_fake': False, 'channel': 'EB', 'region': 'CR'}\n"
     ]
    },
    {
     "data": {
      "application/vnd.jupyter.widget-view+json": {
       "model_id": "9de93210b62844f088a9789c648a3c06",
       "version_major": 2,
       "version_minor": 0
      },
      "text/plain": [
       "Processing:   0%|          | 0/4 [00:00<?, ?chunk/s]"
      ]
     },
     "metadata": {},
     "output_type": "display_data"
    },
    {
     "name": "stdout",
     "output_type": "stream",
     "text": [
      "=========> 2016 channel: EB icate: fake\n",
      "{'year': 2016, 'is_mc': False, 'uncer': 'nom', 'is_fake': True, 'channel': 'EB', 'region': 'CR'}\n"
     ]
    },
    {
     "data": {
      "application/vnd.jupyter.widget-view+json": {
       "model_id": "481a5d7806e741e2a922375919d3d0fd",
       "version_major": 2,
       "version_minor": 0
      },
      "text/plain": [
       "Processing:   0%|          | 0/5 [00:00<?, ?chunk/s]"
      ]
     },
     "metadata": {},
     "output_type": "display_data"
    },
    {
     "name": "stdout",
     "output_type": "stream",
     "text": [
      "=========> 2016 channel: EB icate: fake_up\n",
      "{'year': 2016, 'is_mc': False, 'uncer': 'nom', 'is_fake': True, 'channel': 'EB', 'region': 'CR'}\n"
     ]
    },
    {
     "data": {
      "application/vnd.jupyter.widget-view+json": {
       "model_id": "daec00bcaa474c91b6f8f7abbe18964d",
       "version_major": 2,
       "version_minor": 0
      },
      "text/plain": [
       "Processing:   0%|          | 0/5 [00:00<?, ?chunk/s]"
      ]
     },
     "metadata": {},
     "output_type": "display_data"
    },
    {
     "name": "stdout",
     "output_type": "stream",
     "text": [
      "=========> 2016 channel: EB icate: fake_down\n",
      "{'year': 2016, 'is_mc': False, 'uncer': 'nom', 'is_fake': True, 'channel': 'EB', 'region': 'CR'}\n"
     ]
    },
    {
     "data": {
      "application/vnd.jupyter.widget-view+json": {
       "model_id": "d01e7c584a8949b49d0d07bef9481775",
       "version_major": 2,
       "version_minor": 0
      },
      "text/plain": [
       "Processing:   0%|          | 0/5 [00:00<?, ?chunk/s]"
      ]
     },
     "metadata": {},
     "output_type": "display_data"
    },
    {
     "name": "stdout",
     "output_type": "stream",
     "text": [
      "=========> 2016 channel: EB icate: JEC_up\n",
      "{'year': 2016, 'is_mc': True, 'uncer': 'JEC_up', 'is_fake': False, 'channel': 'EB', 'region': 'CR'}\n"
     ]
    },
    {
     "data": {
      "application/vnd.jupyter.widget-view+json": {
       "model_id": "725c07aa5d414e11ad083d4910bffc02",
       "version_major": 2,
       "version_minor": 0
      },
      "text/plain": [
       "Processing:   0%|          | 0/52 [00:00<?, ?chunk/s]"
      ]
     },
     "metadata": {},
     "output_type": "display_data"
    },
    {
     "name": "stdout",
     "output_type": "stream",
     "text": [
      "=========> 2016 channel: EB icate: JEC_down\n",
      "{'year': 2016, 'is_mc': True, 'uncer': 'JEC_down', 'is_fake': False, 'channel': 'EB', 'region': 'CR'}\n"
     ]
    },
    {
     "data": {
      "application/vnd.jupyter.widget-view+json": {
       "model_id": "0ca0071728be4521a175207a06372d38",
       "version_major": 2,
       "version_minor": 0
      },
      "text/plain": [
       "Processing:   0%|          | 0/52 [00:00<?, ?chunk/s]"
      ]
     },
     "metadata": {},
     "output_type": "display_data"
    },
    {
     "name": "stdout",
     "output_type": "stream",
     "text": [
      "=========> 2016 channel: EB icate: JER_up\n",
      "{'year': 2016, 'is_mc': True, 'uncer': 'JER_up', 'is_fake': False, 'channel': 'EB', 'region': 'CR'}\n"
     ]
    },
    {
     "data": {
      "application/vnd.jupyter.widget-view+json": {
       "model_id": "72f818589f0f4964a6ea5f46abf5c0cd",
       "version_major": 2,
       "version_minor": 0
      },
      "text/plain": [
       "Processing:   0%|          | 0/52 [00:00<?, ?chunk/s]"
      ]
     },
     "metadata": {},
     "output_type": "display_data"
    },
    {
     "name": "stdout",
     "output_type": "stream",
     "text": [
      "=========> 2016 channel: EB icate: JER_down\n",
      "{'year': 2016, 'is_mc': True, 'uncer': 'JER_down', 'is_fake': False, 'channel': 'EB', 'region': 'CR'}\n"
     ]
    },
    {
     "data": {
      "application/vnd.jupyter.widget-view+json": {
       "model_id": "a44d7a563e3342fc94ae56b984914b7b",
       "version_major": 2,
       "version_minor": 0
      },
      "text/plain": [
       "Processing:   0%|          | 0/52 [00:00<?, ?chunk/s]"
      ]
     },
     "metadata": {},
     "output_type": "display_data"
    },
    {
     "name": "stdout",
     "output_type": "stream",
     "text": [
      "=========> 2016 channel: MB icate: mc\n",
      "{'year': 2016, 'is_mc': True, 'uncer': 'nom', 'is_fake': False, 'channel': 'MB', 'region': 'CR'}\n"
     ]
    },
    {
     "data": {
      "application/vnd.jupyter.widget-view+json": {
       "model_id": "53c3088d88d54c2ebe10ed1036244b9d",
       "version_major": 2,
       "version_minor": 0
      },
      "text/plain": [
       "Processing:   0%|          | 0/53 [00:00<?, ?chunk/s]"
      ]
     },
     "metadata": {},
     "output_type": "display_data"
    },
    {
     "name": "stdout",
     "output_type": "stream",
     "text": [
      "=========> 2016 channel: MB icate: data\n",
      "{'year': 2016, 'is_mc': False, 'uncer': 'nom', 'is_fake': False, 'channel': 'MB', 'region': 'CR'}\n"
     ]
    },
    {
     "data": {
      "application/vnd.jupyter.widget-view+json": {
       "model_id": "69b1f203b37e43c28d31b62eff5d5044",
       "version_major": 2,
       "version_minor": 0
      },
      "text/plain": [
       "Processing:   0%|          | 0/4 [00:00<?, ?chunk/s]"
      ]
     },
     "metadata": {},
     "output_type": "display_data"
    },
    {
     "name": "stdout",
     "output_type": "stream",
     "text": [
      "=========> 2016 channel: MB icate: fake\n",
      "{'year': 2016, 'is_mc': False, 'uncer': 'nom', 'is_fake': True, 'channel': 'MB', 'region': 'CR'}\n"
     ]
    },
    {
     "data": {
      "application/vnd.jupyter.widget-view+json": {
       "model_id": "ad093431d06a448b95dc34fa0c73fd46",
       "version_major": 2,
       "version_minor": 0
      },
      "text/plain": [
       "Processing:   0%|          | 0/5 [00:00<?, ?chunk/s]"
      ]
     },
     "metadata": {},
     "output_type": "display_data"
    },
    {
     "name": "stdout",
     "output_type": "stream",
     "text": [
      "=========> 2016 channel: MB icate: fake_up\n",
      "{'year': 2016, 'is_mc': False, 'uncer': 'nom', 'is_fake': True, 'channel': 'MB', 'region': 'CR'}\n"
     ]
    },
    {
     "data": {
      "application/vnd.jupyter.widget-view+json": {
       "model_id": "c631866f16cb4ca9be07bcb7a06f419a",
       "version_major": 2,
       "version_minor": 0
      },
      "text/plain": [
       "Processing:   0%|          | 0/5 [00:00<?, ?chunk/s]"
      ]
     },
     "metadata": {},
     "output_type": "display_data"
    },
    {
     "name": "stdout",
     "output_type": "stream",
     "text": [
      "=========> 2016 channel: MB icate: fake_down\n",
      "{'year': 2016, 'is_mc': False, 'uncer': 'nom', 'is_fake': True, 'channel': 'MB', 'region': 'CR'}\n"
     ]
    },
    {
     "data": {
      "application/vnd.jupyter.widget-view+json": {
       "model_id": "34a48d9d250b43628fef938751e1f2ed",
       "version_major": 2,
       "version_minor": 0
      },
      "text/plain": [
       "Processing:   0%|          | 0/5 [00:00<?, ?chunk/s]"
      ]
     },
     "metadata": {},
     "output_type": "display_data"
    },
    {
     "name": "stdout",
     "output_type": "stream",
     "text": [
      "=========> 2016 channel: MB icate: JEC_up\n",
      "{'year': 2016, 'is_mc': True, 'uncer': 'JEC_up', 'is_fake': False, 'channel': 'MB', 'region': 'CR'}\n"
     ]
    },
    {
     "data": {
      "application/vnd.jupyter.widget-view+json": {
       "model_id": "8dcdd01fa0b5430087a1a530e5906efe",
       "version_major": 2,
       "version_minor": 0
      },
      "text/plain": [
       "Processing:   0%|          | 0/52 [00:00<?, ?chunk/s]"
      ]
     },
     "metadata": {},
     "output_type": "display_data"
    },
    {
     "name": "stdout",
     "output_type": "stream",
     "text": [
      "=========> 2016 channel: MB icate: JEC_down\n",
      "{'year': 2016, 'is_mc': True, 'uncer': 'JEC_down', 'is_fake': False, 'channel': 'MB', 'region': 'CR'}\n"
     ]
    },
    {
     "data": {
      "application/vnd.jupyter.widget-view+json": {
       "model_id": "7fa06a7766194af0a3c17ca947a53fa3",
       "version_major": 2,
       "version_minor": 0
      },
      "text/plain": [
       "Processing:   0%|          | 0/52 [00:00<?, ?chunk/s]"
      ]
     },
     "metadata": {},
     "output_type": "display_data"
    },
    {
     "name": "stdout",
     "output_type": "stream",
     "text": [
      "=========> 2016 channel: MB icate: JER_up\n",
      "{'year': 2016, 'is_mc': True, 'uncer': 'JER_up', 'is_fake': False, 'channel': 'MB', 'region': 'CR'}\n"
     ]
    },
    {
     "data": {
      "application/vnd.jupyter.widget-view+json": {
       "model_id": "b5ed9208fb914ea1b91d43e234a61064",
       "version_major": 2,
       "version_minor": 0
      },
      "text/plain": [
       "Processing:   0%|          | 0/52 [00:00<?, ?chunk/s]"
      ]
     },
     "metadata": {},
     "output_type": "display_data"
    },
    {
     "name": "stdout",
     "output_type": "stream",
     "text": [
      "=========> 2016 channel: MB icate: JER_down\n",
      "{'year': 2016, 'is_mc': True, 'uncer': 'JER_down', 'is_fake': False, 'channel': 'MB', 'region': 'CR'}\n"
     ]
    },
    {
     "data": {
      "application/vnd.jupyter.widget-view+json": {
       "model_id": "76bc1bb528024a0fb8e81b340756fe27",
       "version_major": 2,
       "version_minor": 0
      },
      "text/plain": [
       "Processing:   0%|          | 0/52 [00:00<?, ?chunk/s]"
      ]
     },
     "metadata": {},
     "output_type": "display_data"
    },
    {
     "name": "stdout",
     "output_type": "stream",
     "text": [
      "=========> 2016 channel: EE icate: mc\n",
      "{'year': 2016, 'is_mc': True, 'uncer': 'nom', 'is_fake': False, 'channel': 'EE', 'region': 'CR'}\n"
     ]
    },
    {
     "data": {
      "application/vnd.jupyter.widget-view+json": {
       "model_id": "1d9b5436c04f482d8467aa89fa9d35b6",
       "version_major": 2,
       "version_minor": 0
      },
      "text/plain": [
       "Processing:   0%|          | 0/53 [00:00<?, ?chunk/s]"
      ]
     },
     "metadata": {},
     "output_type": "display_data"
    },
    {
     "name": "stdout",
     "output_type": "stream",
     "text": [
      "=========> 2016 channel: EE icate: data\n",
      "{'year': 2016, 'is_mc': False, 'uncer': 'nom', 'is_fake': False, 'channel': 'EE', 'region': 'CR'}\n"
     ]
    },
    {
     "data": {
      "application/vnd.jupyter.widget-view+json": {
       "model_id": "8a5414805c77419d924b16745625691c",
       "version_major": 2,
       "version_minor": 0
      },
      "text/plain": [
       "Processing:   0%|          | 0/4 [00:00<?, ?chunk/s]"
      ]
     },
     "metadata": {},
     "output_type": "display_data"
    },
    {
     "name": "stdout",
     "output_type": "stream",
     "text": [
      "=========> 2016 channel: EE icate: fake\n",
      "{'year': 2016, 'is_mc': False, 'uncer': 'nom', 'is_fake': True, 'channel': 'EE', 'region': 'CR'}\n"
     ]
    },
    {
     "data": {
      "application/vnd.jupyter.widget-view+json": {
       "model_id": "580765bf18d84675b6895e1497aaf89e",
       "version_major": 2,
       "version_minor": 0
      },
      "text/plain": [
       "Processing:   0%|          | 0/5 [00:00<?, ?chunk/s]"
      ]
     },
     "metadata": {},
     "output_type": "display_data"
    },
    {
     "name": "stdout",
     "output_type": "stream",
     "text": [
      "=========> 2016 channel: EE icate: fake_up\n",
      "{'year': 2016, 'is_mc': False, 'uncer': 'nom', 'is_fake': True, 'channel': 'EE', 'region': 'CR'}\n"
     ]
    },
    {
     "data": {
      "application/vnd.jupyter.widget-view+json": {
       "model_id": "31c9d046d5ae4a5cadc52238bd67da82",
       "version_major": 2,
       "version_minor": 0
      },
      "text/plain": [
       "Processing:   0%|          | 0/5 [00:00<?, ?chunk/s]"
      ]
     },
     "metadata": {},
     "output_type": "display_data"
    },
    {
     "name": "stdout",
     "output_type": "stream",
     "text": [
      "=========> 2016 channel: EE icate: fake_down\n",
      "{'year': 2016, 'is_mc': False, 'uncer': 'nom', 'is_fake': True, 'channel': 'EE', 'region': 'CR'}\n"
     ]
    },
    {
     "data": {
      "application/vnd.jupyter.widget-view+json": {
       "model_id": "593a4cff561a40b48afdd5db1f21dcec",
       "version_major": 2,
       "version_minor": 0
      },
      "text/plain": [
       "Processing:   0%|          | 0/5 [00:00<?, ?chunk/s]"
      ]
     },
     "metadata": {},
     "output_type": "display_data"
    },
    {
     "name": "stdout",
     "output_type": "stream",
     "text": [
      "=========> 2016 channel: EE icate: JEC_up\n",
      "{'year': 2016, 'is_mc': True, 'uncer': 'JEC_up', 'is_fake': False, 'channel': 'EE', 'region': 'CR'}\n"
     ]
    },
    {
     "data": {
      "application/vnd.jupyter.widget-view+json": {
       "model_id": "a256defa9d4f48f685d128f2558e90b7",
       "version_major": 2,
       "version_minor": 0
      },
      "text/plain": [
       "Processing:   0%|          | 0/52 [00:00<?, ?chunk/s]"
      ]
     },
     "metadata": {},
     "output_type": "display_data"
    },
    {
     "name": "stdout",
     "output_type": "stream",
     "text": [
      "=========> 2016 channel: EE icate: JEC_down\n",
      "{'year': 2016, 'is_mc': True, 'uncer': 'JEC_down', 'is_fake': False, 'channel': 'EE', 'region': 'CR'}\n"
     ]
    },
    {
     "data": {
      "application/vnd.jupyter.widget-view+json": {
       "model_id": "d1d98a434e9746c9b52a66f5933fad86",
       "version_major": 2,
       "version_minor": 0
      },
      "text/plain": [
       "Processing:   0%|          | 0/52 [00:00<?, ?chunk/s]"
      ]
     },
     "metadata": {},
     "output_type": "display_data"
    },
    {
     "name": "stdout",
     "output_type": "stream",
     "text": [
      "=========> 2016 channel: EE icate: JER_up\n",
      "{'year': 2016, 'is_mc': True, 'uncer': 'JER_up', 'is_fake': False, 'channel': 'EE', 'region': 'CR'}\n"
     ]
    },
    {
     "data": {
      "application/vnd.jupyter.widget-view+json": {
       "model_id": "5fa021d4c61c4656ada9b5c6ae763718",
       "version_major": 2,
       "version_minor": 0
      },
      "text/plain": [
       "Processing:   0%|          | 0/52 [00:00<?, ?chunk/s]"
      ]
     },
     "metadata": {},
     "output_type": "display_data"
    },
    {
     "name": "stdout",
     "output_type": "stream",
     "text": [
      "=========> 2016 channel: EE icate: JER_down\n",
      "{'year': 2016, 'is_mc': True, 'uncer': 'JER_down', 'is_fake': False, 'channel': 'EE', 'region': 'CR'}\n"
     ]
    },
    {
     "data": {
      "application/vnd.jupyter.widget-view+json": {
       "model_id": "ce82264ac8e44a83879176d01d6ba1bb",
       "version_major": 2,
       "version_minor": 0
      },
      "text/plain": [
       "Processing:   0%|          | 0/52 [00:00<?, ?chunk/s]"
      ]
     },
     "metadata": {},
     "output_type": "display_data"
    },
    {
     "name": "stdout",
     "output_type": "stream",
     "text": [
      "=========> 2016 channel: ME icate: mc\n",
      "{'year': 2016, 'is_mc': True, 'uncer': 'nom', 'is_fake': False, 'channel': 'ME', 'region': 'CR'}\n"
     ]
    },
    {
     "data": {
      "application/vnd.jupyter.widget-view+json": {
       "model_id": "052f07eec78848808b293a51b44cc03f",
       "version_major": 2,
       "version_minor": 0
      },
      "text/plain": [
       "Processing:   0%|          | 0/53 [00:00<?, ?chunk/s]"
      ]
     },
     "metadata": {},
     "output_type": "display_data"
    },
    {
     "name": "stdout",
     "output_type": "stream",
     "text": [
      "=========> 2016 channel: ME icate: data\n",
      "{'year': 2016, 'is_mc': False, 'uncer': 'nom', 'is_fake': False, 'channel': 'ME', 'region': 'CR'}\n"
     ]
    },
    {
     "data": {
      "application/vnd.jupyter.widget-view+json": {
       "model_id": "a123f0922d954e62a59a5902ecf87547",
       "version_major": 2,
       "version_minor": 0
      },
      "text/plain": [
       "Processing:   0%|          | 0/4 [00:00<?, ?chunk/s]"
      ]
     },
     "metadata": {},
     "output_type": "display_data"
    },
    {
     "name": "stdout",
     "output_type": "stream",
     "text": [
      "=========> 2016 channel: ME icate: fake\n",
      "{'year': 2016, 'is_mc': False, 'uncer': 'nom', 'is_fake': True, 'channel': 'ME', 'region': 'CR'}\n"
     ]
    },
    {
     "data": {
      "application/vnd.jupyter.widget-view+json": {
       "model_id": "1631521e74584df291947b5c63d96ae6",
       "version_major": 2,
       "version_minor": 0
      },
      "text/plain": [
       "Processing:   0%|          | 0/5 [00:00<?, ?chunk/s]"
      ]
     },
     "metadata": {},
     "output_type": "display_data"
    },
    {
     "name": "stdout",
     "output_type": "stream",
     "text": [
      "=========> 2016 channel: ME icate: fake_up\n",
      "{'year': 2016, 'is_mc': False, 'uncer': 'nom', 'is_fake': True, 'channel': 'ME', 'region': 'CR'}\n"
     ]
    },
    {
     "data": {
      "application/vnd.jupyter.widget-view+json": {
       "model_id": "6c40997f871a44eeb3e312e4cf9f9c0f",
       "version_major": 2,
       "version_minor": 0
      },
      "text/plain": [
       "Processing:   0%|          | 0/5 [00:00<?, ?chunk/s]"
      ]
     },
     "metadata": {},
     "output_type": "display_data"
    },
    {
     "name": "stdout",
     "output_type": "stream",
     "text": [
      "=========> 2016 channel: ME icate: fake_down\n",
      "{'year': 2016, 'is_mc': False, 'uncer': 'nom', 'is_fake': True, 'channel': 'ME', 'region': 'CR'}\n"
     ]
    },
    {
     "data": {
      "application/vnd.jupyter.widget-view+json": {
       "model_id": "8a2e462e571449b3bf82a41383a3fc30",
       "version_major": 2,
       "version_minor": 0
      },
      "text/plain": [
       "Processing:   0%|          | 0/5 [00:00<?, ?chunk/s]"
      ]
     },
     "metadata": {},
     "output_type": "display_data"
    },
    {
     "name": "stdout",
     "output_type": "stream",
     "text": [
      "=========> 2016 channel: ME icate: JEC_up\n",
      "{'year': 2016, 'is_mc': True, 'uncer': 'JEC_up', 'is_fake': False, 'channel': 'ME', 'region': 'CR'}\n"
     ]
    },
    {
     "data": {
      "application/vnd.jupyter.widget-view+json": {
       "model_id": "063555bfda1943a19835e6b7648653d9",
       "version_major": 2,
       "version_minor": 0
      },
      "text/plain": [
       "Processing:   0%|          | 0/52 [00:00<?, ?chunk/s]"
      ]
     },
     "metadata": {},
     "output_type": "display_data"
    },
    {
     "name": "stdout",
     "output_type": "stream",
     "text": [
      "=========> 2016 channel: ME icate: JEC_down\n",
      "{'year': 2016, 'is_mc': True, 'uncer': 'JEC_down', 'is_fake': False, 'channel': 'ME', 'region': 'CR'}\n"
     ]
    },
    {
     "data": {
      "application/vnd.jupyter.widget-view+json": {
       "model_id": "ee748c09d4ac4703b2d6a01cd48ad259",
       "version_major": 2,
       "version_minor": 0
      },
      "text/plain": [
       "Processing:   0%|          | 0/52 [00:00<?, ?chunk/s]"
      ]
     },
     "metadata": {},
     "output_type": "display_data"
    },
    {
     "name": "stdout",
     "output_type": "stream",
     "text": [
      "=========> 2016 channel: ME icate: JER_up\n",
      "{'year': 2016, 'is_mc': True, 'uncer': 'JER_up', 'is_fake': False, 'channel': 'ME', 'region': 'CR'}\n"
     ]
    },
    {
     "data": {
      "application/vnd.jupyter.widget-view+json": {
       "model_id": "108b2526306b4f339041dc79e94ecd7c",
       "version_major": 2,
       "version_minor": 0
      },
      "text/plain": [
       "Processing:   0%|          | 0/52 [00:00<?, ?chunk/s]"
      ]
     },
     "metadata": {},
     "output_type": "display_data"
    },
    {
     "name": "stdout",
     "output_type": "stream",
     "text": [
      "=========> 2016 channel: ME icate: JER_down\n",
      "{'year': 2016, 'is_mc': True, 'uncer': 'JER_down', 'is_fake': False, 'channel': 'ME', 'region': 'CR'}\n"
     ]
    },
    {
     "data": {
      "application/vnd.jupyter.widget-view+json": {
       "model_id": "4a29e7fdd24c4c1392b9f13411ffd2f3",
       "version_major": 2,
       "version_minor": 0
      },
      "text/plain": [
       "Processing:   0%|          | 0/52 [00:00<?, ?chunk/s]"
      ]
     },
     "metadata": {},
     "output_type": "display_data"
    }
   ],
   "source": [
    "cate_cfg = {\n",
    "    \"mc\":{\"is_mc\":True,\"is_fake\":False,\"uncer\":\"nom\"},\n",
    "    \"data\":{\"is_mc\":False,\"is_fake\":False,\"uncer\":\"nom\"},\n",
    "    \"fake\":{\"is_mc\":False,\"is_fake\":True,\"uncer\":\"nom\"},\n",
    "    \"fake_up\":{\"is_mc\":False,\"is_fake\":True,\"uncer\":\"nom\"},\n",
    "    \"fake_down\":{\"is_mc\":False,\"is_fake\":True,\"uncer\":\"nom\"},\n",
    "    \"JEC_up\":{\"is_mc\":True,\"is_fake\":False,\"uncer\":\"JEC_up\"},\n",
    "    \"JEC_down\":{\"is_mc\":True,\"is_fake\":False,\"uncer\":\"JEC_down\"},\n",
    "    \"JER_up\":{\"is_mc\":True,\"is_fake\":False,\"uncer\":\"JER_up\"},\n",
    "    \"JER_down\":{\"is_mc\":True,\"is_fake\":False,\"uncer\":\"JER_down\"},\n",
    "}\n",
    "hist_2016 = {}\n",
    "for iregion in [\"SR\",\"CR\"]:\n",
    "    hist_2016[iregion] = {}\n",
    "    for ichannel in [\"ALL\",\"EB\",\"MB\",\"EE\",\"ME\"]:\n",
    "        hist_2016[iregion][ichannel] = {}\n",
    "        for icate in ['mc','data','fake','fake_up','fake_down','JEC_up','JEC_down','JER_up','JER_down']:\n",
    "            print(\"=========> 2016\",\"channel:\",ichannel,\"icate:\",icate)\n",
    "            hist_2016[iregion][ichannel][icate] = processor.run_uproot_job(files[2016][icate],\n",
    "                                    'ZPKUCandidates',\n",
    "                                    MyProcessor(year=2016,is_mc=cate_cfg[icate][\"is_mc\"],uncer=cate_cfg[icate][\"uncer\"],is_fake=cate_cfg[icate][\"is_fake\"],channel=ichannel,region=iregion),\n",
    "                                    processor.futures_executor,\n",
    "                                    chunksize=10000,\n",
    "                                    executor_args = {'schema': BaseSchema, 'workers': 22}\n",
    "                                    )"
   ]
  },
  {
   "cell_type": "code",
   "execution_count": 12,
   "id": "f07dcd1b",
   "metadata": {},
   "outputs": [],
   "source": [
    "if not os.path.exists(\"plots\"):\n",
    "    os.mkdir(\"plots\")\n",
    "with open(\"plots/plot_2016_tmp.pkl\", \"wb\") as f:\n",
    "    pickle.dump(hist_2016, f)\n",
    "with open(\"plots/plot_2016_tmp.pkl\", \"rb\") as f:\n",
    "    hist_2016 = pickle.load(f)"
   ]
  },
  {
   "cell_type": "markdown",
   "id": "a1cd25b6",
   "metadata": {},
   "source": [
    "## 2017"
   ]
  },
  {
   "cell_type": "code",
   "execution_count": 13,
   "id": "78623667",
   "metadata": {},
   "outputs": [
    {
     "name": "stdout",
     "output_type": "stream",
     "text": [
      "=========> 2017 channel: ALL icate: mc\n",
      "{'year': 2017, 'is_mc': True, 'uncer': 'nom', 'is_fake': False, 'channel': 'ALL', 'region': 'SR'}\n"
     ]
    },
    {
     "data": {
      "application/vnd.jupyter.widget-view+json": {
       "model_id": "2781210ed11e4258b2a7637e0645f5fd",
       "version_major": 2,
       "version_minor": 0
      },
      "text/plain": [
       "Preprocessing:   0%|          | 0/3 [00:00<?, ?file/s]"
      ]
     },
     "metadata": {},
     "output_type": "display_data"
    },
    {
     "data": {
      "application/vnd.jupyter.widget-view+json": {
       "model_id": "e0807ccd5ce34631883673c631bff5c4",
       "version_major": 2,
       "version_minor": 0
      },
      "text/plain": [
       "Processing:   0%|          | 0/50 [00:00<?, ?chunk/s]"
      ]
     },
     "metadata": {},
     "output_type": "display_data"
    },
    {
     "name": "stdout",
     "output_type": "stream",
     "text": [
      "=========> 2017 channel: ALL icate: data\n",
      "{'year': 2017, 'is_mc': False, 'uncer': 'nom', 'is_fake': False, 'channel': 'ALL', 'region': 'SR'}\n"
     ]
    },
    {
     "data": {
      "application/vnd.jupyter.widget-view+json": {
       "model_id": "76336fe398034ee494f68efc89f7a967",
       "version_major": 2,
       "version_minor": 0
      },
      "text/plain": [
       "Preprocessing:   0%|          | 0/1 [00:00<?, ?file/s]"
      ]
     },
     "metadata": {},
     "output_type": "display_data"
    },
    {
     "data": {
      "application/vnd.jupyter.widget-view+json": {
       "model_id": "828c19d3f56c4f0eac82ab3b745b42b7",
       "version_major": 2,
       "version_minor": 0
      },
      "text/plain": [
       "Processing:   0%|          | 0/5 [00:00<?, ?chunk/s]"
      ]
     },
     "metadata": {},
     "output_type": "display_data"
    },
    {
     "name": "stdout",
     "output_type": "stream",
     "text": [
      "=========> 2017 channel: ALL icate: fake\n",
      "{'year': 2017, 'is_mc': False, 'uncer': 'nom', 'is_fake': True, 'channel': 'ALL', 'region': 'SR'}\n"
     ]
    },
    {
     "data": {
      "application/vnd.jupyter.widget-view+json": {
       "model_id": "bc3045a018354ef3839ca17687bdab5c",
       "version_major": 2,
       "version_minor": 0
      },
      "text/plain": [
       "Preprocessing:   0%|          | 0/1 [00:00<?, ?file/s]"
      ]
     },
     "metadata": {},
     "output_type": "display_data"
    },
    {
     "data": {
      "application/vnd.jupyter.widget-view+json": {
       "model_id": "1a549ed570be4868bce7293b755d912e",
       "version_major": 2,
       "version_minor": 0
      },
      "text/plain": [
       "Processing:   0%|          | 0/5 [00:00<?, ?chunk/s]"
      ]
     },
     "metadata": {},
     "output_type": "display_data"
    },
    {
     "name": "stdout",
     "output_type": "stream",
     "text": [
      "=========> 2017 channel: ALL icate: fake_up\n",
      "{'year': 2017, 'is_mc': False, 'uncer': 'nom', 'is_fake': True, 'channel': 'ALL', 'region': 'SR'}\n"
     ]
    },
    {
     "data": {
      "application/vnd.jupyter.widget-view+json": {
       "model_id": "43d284ba1d044f76be1eddc187277b35",
       "version_major": 2,
       "version_minor": 0
      },
      "text/plain": [
       "Preprocessing:   0%|          | 0/1 [00:00<?, ?file/s]"
      ]
     },
     "metadata": {},
     "output_type": "display_data"
    },
    {
     "data": {
      "application/vnd.jupyter.widget-view+json": {
       "model_id": "86bdcdc3fd864512b046d8b8431246f6",
       "version_major": 2,
       "version_minor": 0
      },
      "text/plain": [
       "Processing:   0%|          | 0/5 [00:00<?, ?chunk/s]"
      ]
     },
     "metadata": {},
     "output_type": "display_data"
    },
    {
     "name": "stdout",
     "output_type": "stream",
     "text": [
      "=========> 2017 channel: ALL icate: fake_down\n",
      "{'year': 2017, 'is_mc': False, 'uncer': 'nom', 'is_fake': True, 'channel': 'ALL', 'region': 'SR'}\n"
     ]
    },
    {
     "data": {
      "application/vnd.jupyter.widget-view+json": {
       "model_id": "98e310b8fc214dbab8553dcd73ded34c",
       "version_major": 2,
       "version_minor": 0
      },
      "text/plain": [
       "Preprocessing:   0%|          | 0/1 [00:00<?, ?file/s]"
      ]
     },
     "metadata": {},
     "output_type": "display_data"
    },
    {
     "data": {
      "application/vnd.jupyter.widget-view+json": {
       "model_id": "62f9b4b0860b4c7c82d88e52e5bd54e4",
       "version_major": 2,
       "version_minor": 0
      },
      "text/plain": [
       "Processing:   0%|          | 0/5 [00:00<?, ?chunk/s]"
      ]
     },
     "metadata": {},
     "output_type": "display_data"
    },
    {
     "name": "stdout",
     "output_type": "stream",
     "text": [
      "=========> 2017 channel: ALL icate: JEC_up\n",
      "{'year': 2017, 'is_mc': True, 'uncer': 'JEC_up', 'is_fake': False, 'channel': 'ALL', 'region': 'SR'}\n"
     ]
    },
    {
     "data": {
      "application/vnd.jupyter.widget-view+json": {
       "model_id": "dcdbc65c8fcd41b1b341c0e826ca51b8",
       "version_major": 2,
       "version_minor": 0
      },
      "text/plain": [
       "Preprocessing:   0%|          | 0/3 [00:00<?, ?file/s]"
      ]
     },
     "metadata": {},
     "output_type": "display_data"
    },
    {
     "data": {
      "application/vnd.jupyter.widget-view+json": {
       "model_id": "c7ab9bbba8504fe1a514793014c99588",
       "version_major": 2,
       "version_minor": 0
      },
      "text/plain": [
       "Processing:   0%|          | 0/52 [00:00<?, ?chunk/s]"
      ]
     },
     "metadata": {},
     "output_type": "display_data"
    },
    {
     "name": "stdout",
     "output_type": "stream",
     "text": [
      "=========> 2017 channel: ALL icate: JEC_down\n",
      "{'year': 2017, 'is_mc': True, 'uncer': 'JEC_down', 'is_fake': False, 'channel': 'ALL', 'region': 'SR'}\n"
     ]
    },
    {
     "data": {
      "application/vnd.jupyter.widget-view+json": {
       "model_id": "9b4b72b4cac044c8ba8273785e6b7d02",
       "version_major": 2,
       "version_minor": 0
      },
      "text/plain": [
       "Processing:   0%|          | 0/52 [00:00<?, ?chunk/s]"
      ]
     },
     "metadata": {},
     "output_type": "display_data"
    },
    {
     "name": "stdout",
     "output_type": "stream",
     "text": [
      "=========> 2017 channel: ALL icate: JER_up\n",
      "{'year': 2017, 'is_mc': True, 'uncer': 'JER_up', 'is_fake': False, 'channel': 'ALL', 'region': 'SR'}\n"
     ]
    },
    {
     "data": {
      "application/vnd.jupyter.widget-view+json": {
       "model_id": "69670c0b6ca54c5780977ad89dda096d",
       "version_major": 2,
       "version_minor": 0
      },
      "text/plain": [
       "Processing:   0%|          | 0/52 [00:00<?, ?chunk/s]"
      ]
     },
     "metadata": {},
     "output_type": "display_data"
    },
    {
     "name": "stdout",
     "output_type": "stream",
     "text": [
      "=========> 2017 channel: ALL icate: JER_down\n",
      "{'year': 2017, 'is_mc': True, 'uncer': 'JER_down', 'is_fake': False, 'channel': 'ALL', 'region': 'SR'}\n"
     ]
    },
    {
     "data": {
      "application/vnd.jupyter.widget-view+json": {
       "model_id": "8bf7d69be8484b7a8b493a67d0864d46",
       "version_major": 2,
       "version_minor": 0
      },
      "text/plain": [
       "Processing:   0%|          | 0/52 [00:00<?, ?chunk/s]"
      ]
     },
     "metadata": {},
     "output_type": "display_data"
    },
    {
     "name": "stdout",
     "output_type": "stream",
     "text": [
      "=========> 2017 channel: EB icate: mc\n",
      "{'year': 2017, 'is_mc': True, 'uncer': 'nom', 'is_fake': False, 'channel': 'EB', 'region': 'SR'}\n"
     ]
    },
    {
     "data": {
      "application/vnd.jupyter.widget-view+json": {
       "model_id": "cc95926ab1d746cca82223ca7dd4b40f",
       "version_major": 2,
       "version_minor": 0
      },
      "text/plain": [
       "Processing:   0%|          | 0/50 [00:00<?, ?chunk/s]"
      ]
     },
     "metadata": {},
     "output_type": "display_data"
    },
    {
     "name": "stdout",
     "output_type": "stream",
     "text": [
      "=========> 2017 channel: EB icate: data\n",
      "{'year': 2017, 'is_mc': False, 'uncer': 'nom', 'is_fake': False, 'channel': 'EB', 'region': 'SR'}\n"
     ]
    },
    {
     "data": {
      "application/vnd.jupyter.widget-view+json": {
       "model_id": "70ac9b79ed46455bae8895371e9c1e50",
       "version_major": 2,
       "version_minor": 0
      },
      "text/plain": [
       "Processing:   0%|          | 0/5 [00:00<?, ?chunk/s]"
      ]
     },
     "metadata": {},
     "output_type": "display_data"
    },
    {
     "name": "stdout",
     "output_type": "stream",
     "text": [
      "=========> 2017 channel: EB icate: fake\n",
      "{'year': 2017, 'is_mc': False, 'uncer': 'nom', 'is_fake': True, 'channel': 'EB', 'region': 'SR'}\n"
     ]
    },
    {
     "data": {
      "application/vnd.jupyter.widget-view+json": {
       "model_id": "d266dc0e33554041aba355a71c1f93a0",
       "version_major": 2,
       "version_minor": 0
      },
      "text/plain": [
       "Processing:   0%|          | 0/5 [00:00<?, ?chunk/s]"
      ]
     },
     "metadata": {},
     "output_type": "display_data"
    },
    {
     "name": "stdout",
     "output_type": "stream",
     "text": [
      "=========> 2017 channel: EB icate: fake_up\n",
      "{'year': 2017, 'is_mc': False, 'uncer': 'nom', 'is_fake': True, 'channel': 'EB', 'region': 'SR'}\n"
     ]
    },
    {
     "data": {
      "application/vnd.jupyter.widget-view+json": {
       "model_id": "4512366304234575a03994ce18960a03",
       "version_major": 2,
       "version_minor": 0
      },
      "text/plain": [
       "Processing:   0%|          | 0/5 [00:00<?, ?chunk/s]"
      ]
     },
     "metadata": {},
     "output_type": "display_data"
    },
    {
     "name": "stdout",
     "output_type": "stream",
     "text": [
      "=========> 2017 channel: EB icate: fake_down\n",
      "{'year': 2017, 'is_mc': False, 'uncer': 'nom', 'is_fake': True, 'channel': 'EB', 'region': 'SR'}\n"
     ]
    },
    {
     "data": {
      "application/vnd.jupyter.widget-view+json": {
       "model_id": "a498ce6c530b41dbad5863518856e09d",
       "version_major": 2,
       "version_minor": 0
      },
      "text/plain": [
       "Processing:   0%|          | 0/5 [00:00<?, ?chunk/s]"
      ]
     },
     "metadata": {},
     "output_type": "display_data"
    },
    {
     "name": "stdout",
     "output_type": "stream",
     "text": [
      "=========> 2017 channel: EB icate: JEC_up\n",
      "{'year': 2017, 'is_mc': True, 'uncer': 'JEC_up', 'is_fake': False, 'channel': 'EB', 'region': 'SR'}\n"
     ]
    },
    {
     "data": {
      "application/vnd.jupyter.widget-view+json": {
       "model_id": "a02bba96cd9d467c9a1b8e8813694638",
       "version_major": 2,
       "version_minor": 0
      },
      "text/plain": [
       "Processing:   0%|          | 0/52 [00:00<?, ?chunk/s]"
      ]
     },
     "metadata": {},
     "output_type": "display_data"
    },
    {
     "name": "stdout",
     "output_type": "stream",
     "text": [
      "=========> 2017 channel: EB icate: JEC_down\n",
      "{'year': 2017, 'is_mc': True, 'uncer': 'JEC_down', 'is_fake': False, 'channel': 'EB', 'region': 'SR'}\n"
     ]
    },
    {
     "data": {
      "application/vnd.jupyter.widget-view+json": {
       "model_id": "0ea61132be5b413f9153d10a6fa891ec",
       "version_major": 2,
       "version_minor": 0
      },
      "text/plain": [
       "Processing:   0%|          | 0/52 [00:00<?, ?chunk/s]"
      ]
     },
     "metadata": {},
     "output_type": "display_data"
    },
    {
     "name": "stdout",
     "output_type": "stream",
     "text": [
      "=========> 2017 channel: EB icate: JER_up\n",
      "{'year': 2017, 'is_mc': True, 'uncer': 'JER_up', 'is_fake': False, 'channel': 'EB', 'region': 'SR'}\n"
     ]
    },
    {
     "data": {
      "application/vnd.jupyter.widget-view+json": {
       "model_id": "89aa5750483c48ed85cd771a50dbe87f",
       "version_major": 2,
       "version_minor": 0
      },
      "text/plain": [
       "Processing:   0%|          | 0/52 [00:00<?, ?chunk/s]"
      ]
     },
     "metadata": {},
     "output_type": "display_data"
    },
    {
     "name": "stdout",
     "output_type": "stream",
     "text": [
      "=========> 2017 channel: EB icate: JER_down\n",
      "{'year': 2017, 'is_mc': True, 'uncer': 'JER_down', 'is_fake': False, 'channel': 'EB', 'region': 'SR'}\n"
     ]
    },
    {
     "data": {
      "application/vnd.jupyter.widget-view+json": {
       "model_id": "3f664e905ee044fdaa257ffed7988529",
       "version_major": 2,
       "version_minor": 0
      },
      "text/plain": [
       "Processing:   0%|          | 0/52 [00:00<?, ?chunk/s]"
      ]
     },
     "metadata": {},
     "output_type": "display_data"
    },
    {
     "name": "stdout",
     "output_type": "stream",
     "text": [
      "=========> 2017 channel: MB icate: mc\n",
      "{'year': 2017, 'is_mc': True, 'uncer': 'nom', 'is_fake': False, 'channel': 'MB', 'region': 'SR'}\n"
     ]
    },
    {
     "data": {
      "application/vnd.jupyter.widget-view+json": {
       "model_id": "124f627aa2f04a148261b986fddfc906",
       "version_major": 2,
       "version_minor": 0
      },
      "text/plain": [
       "Processing:   0%|          | 0/50 [00:00<?, ?chunk/s]"
      ]
     },
     "metadata": {},
     "output_type": "display_data"
    },
    {
     "name": "stdout",
     "output_type": "stream",
     "text": [
      "=========> 2017 channel: MB icate: data\n",
      "{'year': 2017, 'is_mc': False, 'uncer': 'nom', 'is_fake': False, 'channel': 'MB', 'region': 'SR'}\n"
     ]
    },
    {
     "data": {
      "application/vnd.jupyter.widget-view+json": {
       "model_id": "4410cb5648624cc6a031cdd16987bb46",
       "version_major": 2,
       "version_minor": 0
      },
      "text/plain": [
       "Processing:   0%|          | 0/5 [00:00<?, ?chunk/s]"
      ]
     },
     "metadata": {},
     "output_type": "display_data"
    },
    {
     "name": "stdout",
     "output_type": "stream",
     "text": [
      "=========> 2017 channel: MB icate: fake\n",
      "{'year': 2017, 'is_mc': False, 'uncer': 'nom', 'is_fake': True, 'channel': 'MB', 'region': 'SR'}\n"
     ]
    },
    {
     "data": {
      "application/vnd.jupyter.widget-view+json": {
       "model_id": "897da1930b5943cc845c99d0c47d59c4",
       "version_major": 2,
       "version_minor": 0
      },
      "text/plain": [
       "Processing:   0%|          | 0/5 [00:00<?, ?chunk/s]"
      ]
     },
     "metadata": {},
     "output_type": "display_data"
    },
    {
     "name": "stdout",
     "output_type": "stream",
     "text": [
      "=========> 2017 channel: MB icate: fake_up\n",
      "{'year': 2017, 'is_mc': False, 'uncer': 'nom', 'is_fake': True, 'channel': 'MB', 'region': 'SR'}\n"
     ]
    },
    {
     "data": {
      "application/vnd.jupyter.widget-view+json": {
       "model_id": "18cd79f9e81541388536b80e2bd3315e",
       "version_major": 2,
       "version_minor": 0
      },
      "text/plain": [
       "Processing:   0%|          | 0/5 [00:00<?, ?chunk/s]"
      ]
     },
     "metadata": {},
     "output_type": "display_data"
    },
    {
     "name": "stdout",
     "output_type": "stream",
     "text": [
      "=========> 2017 channel: MB icate: fake_down\n",
      "{'year': 2017, 'is_mc': False, 'uncer': 'nom', 'is_fake': True, 'channel': 'MB', 'region': 'SR'}\n"
     ]
    },
    {
     "data": {
      "application/vnd.jupyter.widget-view+json": {
       "model_id": "e6ddec038189457b8047d40511d2536b",
       "version_major": 2,
       "version_minor": 0
      },
      "text/plain": [
       "Processing:   0%|          | 0/5 [00:00<?, ?chunk/s]"
      ]
     },
     "metadata": {},
     "output_type": "display_data"
    },
    {
     "name": "stdout",
     "output_type": "stream",
     "text": [
      "=========> 2017 channel: MB icate: JEC_up\n",
      "{'year': 2017, 'is_mc': True, 'uncer': 'JEC_up', 'is_fake': False, 'channel': 'MB', 'region': 'SR'}\n"
     ]
    },
    {
     "data": {
      "application/vnd.jupyter.widget-view+json": {
       "model_id": "7666a45ef1d04654ac7e15b2feb63127",
       "version_major": 2,
       "version_minor": 0
      },
      "text/plain": [
       "Processing:   0%|          | 0/52 [00:00<?, ?chunk/s]"
      ]
     },
     "metadata": {},
     "output_type": "display_data"
    },
    {
     "name": "stdout",
     "output_type": "stream",
     "text": [
      "=========> 2017 channel: MB icate: JEC_down\n",
      "{'year': 2017, 'is_mc': True, 'uncer': 'JEC_down', 'is_fake': False, 'channel': 'MB', 'region': 'SR'}\n"
     ]
    },
    {
     "data": {
      "application/vnd.jupyter.widget-view+json": {
       "model_id": "7c6243f59a3b43c29df30a4f33644581",
       "version_major": 2,
       "version_minor": 0
      },
      "text/plain": [
       "Processing:   0%|          | 0/52 [00:00<?, ?chunk/s]"
      ]
     },
     "metadata": {},
     "output_type": "display_data"
    },
    {
     "name": "stdout",
     "output_type": "stream",
     "text": [
      "=========> 2017 channel: MB icate: JER_up\n",
      "{'year': 2017, 'is_mc': True, 'uncer': 'JER_up', 'is_fake': False, 'channel': 'MB', 'region': 'SR'}\n"
     ]
    },
    {
     "data": {
      "application/vnd.jupyter.widget-view+json": {
       "model_id": "84687801ff1e42fabf85896a9894a086",
       "version_major": 2,
       "version_minor": 0
      },
      "text/plain": [
       "Processing:   0%|          | 0/52 [00:00<?, ?chunk/s]"
      ]
     },
     "metadata": {},
     "output_type": "display_data"
    },
    {
     "name": "stdout",
     "output_type": "stream",
     "text": [
      "=========> 2017 channel: MB icate: JER_down\n",
      "{'year': 2017, 'is_mc': True, 'uncer': 'JER_down', 'is_fake': False, 'channel': 'MB', 'region': 'SR'}\n"
     ]
    },
    {
     "data": {
      "application/vnd.jupyter.widget-view+json": {
       "model_id": "9ef4d1ebeb1f48f1bf33bff480b0ff13",
       "version_major": 2,
       "version_minor": 0
      },
      "text/plain": [
       "Processing:   0%|          | 0/52 [00:00<?, ?chunk/s]"
      ]
     },
     "metadata": {},
     "output_type": "display_data"
    },
    {
     "name": "stdout",
     "output_type": "stream",
     "text": [
      "=========> 2017 channel: EE icate: mc\n",
      "{'year': 2017, 'is_mc': True, 'uncer': 'nom', 'is_fake': False, 'channel': 'EE', 'region': 'SR'}\n"
     ]
    },
    {
     "data": {
      "application/vnd.jupyter.widget-view+json": {
       "model_id": "3805032db6a94b9ab01ef0e906b1090f",
       "version_major": 2,
       "version_minor": 0
      },
      "text/plain": [
       "Processing:   0%|          | 0/50 [00:00<?, ?chunk/s]"
      ]
     },
     "metadata": {},
     "output_type": "display_data"
    },
    {
     "name": "stdout",
     "output_type": "stream",
     "text": [
      "=========> 2017 channel: EE icate: data\n",
      "{'year': 2017, 'is_mc': False, 'uncer': 'nom', 'is_fake': False, 'channel': 'EE', 'region': 'SR'}\n"
     ]
    },
    {
     "data": {
      "application/vnd.jupyter.widget-view+json": {
       "model_id": "134d80a2fecd4f6f9cf764fda7439bf2",
       "version_major": 2,
       "version_minor": 0
      },
      "text/plain": [
       "Processing:   0%|          | 0/5 [00:00<?, ?chunk/s]"
      ]
     },
     "metadata": {},
     "output_type": "display_data"
    },
    {
     "name": "stdout",
     "output_type": "stream",
     "text": [
      "=========> 2017 channel: EE icate: fake\n",
      "{'year': 2017, 'is_mc': False, 'uncer': 'nom', 'is_fake': True, 'channel': 'EE', 'region': 'SR'}\n"
     ]
    },
    {
     "data": {
      "application/vnd.jupyter.widget-view+json": {
       "model_id": "78d0c0c3011348ab8a2cbd48360f3602",
       "version_major": 2,
       "version_minor": 0
      },
      "text/plain": [
       "Processing:   0%|          | 0/5 [00:00<?, ?chunk/s]"
      ]
     },
     "metadata": {},
     "output_type": "display_data"
    },
    {
     "name": "stdout",
     "output_type": "stream",
     "text": [
      "=========> 2017 channel: EE icate: fake_up\n",
      "{'year': 2017, 'is_mc': False, 'uncer': 'nom', 'is_fake': True, 'channel': 'EE', 'region': 'SR'}\n"
     ]
    },
    {
     "data": {
      "application/vnd.jupyter.widget-view+json": {
       "model_id": "9d523e59a94b4c109ecf016dbd3a165f",
       "version_major": 2,
       "version_minor": 0
      },
      "text/plain": [
       "Processing:   0%|          | 0/5 [00:00<?, ?chunk/s]"
      ]
     },
     "metadata": {},
     "output_type": "display_data"
    },
    {
     "name": "stdout",
     "output_type": "stream",
     "text": [
      "=========> 2017 channel: EE icate: fake_down\n",
      "{'year': 2017, 'is_mc': False, 'uncer': 'nom', 'is_fake': True, 'channel': 'EE', 'region': 'SR'}\n"
     ]
    },
    {
     "data": {
      "application/vnd.jupyter.widget-view+json": {
       "model_id": "402828bdaf574f6bb2b3616c9f9f75b4",
       "version_major": 2,
       "version_minor": 0
      },
      "text/plain": [
       "Processing:   0%|          | 0/5 [00:00<?, ?chunk/s]"
      ]
     },
     "metadata": {},
     "output_type": "display_data"
    },
    {
     "name": "stdout",
     "output_type": "stream",
     "text": [
      "=========> 2017 channel: EE icate: JEC_up\n",
      "{'year': 2017, 'is_mc': True, 'uncer': 'JEC_up', 'is_fake': False, 'channel': 'EE', 'region': 'SR'}\n"
     ]
    },
    {
     "data": {
      "application/vnd.jupyter.widget-view+json": {
       "model_id": "a66688864156449294263e4de7654a12",
       "version_major": 2,
       "version_minor": 0
      },
      "text/plain": [
       "Processing:   0%|          | 0/52 [00:00<?, ?chunk/s]"
      ]
     },
     "metadata": {},
     "output_type": "display_data"
    },
    {
     "name": "stdout",
     "output_type": "stream",
     "text": [
      "=========> 2017 channel: EE icate: JEC_down\n",
      "{'year': 2017, 'is_mc': True, 'uncer': 'JEC_down', 'is_fake': False, 'channel': 'EE', 'region': 'SR'}\n"
     ]
    },
    {
     "data": {
      "application/vnd.jupyter.widget-view+json": {
       "model_id": "e3267e9d73e24890812c12f929f9f43d",
       "version_major": 2,
       "version_minor": 0
      },
      "text/plain": [
       "Processing:   0%|          | 0/52 [00:00<?, ?chunk/s]"
      ]
     },
     "metadata": {},
     "output_type": "display_data"
    },
    {
     "name": "stdout",
     "output_type": "stream",
     "text": [
      "=========> 2017 channel: EE icate: JER_up\n",
      "{'year': 2017, 'is_mc': True, 'uncer': 'JER_up', 'is_fake': False, 'channel': 'EE', 'region': 'SR'}\n"
     ]
    },
    {
     "data": {
      "application/vnd.jupyter.widget-view+json": {
       "model_id": "92502658dc8341c881b3a50715f7c029",
       "version_major": 2,
       "version_minor": 0
      },
      "text/plain": [
       "Processing:   0%|          | 0/52 [00:00<?, ?chunk/s]"
      ]
     },
     "metadata": {},
     "output_type": "display_data"
    },
    {
     "name": "stdout",
     "output_type": "stream",
     "text": [
      "=========> 2017 channel: EE icate: JER_down\n",
      "{'year': 2017, 'is_mc': True, 'uncer': 'JER_down', 'is_fake': False, 'channel': 'EE', 'region': 'SR'}\n"
     ]
    },
    {
     "data": {
      "application/vnd.jupyter.widget-view+json": {
       "model_id": "343a58fbbcf146bf97205ec4d6dbdf76",
       "version_major": 2,
       "version_minor": 0
      },
      "text/plain": [
       "Processing:   0%|          | 0/52 [00:00<?, ?chunk/s]"
      ]
     },
     "metadata": {},
     "output_type": "display_data"
    },
    {
     "name": "stdout",
     "output_type": "stream",
     "text": [
      "=========> 2017 channel: ME icate: mc\n",
      "{'year': 2017, 'is_mc': True, 'uncer': 'nom', 'is_fake': False, 'channel': 'ME', 'region': 'SR'}\n"
     ]
    },
    {
     "data": {
      "application/vnd.jupyter.widget-view+json": {
       "model_id": "f7fd2a1de388489fbbc15d53427f3a49",
       "version_major": 2,
       "version_minor": 0
      },
      "text/plain": [
       "Processing:   0%|          | 0/50 [00:00<?, ?chunk/s]"
      ]
     },
     "metadata": {},
     "output_type": "display_data"
    },
    {
     "name": "stdout",
     "output_type": "stream",
     "text": [
      "=========> 2017 channel: ME icate: data\n",
      "{'year': 2017, 'is_mc': False, 'uncer': 'nom', 'is_fake': False, 'channel': 'ME', 'region': 'SR'}\n"
     ]
    },
    {
     "data": {
      "application/vnd.jupyter.widget-view+json": {
       "model_id": "a0ab2702c5b0447085ec3576106194c4",
       "version_major": 2,
       "version_minor": 0
      },
      "text/plain": [
       "Processing:   0%|          | 0/5 [00:00<?, ?chunk/s]"
      ]
     },
     "metadata": {},
     "output_type": "display_data"
    },
    {
     "name": "stdout",
     "output_type": "stream",
     "text": [
      "=========> 2017 channel: ME icate: fake\n",
      "{'year': 2017, 'is_mc': False, 'uncer': 'nom', 'is_fake': True, 'channel': 'ME', 'region': 'SR'}\n"
     ]
    },
    {
     "data": {
      "application/vnd.jupyter.widget-view+json": {
       "model_id": "c6efbe10466a49749ba5ea5189c0cb5c",
       "version_major": 2,
       "version_minor": 0
      },
      "text/plain": [
       "Processing:   0%|          | 0/5 [00:00<?, ?chunk/s]"
      ]
     },
     "metadata": {},
     "output_type": "display_data"
    },
    {
     "name": "stdout",
     "output_type": "stream",
     "text": [
      "=========> 2017 channel: ME icate: fake_up\n",
      "{'year': 2017, 'is_mc': False, 'uncer': 'nom', 'is_fake': True, 'channel': 'ME', 'region': 'SR'}\n"
     ]
    },
    {
     "data": {
      "application/vnd.jupyter.widget-view+json": {
       "model_id": "ed1826384fde4e98a8c610f242d290e6",
       "version_major": 2,
       "version_minor": 0
      },
      "text/plain": [
       "Processing:   0%|          | 0/5 [00:00<?, ?chunk/s]"
      ]
     },
     "metadata": {},
     "output_type": "display_data"
    },
    {
     "name": "stdout",
     "output_type": "stream",
     "text": [
      "=========> 2017 channel: ME icate: fake_down\n",
      "{'year': 2017, 'is_mc': False, 'uncer': 'nom', 'is_fake': True, 'channel': 'ME', 'region': 'SR'}\n"
     ]
    },
    {
     "data": {
      "application/vnd.jupyter.widget-view+json": {
       "model_id": "f808ede4e7b946de866ccfab4841f513",
       "version_major": 2,
       "version_minor": 0
      },
      "text/plain": [
       "Processing:   0%|          | 0/5 [00:00<?, ?chunk/s]"
      ]
     },
     "metadata": {},
     "output_type": "display_data"
    },
    {
     "name": "stdout",
     "output_type": "stream",
     "text": [
      "=========> 2017 channel: ME icate: JEC_up\n",
      "{'year': 2017, 'is_mc': True, 'uncer': 'JEC_up', 'is_fake': False, 'channel': 'ME', 'region': 'SR'}\n"
     ]
    },
    {
     "data": {
      "application/vnd.jupyter.widget-view+json": {
       "model_id": "9aa07894ceb04b3ea7de2f935ca69f5e",
       "version_major": 2,
       "version_minor": 0
      },
      "text/plain": [
       "Processing:   0%|          | 0/52 [00:00<?, ?chunk/s]"
      ]
     },
     "metadata": {},
     "output_type": "display_data"
    },
    {
     "name": "stdout",
     "output_type": "stream",
     "text": [
      "=========> 2017 channel: ME icate: JEC_down\n",
      "{'year': 2017, 'is_mc': True, 'uncer': 'JEC_down', 'is_fake': False, 'channel': 'ME', 'region': 'SR'}\n"
     ]
    },
    {
     "data": {
      "application/vnd.jupyter.widget-view+json": {
       "model_id": "999266482df344b4b71cf16ff8481eff",
       "version_major": 2,
       "version_minor": 0
      },
      "text/plain": [
       "Processing:   0%|          | 0/52 [00:00<?, ?chunk/s]"
      ]
     },
     "metadata": {},
     "output_type": "display_data"
    },
    {
     "name": "stdout",
     "output_type": "stream",
     "text": [
      "=========> 2017 channel: ME icate: JER_up\n",
      "{'year': 2017, 'is_mc': True, 'uncer': 'JER_up', 'is_fake': False, 'channel': 'ME', 'region': 'SR'}\n"
     ]
    },
    {
     "data": {
      "application/vnd.jupyter.widget-view+json": {
       "model_id": "53c482a27380429bae1e1c662330f838",
       "version_major": 2,
       "version_minor": 0
      },
      "text/plain": [
       "Processing:   0%|          | 0/52 [00:00<?, ?chunk/s]"
      ]
     },
     "metadata": {},
     "output_type": "display_data"
    },
    {
     "name": "stdout",
     "output_type": "stream",
     "text": [
      "=========> 2017 channel: ME icate: JER_down\n",
      "{'year': 2017, 'is_mc': True, 'uncer': 'JER_down', 'is_fake': False, 'channel': 'ME', 'region': 'SR'}\n"
     ]
    },
    {
     "data": {
      "application/vnd.jupyter.widget-view+json": {
       "model_id": "8a695e6d5652457390b362b16671fbf2",
       "version_major": 2,
       "version_minor": 0
      },
      "text/plain": [
       "Processing:   0%|          | 0/52 [00:00<?, ?chunk/s]"
      ]
     },
     "metadata": {},
     "output_type": "display_data"
    },
    {
     "name": "stdout",
     "output_type": "stream",
     "text": [
      "=========> 2017 channel: ALL icate: mc\n",
      "{'year': 2017, 'is_mc': True, 'uncer': 'nom', 'is_fake': False, 'channel': 'ALL', 'region': 'CR'}\n"
     ]
    },
    {
     "data": {
      "application/vnd.jupyter.widget-view+json": {
       "model_id": "7713693feb164cf691545afbd5bf838c",
       "version_major": 2,
       "version_minor": 0
      },
      "text/plain": [
       "Processing:   0%|          | 0/50 [00:00<?, ?chunk/s]"
      ]
     },
     "metadata": {},
     "output_type": "display_data"
    },
    {
     "name": "stdout",
     "output_type": "stream",
     "text": [
      "=========> 2017 channel: ALL icate: data\n",
      "{'year': 2017, 'is_mc': False, 'uncer': 'nom', 'is_fake': False, 'channel': 'ALL', 'region': 'CR'}\n"
     ]
    },
    {
     "data": {
      "application/vnd.jupyter.widget-view+json": {
       "model_id": "ba4e9a68451241af84e5d7ac49310bfd",
       "version_major": 2,
       "version_minor": 0
      },
      "text/plain": [
       "Processing:   0%|          | 0/5 [00:00<?, ?chunk/s]"
      ]
     },
     "metadata": {},
     "output_type": "display_data"
    },
    {
     "name": "stdout",
     "output_type": "stream",
     "text": [
      "=========> 2017 channel: ALL icate: fake\n",
      "{'year': 2017, 'is_mc': False, 'uncer': 'nom', 'is_fake': True, 'channel': 'ALL', 'region': 'CR'}\n"
     ]
    },
    {
     "data": {
      "application/vnd.jupyter.widget-view+json": {
       "model_id": "cb0af0badd57489aab4baa151f706eb6",
       "version_major": 2,
       "version_minor": 0
      },
      "text/plain": [
       "Processing:   0%|          | 0/5 [00:00<?, ?chunk/s]"
      ]
     },
     "metadata": {},
     "output_type": "display_data"
    },
    {
     "name": "stdout",
     "output_type": "stream",
     "text": [
      "=========> 2017 channel: ALL icate: fake_up\n",
      "{'year': 2017, 'is_mc': False, 'uncer': 'nom', 'is_fake': True, 'channel': 'ALL', 'region': 'CR'}\n"
     ]
    },
    {
     "data": {
      "application/vnd.jupyter.widget-view+json": {
       "model_id": "4c936a5931d340e2a267fcab53918ed1",
       "version_major": 2,
       "version_minor": 0
      },
      "text/plain": [
       "Processing:   0%|          | 0/5 [00:00<?, ?chunk/s]"
      ]
     },
     "metadata": {},
     "output_type": "display_data"
    },
    {
     "name": "stdout",
     "output_type": "stream",
     "text": [
      "=========> 2017 channel: ALL icate: fake_down\n",
      "{'year': 2017, 'is_mc': False, 'uncer': 'nom', 'is_fake': True, 'channel': 'ALL', 'region': 'CR'}\n"
     ]
    },
    {
     "data": {
      "application/vnd.jupyter.widget-view+json": {
       "model_id": "f3dbef3216b54eb7baf242dd5ac264fc",
       "version_major": 2,
       "version_minor": 0
      },
      "text/plain": [
       "Processing:   0%|          | 0/5 [00:00<?, ?chunk/s]"
      ]
     },
     "metadata": {},
     "output_type": "display_data"
    },
    {
     "name": "stdout",
     "output_type": "stream",
     "text": [
      "=========> 2017 channel: ALL icate: JEC_up\n",
      "{'year': 2017, 'is_mc': True, 'uncer': 'JEC_up', 'is_fake': False, 'channel': 'ALL', 'region': 'CR'}\n"
     ]
    },
    {
     "data": {
      "application/vnd.jupyter.widget-view+json": {
       "model_id": "367dc73bb8f343af80514d45f23799cd",
       "version_major": 2,
       "version_minor": 0
      },
      "text/plain": [
       "Processing:   0%|          | 0/52 [00:00<?, ?chunk/s]"
      ]
     },
     "metadata": {},
     "output_type": "display_data"
    },
    {
     "name": "stdout",
     "output_type": "stream",
     "text": [
      "=========> 2017 channel: ALL icate: JEC_down\n",
      "{'year': 2017, 'is_mc': True, 'uncer': 'JEC_down', 'is_fake': False, 'channel': 'ALL', 'region': 'CR'}\n"
     ]
    },
    {
     "data": {
      "application/vnd.jupyter.widget-view+json": {
       "model_id": "acd4bcc0636f491e947d19ac10758ef5",
       "version_major": 2,
       "version_minor": 0
      },
      "text/plain": [
       "Processing:   0%|          | 0/52 [00:00<?, ?chunk/s]"
      ]
     },
     "metadata": {},
     "output_type": "display_data"
    },
    {
     "name": "stdout",
     "output_type": "stream",
     "text": [
      "=========> 2017 channel: ALL icate: JER_up\n",
      "{'year': 2017, 'is_mc': True, 'uncer': 'JER_up', 'is_fake': False, 'channel': 'ALL', 'region': 'CR'}\n"
     ]
    },
    {
     "data": {
      "application/vnd.jupyter.widget-view+json": {
       "model_id": "34fcc378c5a44957b24c977adc5aba32",
       "version_major": 2,
       "version_minor": 0
      },
      "text/plain": [
       "Processing:   0%|          | 0/52 [00:00<?, ?chunk/s]"
      ]
     },
     "metadata": {},
     "output_type": "display_data"
    },
    {
     "name": "stdout",
     "output_type": "stream",
     "text": [
      "=========> 2017 channel: ALL icate: JER_down\n",
      "{'year': 2017, 'is_mc': True, 'uncer': 'JER_down', 'is_fake': False, 'channel': 'ALL', 'region': 'CR'}\n"
     ]
    },
    {
     "data": {
      "application/vnd.jupyter.widget-view+json": {
       "model_id": "e41a1be5e8fa421190993f24cc714ec3",
       "version_major": 2,
       "version_minor": 0
      },
      "text/plain": [
       "Processing:   0%|          | 0/52 [00:00<?, ?chunk/s]"
      ]
     },
     "metadata": {},
     "output_type": "display_data"
    },
    {
     "name": "stdout",
     "output_type": "stream",
     "text": [
      "=========> 2017 channel: EB icate: mc\n",
      "{'year': 2017, 'is_mc': True, 'uncer': 'nom', 'is_fake': False, 'channel': 'EB', 'region': 'CR'}\n"
     ]
    },
    {
     "data": {
      "application/vnd.jupyter.widget-view+json": {
       "model_id": "c6a8e970a83b4df3bfea591336083e63",
       "version_major": 2,
       "version_minor": 0
      },
      "text/plain": [
       "Processing:   0%|          | 0/50 [00:00<?, ?chunk/s]"
      ]
     },
     "metadata": {},
     "output_type": "display_data"
    },
    {
     "name": "stdout",
     "output_type": "stream",
     "text": [
      "=========> 2017 channel: EB icate: data\n",
      "{'year': 2017, 'is_mc': False, 'uncer': 'nom', 'is_fake': False, 'channel': 'EB', 'region': 'CR'}\n"
     ]
    },
    {
     "data": {
      "application/vnd.jupyter.widget-view+json": {
       "model_id": "505edac9acfb4a659ebad01dc3e34909",
       "version_major": 2,
       "version_minor": 0
      },
      "text/plain": [
       "Processing:   0%|          | 0/5 [00:00<?, ?chunk/s]"
      ]
     },
     "metadata": {},
     "output_type": "display_data"
    },
    {
     "name": "stdout",
     "output_type": "stream",
     "text": [
      "=========> 2017 channel: EB icate: fake\n",
      "{'year': 2017, 'is_mc': False, 'uncer': 'nom', 'is_fake': True, 'channel': 'EB', 'region': 'CR'}\n"
     ]
    },
    {
     "data": {
      "application/vnd.jupyter.widget-view+json": {
       "model_id": "6cd739cd2e834b2c9f9d3e59e1186896",
       "version_major": 2,
       "version_minor": 0
      },
      "text/plain": [
       "Processing:   0%|          | 0/5 [00:00<?, ?chunk/s]"
      ]
     },
     "metadata": {},
     "output_type": "display_data"
    },
    {
     "name": "stdout",
     "output_type": "stream",
     "text": [
      "=========> 2017 channel: EB icate: fake_up\n",
      "{'year': 2017, 'is_mc': False, 'uncer': 'nom', 'is_fake': True, 'channel': 'EB', 'region': 'CR'}\n"
     ]
    },
    {
     "data": {
      "application/vnd.jupyter.widget-view+json": {
       "model_id": "06e91f6f02d54f50a39b619e2f657ff1",
       "version_major": 2,
       "version_minor": 0
      },
      "text/plain": [
       "Processing:   0%|          | 0/5 [00:00<?, ?chunk/s]"
      ]
     },
     "metadata": {},
     "output_type": "display_data"
    },
    {
     "name": "stdout",
     "output_type": "stream",
     "text": [
      "=========> 2017 channel: EB icate: fake_down\n",
      "{'year': 2017, 'is_mc': False, 'uncer': 'nom', 'is_fake': True, 'channel': 'EB', 'region': 'CR'}\n"
     ]
    },
    {
     "data": {
      "application/vnd.jupyter.widget-view+json": {
       "model_id": "da048263833e4043b83e3929860ddce3",
       "version_major": 2,
       "version_minor": 0
      },
      "text/plain": [
       "Processing:   0%|          | 0/5 [00:00<?, ?chunk/s]"
      ]
     },
     "metadata": {},
     "output_type": "display_data"
    },
    {
     "name": "stdout",
     "output_type": "stream",
     "text": [
      "=========> 2017 channel: EB icate: JEC_up\n",
      "{'year': 2017, 'is_mc': True, 'uncer': 'JEC_up', 'is_fake': False, 'channel': 'EB', 'region': 'CR'}\n"
     ]
    },
    {
     "data": {
      "application/vnd.jupyter.widget-view+json": {
       "model_id": "311eb06e6655427ea884cb72013c2bc3",
       "version_major": 2,
       "version_minor": 0
      },
      "text/plain": [
       "Processing:   0%|          | 0/52 [00:00<?, ?chunk/s]"
      ]
     },
     "metadata": {},
     "output_type": "display_data"
    },
    {
     "name": "stdout",
     "output_type": "stream",
     "text": [
      "=========> 2017 channel: EB icate: JEC_down\n",
      "{'year': 2017, 'is_mc': True, 'uncer': 'JEC_down', 'is_fake': False, 'channel': 'EB', 'region': 'CR'}\n"
     ]
    },
    {
     "data": {
      "application/vnd.jupyter.widget-view+json": {
       "model_id": "1c524ac01532467aa6a4f4633178eff0",
       "version_major": 2,
       "version_minor": 0
      },
      "text/plain": [
       "Processing:   0%|          | 0/52 [00:00<?, ?chunk/s]"
      ]
     },
     "metadata": {},
     "output_type": "display_data"
    },
    {
     "name": "stdout",
     "output_type": "stream",
     "text": [
      "=========> 2017 channel: EB icate: JER_up\n",
      "{'year': 2017, 'is_mc': True, 'uncer': 'JER_up', 'is_fake': False, 'channel': 'EB', 'region': 'CR'}\n"
     ]
    },
    {
     "data": {
      "application/vnd.jupyter.widget-view+json": {
       "model_id": "f684ceb3f3a043b6a8c9d2e9fe3b7286",
       "version_major": 2,
       "version_minor": 0
      },
      "text/plain": [
       "Processing:   0%|          | 0/52 [00:00<?, ?chunk/s]"
      ]
     },
     "metadata": {},
     "output_type": "display_data"
    },
    {
     "name": "stdout",
     "output_type": "stream",
     "text": [
      "=========> 2017 channel: EB icate: JER_down\n",
      "{'year': 2017, 'is_mc': True, 'uncer': 'JER_down', 'is_fake': False, 'channel': 'EB', 'region': 'CR'}\n"
     ]
    },
    {
     "data": {
      "application/vnd.jupyter.widget-view+json": {
       "model_id": "58b001147ae44019b5aea19955071b94",
       "version_major": 2,
       "version_minor": 0
      },
      "text/plain": [
       "Processing:   0%|          | 0/52 [00:00<?, ?chunk/s]"
      ]
     },
     "metadata": {},
     "output_type": "display_data"
    },
    {
     "name": "stdout",
     "output_type": "stream",
     "text": [
      "=========> 2017 channel: MB icate: mc\n",
      "{'year': 2017, 'is_mc': True, 'uncer': 'nom', 'is_fake': False, 'channel': 'MB', 'region': 'CR'}\n"
     ]
    },
    {
     "data": {
      "application/vnd.jupyter.widget-view+json": {
       "model_id": "b2e56040761545e6a265cc8feab24b57",
       "version_major": 2,
       "version_minor": 0
      },
      "text/plain": [
       "Processing:   0%|          | 0/50 [00:00<?, ?chunk/s]"
      ]
     },
     "metadata": {},
     "output_type": "display_data"
    },
    {
     "name": "stdout",
     "output_type": "stream",
     "text": [
      "=========> 2017 channel: MB icate: data\n",
      "{'year': 2017, 'is_mc': False, 'uncer': 'nom', 'is_fake': False, 'channel': 'MB', 'region': 'CR'}\n"
     ]
    },
    {
     "data": {
      "application/vnd.jupyter.widget-view+json": {
       "model_id": "9e7f7374c6da476db407d4ff0ff5704d",
       "version_major": 2,
       "version_minor": 0
      },
      "text/plain": [
       "Processing:   0%|          | 0/5 [00:00<?, ?chunk/s]"
      ]
     },
     "metadata": {},
     "output_type": "display_data"
    },
    {
     "name": "stdout",
     "output_type": "stream",
     "text": [
      "=========> 2017 channel: MB icate: fake\n",
      "{'year': 2017, 'is_mc': False, 'uncer': 'nom', 'is_fake': True, 'channel': 'MB', 'region': 'CR'}\n"
     ]
    },
    {
     "data": {
      "application/vnd.jupyter.widget-view+json": {
       "model_id": "e557edeaf97646d199f64274a53f7217",
       "version_major": 2,
       "version_minor": 0
      },
      "text/plain": [
       "Processing:   0%|          | 0/5 [00:00<?, ?chunk/s]"
      ]
     },
     "metadata": {},
     "output_type": "display_data"
    },
    {
     "name": "stdout",
     "output_type": "stream",
     "text": [
      "=========> 2017 channel: MB icate: fake_up\n",
      "{'year': 2017, 'is_mc': False, 'uncer': 'nom', 'is_fake': True, 'channel': 'MB', 'region': 'CR'}\n"
     ]
    },
    {
     "data": {
      "application/vnd.jupyter.widget-view+json": {
       "model_id": "f4e0ae4f0a72437cbd11aa6b8e418a24",
       "version_major": 2,
       "version_minor": 0
      },
      "text/plain": [
       "Processing:   0%|          | 0/5 [00:00<?, ?chunk/s]"
      ]
     },
     "metadata": {},
     "output_type": "display_data"
    },
    {
     "name": "stdout",
     "output_type": "stream",
     "text": [
      "=========> 2017 channel: MB icate: fake_down\n",
      "{'year': 2017, 'is_mc': False, 'uncer': 'nom', 'is_fake': True, 'channel': 'MB', 'region': 'CR'}\n"
     ]
    },
    {
     "data": {
      "application/vnd.jupyter.widget-view+json": {
       "model_id": "3f105b2403394a8ba0b46fd19c639302",
       "version_major": 2,
       "version_minor": 0
      },
      "text/plain": [
       "Processing:   0%|          | 0/5 [00:00<?, ?chunk/s]"
      ]
     },
     "metadata": {},
     "output_type": "display_data"
    },
    {
     "name": "stdout",
     "output_type": "stream",
     "text": [
      "=========> 2017 channel: MB icate: JEC_up\n",
      "{'year': 2017, 'is_mc': True, 'uncer': 'JEC_up', 'is_fake': False, 'channel': 'MB', 'region': 'CR'}\n"
     ]
    },
    {
     "data": {
      "application/vnd.jupyter.widget-view+json": {
       "model_id": "9d6b143ca846454ab7d565884b569e49",
       "version_major": 2,
       "version_minor": 0
      },
      "text/plain": [
       "Processing:   0%|          | 0/52 [00:00<?, ?chunk/s]"
      ]
     },
     "metadata": {},
     "output_type": "display_data"
    },
    {
     "name": "stdout",
     "output_type": "stream",
     "text": [
      "=========> 2017 channel: MB icate: JEC_down\n",
      "{'year': 2017, 'is_mc': True, 'uncer': 'JEC_down', 'is_fake': False, 'channel': 'MB', 'region': 'CR'}\n"
     ]
    },
    {
     "data": {
      "application/vnd.jupyter.widget-view+json": {
       "model_id": "6aae2a007ffa410899997e117857918a",
       "version_major": 2,
       "version_minor": 0
      },
      "text/plain": [
       "Processing:   0%|          | 0/52 [00:00<?, ?chunk/s]"
      ]
     },
     "metadata": {},
     "output_type": "display_data"
    },
    {
     "name": "stdout",
     "output_type": "stream",
     "text": [
      "=========> 2017 channel: MB icate: JER_up\n",
      "{'year': 2017, 'is_mc': True, 'uncer': 'JER_up', 'is_fake': False, 'channel': 'MB', 'region': 'CR'}\n"
     ]
    },
    {
     "data": {
      "application/vnd.jupyter.widget-view+json": {
       "model_id": "5e6d9b1b603b4cd18b4bdb9144a45863",
       "version_major": 2,
       "version_minor": 0
      },
      "text/plain": [
       "Processing:   0%|          | 0/52 [00:00<?, ?chunk/s]"
      ]
     },
     "metadata": {},
     "output_type": "display_data"
    },
    {
     "name": "stdout",
     "output_type": "stream",
     "text": [
      "=========> 2017 channel: MB icate: JER_down\n",
      "{'year': 2017, 'is_mc': True, 'uncer': 'JER_down', 'is_fake': False, 'channel': 'MB', 'region': 'CR'}\n"
     ]
    },
    {
     "data": {
      "application/vnd.jupyter.widget-view+json": {
       "model_id": "fc3ba9c6eefd43e0b88566cc59cdc52b",
       "version_major": 2,
       "version_minor": 0
      },
      "text/plain": [
       "Processing:   0%|          | 0/52 [00:00<?, ?chunk/s]"
      ]
     },
     "metadata": {},
     "output_type": "display_data"
    },
    {
     "name": "stdout",
     "output_type": "stream",
     "text": [
      "=========> 2017 channel: EE icate: mc\n",
      "{'year': 2017, 'is_mc': True, 'uncer': 'nom', 'is_fake': False, 'channel': 'EE', 'region': 'CR'}\n"
     ]
    },
    {
     "data": {
      "application/vnd.jupyter.widget-view+json": {
       "model_id": "b50c3cd7374d4b5c818af158bb401849",
       "version_major": 2,
       "version_minor": 0
      },
      "text/plain": [
       "Processing:   0%|          | 0/50 [00:00<?, ?chunk/s]"
      ]
     },
     "metadata": {},
     "output_type": "display_data"
    },
    {
     "name": "stdout",
     "output_type": "stream",
     "text": [
      "=========> 2017 channel: EE icate: data\n",
      "{'year': 2017, 'is_mc': False, 'uncer': 'nom', 'is_fake': False, 'channel': 'EE', 'region': 'CR'}\n"
     ]
    },
    {
     "data": {
      "application/vnd.jupyter.widget-view+json": {
       "model_id": "a99d37d94583453baff15450d24f27e8",
       "version_major": 2,
       "version_minor": 0
      },
      "text/plain": [
       "Processing:   0%|          | 0/5 [00:00<?, ?chunk/s]"
      ]
     },
     "metadata": {},
     "output_type": "display_data"
    },
    {
     "name": "stdout",
     "output_type": "stream",
     "text": [
      "=========> 2017 channel: EE icate: fake\n",
      "{'year': 2017, 'is_mc': False, 'uncer': 'nom', 'is_fake': True, 'channel': 'EE', 'region': 'CR'}\n"
     ]
    },
    {
     "data": {
      "application/vnd.jupyter.widget-view+json": {
       "model_id": "ccd37c9439d44d6982c3ad2796445b62",
       "version_major": 2,
       "version_minor": 0
      },
      "text/plain": [
       "Processing:   0%|          | 0/5 [00:00<?, ?chunk/s]"
      ]
     },
     "metadata": {},
     "output_type": "display_data"
    },
    {
     "name": "stdout",
     "output_type": "stream",
     "text": [
      "=========> 2017 channel: EE icate: fake_up\n",
      "{'year': 2017, 'is_mc': False, 'uncer': 'nom', 'is_fake': True, 'channel': 'EE', 'region': 'CR'}\n"
     ]
    },
    {
     "data": {
      "application/vnd.jupyter.widget-view+json": {
       "model_id": "ff9195019b954e86bf10ae062512e378",
       "version_major": 2,
       "version_minor": 0
      },
      "text/plain": [
       "Processing:   0%|          | 0/5 [00:00<?, ?chunk/s]"
      ]
     },
     "metadata": {},
     "output_type": "display_data"
    },
    {
     "name": "stdout",
     "output_type": "stream",
     "text": [
      "=========> 2017 channel: EE icate: fake_down\n",
      "{'year': 2017, 'is_mc': False, 'uncer': 'nom', 'is_fake': True, 'channel': 'EE', 'region': 'CR'}\n"
     ]
    },
    {
     "data": {
      "application/vnd.jupyter.widget-view+json": {
       "model_id": "a4b82f82699049a1a3e7b9099688a677",
       "version_major": 2,
       "version_minor": 0
      },
      "text/plain": [
       "Processing:   0%|          | 0/5 [00:00<?, ?chunk/s]"
      ]
     },
     "metadata": {},
     "output_type": "display_data"
    },
    {
     "name": "stdout",
     "output_type": "stream",
     "text": [
      "=========> 2017 channel: EE icate: JEC_up\n",
      "{'year': 2017, 'is_mc': True, 'uncer': 'JEC_up', 'is_fake': False, 'channel': 'EE', 'region': 'CR'}\n"
     ]
    },
    {
     "data": {
      "application/vnd.jupyter.widget-view+json": {
       "model_id": "43e8e49f657f4be7b569608a87b16e5c",
       "version_major": 2,
       "version_minor": 0
      },
      "text/plain": [
       "Processing:   0%|          | 0/52 [00:00<?, ?chunk/s]"
      ]
     },
     "metadata": {},
     "output_type": "display_data"
    },
    {
     "name": "stdout",
     "output_type": "stream",
     "text": [
      "=========> 2017 channel: EE icate: JEC_down\n",
      "{'year': 2017, 'is_mc': True, 'uncer': 'JEC_down', 'is_fake': False, 'channel': 'EE', 'region': 'CR'}\n"
     ]
    },
    {
     "data": {
      "application/vnd.jupyter.widget-view+json": {
       "model_id": "050e6107620344cc9365483e10929f92",
       "version_major": 2,
       "version_minor": 0
      },
      "text/plain": [
       "Processing:   0%|          | 0/52 [00:00<?, ?chunk/s]"
      ]
     },
     "metadata": {},
     "output_type": "display_data"
    },
    {
     "name": "stdout",
     "output_type": "stream",
     "text": [
      "=========> 2017 channel: EE icate: JER_up\n",
      "{'year': 2017, 'is_mc': True, 'uncer': 'JER_up', 'is_fake': False, 'channel': 'EE', 'region': 'CR'}\n"
     ]
    },
    {
     "data": {
      "application/vnd.jupyter.widget-view+json": {
       "model_id": "0476fb8c940c476db968ffee8dc65421",
       "version_major": 2,
       "version_minor": 0
      },
      "text/plain": [
       "Processing:   0%|          | 0/52 [00:00<?, ?chunk/s]"
      ]
     },
     "metadata": {},
     "output_type": "display_data"
    },
    {
     "name": "stdout",
     "output_type": "stream",
     "text": [
      "=========> 2017 channel: EE icate: JER_down\n",
      "{'year': 2017, 'is_mc': True, 'uncer': 'JER_down', 'is_fake': False, 'channel': 'EE', 'region': 'CR'}\n"
     ]
    },
    {
     "data": {
      "application/vnd.jupyter.widget-view+json": {
       "model_id": "b4b60a2527c54eb7aac7dcdcafe9e8a2",
       "version_major": 2,
       "version_minor": 0
      },
      "text/plain": [
       "Processing:   0%|          | 0/52 [00:00<?, ?chunk/s]"
      ]
     },
     "metadata": {},
     "output_type": "display_data"
    },
    {
     "name": "stdout",
     "output_type": "stream",
     "text": [
      "=========> 2017 channel: ME icate: mc\n",
      "{'year': 2017, 'is_mc': True, 'uncer': 'nom', 'is_fake': False, 'channel': 'ME', 'region': 'CR'}\n"
     ]
    },
    {
     "data": {
      "application/vnd.jupyter.widget-view+json": {
       "model_id": "d8cae924fc174067a740351bd663b2fd",
       "version_major": 2,
       "version_minor": 0
      },
      "text/plain": [
       "Processing:   0%|          | 0/50 [00:00<?, ?chunk/s]"
      ]
     },
     "metadata": {},
     "output_type": "display_data"
    },
    {
     "name": "stdout",
     "output_type": "stream",
     "text": [
      "=========> 2017 channel: ME icate: data\n",
      "{'year': 2017, 'is_mc': False, 'uncer': 'nom', 'is_fake': False, 'channel': 'ME', 'region': 'CR'}\n"
     ]
    },
    {
     "data": {
      "application/vnd.jupyter.widget-view+json": {
       "model_id": "4ded0beae35644888f26d85424792514",
       "version_major": 2,
       "version_minor": 0
      },
      "text/plain": [
       "Processing:   0%|          | 0/5 [00:00<?, ?chunk/s]"
      ]
     },
     "metadata": {},
     "output_type": "display_data"
    },
    {
     "name": "stdout",
     "output_type": "stream",
     "text": [
      "=========> 2017 channel: ME icate: fake\n",
      "{'year': 2017, 'is_mc': False, 'uncer': 'nom', 'is_fake': True, 'channel': 'ME', 'region': 'CR'}\n"
     ]
    },
    {
     "data": {
      "application/vnd.jupyter.widget-view+json": {
       "model_id": "cfd1d3a82a6a49eaa9a4b05dde985888",
       "version_major": 2,
       "version_minor": 0
      },
      "text/plain": [
       "Processing:   0%|          | 0/5 [00:00<?, ?chunk/s]"
      ]
     },
     "metadata": {},
     "output_type": "display_data"
    },
    {
     "name": "stdout",
     "output_type": "stream",
     "text": [
      "=========> 2017 channel: ME icate: fake_up\n",
      "{'year': 2017, 'is_mc': False, 'uncer': 'nom', 'is_fake': True, 'channel': 'ME', 'region': 'CR'}\n"
     ]
    },
    {
     "data": {
      "application/vnd.jupyter.widget-view+json": {
       "model_id": "3d74edb3c2a4472095c2932166db2be5",
       "version_major": 2,
       "version_minor": 0
      },
      "text/plain": [
       "Processing:   0%|          | 0/5 [00:00<?, ?chunk/s]"
      ]
     },
     "metadata": {},
     "output_type": "display_data"
    },
    {
     "name": "stdout",
     "output_type": "stream",
     "text": [
      "=========> 2017 channel: ME icate: fake_down\n",
      "{'year': 2017, 'is_mc': False, 'uncer': 'nom', 'is_fake': True, 'channel': 'ME', 'region': 'CR'}\n"
     ]
    },
    {
     "data": {
      "application/vnd.jupyter.widget-view+json": {
       "model_id": "dd124ba9a45c4185b1a549bb8891f046",
       "version_major": 2,
       "version_minor": 0
      },
      "text/plain": [
       "Processing:   0%|          | 0/5 [00:00<?, ?chunk/s]"
      ]
     },
     "metadata": {},
     "output_type": "display_data"
    },
    {
     "name": "stdout",
     "output_type": "stream",
     "text": [
      "=========> 2017 channel: ME icate: JEC_up\n",
      "{'year': 2017, 'is_mc': True, 'uncer': 'JEC_up', 'is_fake': False, 'channel': 'ME', 'region': 'CR'}\n"
     ]
    },
    {
     "data": {
      "application/vnd.jupyter.widget-view+json": {
       "model_id": "61962ea09b3b4a6fa3ad712dd047b401",
       "version_major": 2,
       "version_minor": 0
      },
      "text/plain": [
       "Processing:   0%|          | 0/52 [00:00<?, ?chunk/s]"
      ]
     },
     "metadata": {},
     "output_type": "display_data"
    },
    {
     "name": "stdout",
     "output_type": "stream",
     "text": [
      "=========> 2017 channel: ME icate: JEC_down\n",
      "{'year': 2017, 'is_mc': True, 'uncer': 'JEC_down', 'is_fake': False, 'channel': 'ME', 'region': 'CR'}\n"
     ]
    },
    {
     "data": {
      "application/vnd.jupyter.widget-view+json": {
       "model_id": "6ee240f0e753423eadaabd5a88b2985d",
       "version_major": 2,
       "version_minor": 0
      },
      "text/plain": [
       "Processing:   0%|          | 0/52 [00:00<?, ?chunk/s]"
      ]
     },
     "metadata": {},
     "output_type": "display_data"
    },
    {
     "name": "stdout",
     "output_type": "stream",
     "text": [
      "=========> 2017 channel: ME icate: JER_up\n",
      "{'year': 2017, 'is_mc': True, 'uncer': 'JER_up', 'is_fake': False, 'channel': 'ME', 'region': 'CR'}\n"
     ]
    },
    {
     "data": {
      "application/vnd.jupyter.widget-view+json": {
       "model_id": "82f728a275854922a4acb1d0f4a6df18",
       "version_major": 2,
       "version_minor": 0
      },
      "text/plain": [
       "Processing:   0%|          | 0/52 [00:00<?, ?chunk/s]"
      ]
     },
     "metadata": {},
     "output_type": "display_data"
    },
    {
     "name": "stdout",
     "output_type": "stream",
     "text": [
      "=========> 2017 channel: ME icate: JER_down\n",
      "{'year': 2017, 'is_mc': True, 'uncer': 'JER_down', 'is_fake': False, 'channel': 'ME', 'region': 'CR'}\n"
     ]
    },
    {
     "data": {
      "application/vnd.jupyter.widget-view+json": {
       "model_id": "4554e9543667488cb07dc1c0a90a70b8",
       "version_major": 2,
       "version_minor": 0
      },
      "text/plain": [
       "Processing:   0%|          | 0/52 [00:00<?, ?chunk/s]"
      ]
     },
     "metadata": {},
     "output_type": "display_data"
    }
   ],
   "source": [
    "hist_2017 = {}\n",
    "for iregion in [\"SR\",\"CR\"]:\n",
    "    hist_2017[iregion] = {}\n",
    "    for ichannel in [\"ALL\",\"EB\",\"MB\",\"EE\",\"ME\"]:\n",
    "        hist_2017[iregion][ichannel] = {}\n",
    "        for icate in ['mc','data','fake','fake_up','fake_down','JEC_up','JEC_down','JER_up','JER_down']:\n",
    "            print(\"=========> 2017\",\"channel:\",ichannel,\"icate:\",icate)\n",
    "            hist_2017[iregion][ichannel][icate] = processor.run_uproot_job(files[2017][icate],\n",
    "                                    'ZPKUCandidates',\n",
    "                                    MyProcessor(year=2017,is_mc=cate_cfg[icate][\"is_mc\"],uncer=cate_cfg[icate][\"uncer\"],is_fake=cate_cfg[icate][\"is_fake\"],channel=ichannel,region=iregion),\n",
    "                                    processor.futures_executor,\n",
    "                                    chunksize=10000,\n",
    "                                    executor_args = {'schema': BaseSchema, 'workers': 22}\n",
    "                                    )\n"
   ]
  },
  {
   "cell_type": "code",
   "execution_count": 14,
   "id": "0d9f8abd",
   "metadata": {},
   "outputs": [],
   "source": [
    "with open(\"plots/plot_2017_tmp.pkl\", \"wb\") as f:\n",
    "    pickle.dump(hist_2017, f)\n",
    "with open(\"plots/plot_2017_tmp.pkl\", \"rb\") as f:\n",
    "    hist_2017 = pickle.load(f)"
   ]
  },
  {
   "cell_type": "code",
   "execution_count": null,
   "id": "e3391705",
   "metadata": {},
   "outputs": [],
   "source": [
    "# a = hist.Hist(hist_2017[\"EB\"]['fake_down']['mll'].to_boost())\n",
    "# a[{'dataset':'fake'}].plot()\n",
    "# a[{'dataset':'fake'}].sum"
   ]
  },
  {
   "cell_type": "code",
   "execution_count": null,
   "id": "0fbc7114",
   "metadata": {},
   "outputs": [],
   "source": [
    "# a=hist.Hist(hist_2017[\"SR\"][\"ALL\"][\"JEC_up\"][\"mjj\"].to_boost())\n",
    "# a[{\"dataset\":\"za_ewk\"}]"
   ]
  },
  {
   "cell_type": "markdown",
   "id": "d802f3e2",
   "metadata": {},
   "source": [
    "## Reorganize plots"
   ]
  },
  {
   "cell_type": "markdown",
   "id": "36eb3905",
   "metadata": {},
   "source": [
    "### 2016"
   ]
  },
  {
   "cell_type": "code",
   "execution_count": 15,
   "id": "b5e8f9d5",
   "metadata": {},
   "outputs": [],
   "source": [
    "restruct_hist_2016 = {}\n",
    "for iregion in hist_2016:\n",
    "    restruct_hist_2016[iregion] = {}\n",
    "    for ichannel in hist_2016[iregion]:\n",
    "        restruct_hist_2016[iregion][ichannel] = {}\n",
    "        # print(\"===>\",ichannel)\n",
    "        for icate in hist_2016[iregion][ichannel]:\n",
    "            # print(\"======>\",icate)\n",
    "            for ivar in hist_2016[iregion][ichannel][icate]:\n",
    "                # print(\"=========>\",ivar)\n",
    "                if ivar in restruct_hist_2016[iregion][ichannel].keys():\n",
    "                    pass\n",
    "                else:\n",
    "                    restruct_hist_2016[iregion][ichannel][ivar] = {}\n",
    "                htmp = hist.Hist(hist_2016[iregion][ichannel][icate][ivar].to_boost())\n",
    "                for isp in htmp.axes['dataset']:\n",
    "                    # print(\"============>\",isp)\n",
    "                    if len(htmp[{'dataset':isp}].axes) == 2:\n",
    "                        h2d_tmp = htmp[{'dataset':isp}]\n",
    "                        # unroll 2D histogram -> 1D histogram\n",
    "                        bin_value = h2d_tmp.values()\n",
    "                        bin_variance = h2d_tmp.variances()\n",
    "\n",
    "                        unroll_htmp = hist.Hist(\n",
    "                            hist.axis.Regular((bin_value).size, 0, (bin_value).size),\n",
    "                            name = \"x\",\n",
    "                            storage = hist.storage.Weight(),\n",
    "                            label = f\"{h2d_tmp.axes.label[0]}:{h2d_tmp.axes.label[1]}\",\n",
    "                        )\n",
    "                        unroll_htmp[...] = np.stack([bin_value.flatten('F'), bin_variance.flatten('F')], axis=-1)\n",
    "                        restruct_hist_2016[iregion][ichannel][ivar][isp] = unroll_htmp\n",
    "                    else:\n",
    "                        restruct_hist_2016[iregion][ichannel][ivar][isp] = htmp[{'dataset':isp}]\n"
   ]
  },
  {
   "cell_type": "code",
   "execution_count": 16,
   "id": "7f9e5268",
   "metadata": {},
   "outputs": [
    {
     "data": {
      "text/plain": [
       "{'others': Hist(Regular(9, 0, 9, label='Axis 0'), storage=Weight()) # Sum: WeightedSum(value=13.0386, variance=8.44389),\n",
       " 'za_ewk': Hist(Regular(9, 0, 9, label='Axis 0'), storage=Weight()) # Sum: WeightedSum(value=66.2374, variance=0.27494),\n",
       " 'za_qcd': Hist(Regular(9, 0, 9, label='Axis 0'), storage=Weight()) # Sum: WeightedSum(value=155.533, variance=37.5334),\n",
       " 'data': Hist(Regular(9, 0, 9, label='Axis 0'), storage=Weight()) # Sum: WeightedSum(value=290, variance=290),\n",
       " 'fake': Hist(Regular(9, 0, 9, label='Axis 0'), storage=Weight()) # Sum: WeightedSum(value=85.53, variance=24.9471),\n",
       " 'fake_up': Hist(Regular(9, 0, 9, label='Axis 0'), storage=Weight()) # Sum: WeightedSum(value=103.71, variance=36.0057),\n",
       " 'fake_down': Hist(Regular(9, 0, 9, label='Axis 0'), storage=Weight()) # Sum: WeightedSum(value=67.26, variance=16.4912),\n",
       " 'others_JEC_up': Hist(Regular(9, 0, 9, label='Axis 0'), storage=Weight()) # Sum: WeightedSum(value=13.0188, variance=5.78352),\n",
       " 'za_ewk_JEC_up': Hist(Regular(9, 0, 9, label='Axis 0'), storage=Weight()) # Sum: WeightedSum(value=65.9447, variance=0.272022),\n",
       " 'za_qcd_JEC_up': Hist(Regular(9, 0, 9, label='Axis 0'), storage=Weight()) # Sum: WeightedSum(value=169.873, variance=27.6459),\n",
       " 'others_JEC_down': Hist(Regular(9, 0, 9, label='Axis 0'), storage=Weight()) # Sum: WeightedSum(value=14.1196, variance=8.41813),\n",
       " 'za_ewk_JEC_down': Hist(Regular(9, 0, 9, label='Axis 0'), storage=Weight()) # Sum: WeightedSum(value=63.6604, variance=0.260134),\n",
       " 'za_qcd_JEC_down': Hist(Regular(9, 0, 9, label='Axis 0'), storage=Weight()) # Sum: WeightedSum(value=130.797, variance=20.4644),\n",
       " 'others_JER_up': Hist(Regular(9, 0, 9, label='Axis 0'), storage=Weight()) # Sum: WeightedSum(value=15.0977, variance=10.3402),\n",
       " 'za_ewk_JER_up': Hist(Regular(9, 0, 9, label='Axis 0'), storage=Weight()) # Sum: WeightedSum(value=64.6219, variance=0.264502),\n",
       " 'za_qcd_JER_up': Hist(Regular(9, 0, 9, label='Axis 0'), storage=Weight()) # Sum: WeightedSum(value=161.489, variance=26.5426),\n",
       " 'others_JER_down': Hist(Regular(9, 0, 9, label='Axis 0'), storage=Weight()) # Sum: WeightedSum(value=14.7302, variance=8.80354),\n",
       " 'za_ewk_JER_down': Hist(Regular(9, 0, 9, label='Axis 0'), storage=Weight()) # Sum: WeightedSum(value=64.9766, variance=0.265386),\n",
       " 'za_qcd_JER_down': Hist(Regular(9, 0, 9, label='Axis 0'), storage=Weight()) # Sum: WeightedSum(value=135.935, variance=21.5645)}"
      ]
     },
     "execution_count": 16,
     "metadata": {},
     "output_type": "execute_result"
    }
   ],
   "source": [
    "restruct_hist_2016[\"SR\"][\"ALL\"][\"mjj_detajj\"]"
   ]
  },
  {
   "cell_type": "code",
   "execution_count": 17,
   "id": "02c70cbd",
   "metadata": {},
   "outputs": [],
   "source": [
    "# add total prediction plots\n",
    "for iregion in restruct_hist_2016:\n",
    "    for ichannel in restruct_hist_2016[iregion]:\n",
    "        # print(\"===>\",ichannel)\n",
    "        for ivar in restruct_hist_2016[iregion][ichannel]:\n",
    "            # print(\"======>\",ivar)\n",
    "            htmp=0\n",
    "            htmp_up=0\n",
    "            htmp_down=0\n",
    "            for isp in ['za_qcd','za_ewk','others','fake']:\n",
    "                htmp += restruct_hist_2016[iregion][ichannel][ivar][isp]\n",
    "            for isp in ['za_qcd_JEC_up','za_ewk_JEC_up','others_JEC_up','za_qcd_JER_up','za_ewk_JER_up','others_JER_up','fake_up','fake']:\n",
    "                htmp_up += restruct_hist_2016[iregion][ichannel][ivar][isp]\n",
    "            for isp in ['za_qcd_JEC_down','za_ewk_JEC_down','others_JEC_down','za_qcd_JER_down','za_ewk_JER_down','others_JER_down','fake_down','fake']:\n",
    "                htmp_down += restruct_hist_2016[iregion][ichannel][ivar][isp]\n",
    "            restruct_hist_2016[iregion][ichannel][ivar]['total_pred'] = htmp\n",
    "            restruct_hist_2016[iregion][ichannel][ivar]['total_pred_up'] = htmp_up+htmp*(-1)\n",
    "            restruct_hist_2016[iregion][ichannel][ivar]['total_pred_down'] = htmp_down+htmp*(-1)\n",
    "\n",
    "# store plots\n",
    "\n",
    "with open(\"plots/plot_2016.pkl\", \"wb\") as f:\n",
    "    pickle.dump(restruct_hist_2016, f)"
   ]
  },
  {
   "cell_type": "code",
   "execution_count": 18,
   "id": "2c177cad",
   "metadata": {},
   "outputs": [],
   "source": [
    "# a=restruct_hist_2016[\"SR\"][\"ALL\"][\"mjj\"][\"others\"]\n",
    "# a.plot()"
   ]
  },
  {
   "cell_type": "markdown",
   "id": "5113941c",
   "metadata": {},
   "source": [
    "### 2017"
   ]
  },
  {
   "cell_type": "code",
   "execution_count": 19,
   "id": "865fca0f",
   "metadata": {},
   "outputs": [],
   "source": [
    "restruct_hist_2017 = {}\n",
    "for iregion in hist_2017:\n",
    "    restruct_hist_2017[iregion] = {}\n",
    "    for ichannel in hist_2017[iregion]:\n",
    "        restruct_hist_2017[iregion][ichannel] = {}\n",
    "        # print(\"===>\",ichannel)\n",
    "        for icate in hist_2017[iregion][ichannel]:\n",
    "            # print(\"======>\",icate)\n",
    "            for ivar in hist_2017[iregion][ichannel][icate]:\n",
    "                # print(\"=========>\",ivar)\n",
    "                if ivar in restruct_hist_2017[iregion][ichannel].keys():\n",
    "                    pass\n",
    "                else:\n",
    "                    restruct_hist_2017[iregion][ichannel][ivar] = {}\n",
    "                htmp = hist.Hist(hist_2017[iregion][ichannel][icate][ivar].to_boost())\n",
    "                for isp in htmp.axes['dataset']:\n",
    "                    # print(\"============>\",isp)\n",
    "                    # unroll 2D histogram -> 1D histogram\n",
    "                    if len(htmp[{'dataset':isp}].axes) == 2:\n",
    "                        h2d_tmp = htmp[{'dataset':isp}]\n",
    "                        # unroll 2D histogram -> 1D histogram\n",
    "                        bin_value = h2d_tmp.values()\n",
    "                        bin_variance = h2d_tmp.variances()\n",
    "\n",
    "                        unroll_htmp = hist.Hist(\n",
    "                            hist.axis.Regular((bin_value).size, 0, (bin_value).size),\n",
    "                            name = \"x\",\n",
    "                            storage = hist.storage.Weight(),\n",
    "                            label = f\"{h2d_tmp.axes.label[0]}:{h2d_tmp.axes.label[1]}\",\n",
    "                        )\n",
    "                        unroll_htmp[...] = np.stack([bin_value.flatten('F'), bin_variance.flatten('F')], axis=-1)\n",
    "                        restruct_hist_2017[iregion][ichannel][ivar][isp] = unroll_htmp\n",
    "                    else:\n",
    "                        restruct_hist_2017[iregion][ichannel][ivar][isp] = htmp[{'dataset':isp}]\n"
   ]
  },
  {
   "cell_type": "code",
   "execution_count": 20,
   "id": "87edf071",
   "metadata": {},
   "outputs": [],
   "source": [
    "# add total prediction plots\n",
    "for iregion in restruct_hist_2017:\n",
    "    for ichannel in restruct_hist_2017[iregion]:\n",
    "        # print(\"===>\",ichannel)\n",
    "        for ivar in restruct_hist_2017[iregion][ichannel]:\n",
    "            # print(\"======>\",ivar)\n",
    "            htmp=0\n",
    "            htmp_up=0\n",
    "            htmp_down=0\n",
    "            for isp in ['za_qcd','za_ewk','others','fake']:\n",
    "                htmp += restruct_hist_2017[iregion][ichannel][ivar][isp]\n",
    "            for isp in ['za_qcd_JEC_up','za_ewk_JEC_up','others_JEC_up','za_qcd_JER_up','za_ewk_JER_up','others_JER_up','fake_up','fake']:\n",
    "                htmp_up += restruct_hist_2017[iregion][ichannel][ivar][isp]\n",
    "            for isp in ['za_qcd_JEC_down','za_ewk_JEC_down','others_JEC_down','za_qcd_JER_down','za_ewk_JER_down','others_JER_down','fake_down','fake']:\n",
    "                htmp_down += restruct_hist_2017[iregion][ichannel][ivar][isp]\n",
    "            restruct_hist_2017[iregion][ichannel][ivar]['total_pred'] = htmp\n",
    "            restruct_hist_2017[iregion][ichannel][ivar]['total_pred_up'] = htmp_up+htmp*(-1)\n",
    "            restruct_hist_2017[iregion][ichannel][ivar]['total_pred_down'] = htmp_down+htmp*(-1)\n",
    "\n",
    "\n",
    "# store plots\n",
    "\n",
    "with open(\"plots/plot_2017.pkl\", \"wb\") as f:\n",
    "    pickle.dump(restruct_hist_2017, f)"
   ]
  },
  {
   "cell_type": "markdown",
   "id": "0bd59eeb",
   "metadata": {},
   "source": [
    "### 2016+2017"
   ]
  },
  {
   "cell_type": "code",
   "execution_count": 21,
   "id": "bda7c225",
   "metadata": {},
   "outputs": [],
   "source": [
    "restruct_hist_combine = {}\n",
    "# add total prediction plots\n",
    "for iregion in restruct_hist_2016:\n",
    "    restruct_hist_combine[iregion] = {}\n",
    "    for ichannel in restruct_hist_2016[iregion]:\n",
    "        # print(\"===>\",ichannel)\n",
    "        restruct_hist_combine[iregion][ichannel] = {}\n",
    "        for ivar in restruct_hist_2016[iregion][ichannel]:\n",
    "            # print(\"======>\",ivar)\n",
    "            restruct_hist_combine[iregion][ichannel][ivar] = {}\n",
    "            for isp in restruct_hist_2016[iregion][ichannel][ivar]:\n",
    "                restruct_hist_combine[iregion][ichannel][ivar][isp] = restruct_hist_2016[iregion][ichannel][ivar][isp] + restruct_hist_2017[iregion][ichannel][ivar][isp]\n",
    "# store plots\n",
    "\n",
    "with open(\"plots/plot_combine.pkl\", \"wb\") as f:\n",
    "    pickle.dump(restruct_hist_combine, f)"
   ]
  },
  {
   "cell_type": "code",
   "execution_count": 22,
   "id": "1bd987ba",
   "metadata": {},
   "outputs": [],
   "source": [
    "# restruct_hist_combine['SR']['ALL']['mjj_detajj']"
   ]
  },
  {
   "cell_type": "markdown",
   "id": "03d1bc5d",
   "metadata": {},
   "source": [
    "## Plots for statistics"
   ]
  },
  {
   "cell_type": "code",
   "execution_count": 23,
   "id": "4467bf6c",
   "metadata": {},
   "outputs": [],
   "source": [
    "# refer to: https://github.com/scikit-hep/cabinetry/blob/master/utils/create_histograms.py\n",
    "\n",
    "def get_hists_for_stat(hdict, output_directory, channel, var):\n",
    "    file_name = output_directory + \"/histograms.root\"\n",
    "    with up.recreate(file_name) as f:\n",
    "        for iregion in [\"SR\",\"CR\"]:\n",
    "            if iregion==\"SR\":\n",
    "                f[f\"{iregion}/Data/Nominal\"] = hdict[iregion][channel][var]['data']\n",
    "                f[f\"{iregion}/Signal/Nominal\"] = hdict[iregion][channel][var]['za_ewk']\n",
    "                f[f\"{iregion}/Signal/JEC_up\"] = hdict[iregion][channel][var]['za_ewk_JEC_up']\n",
    "                f[f\"{iregion}/Signal/JEC_down\"] = hdict[iregion][channel][var]['za_ewk_JEC_down']\n",
    "                f[f\"{iregion}/Signal/JER_up\"] = hdict[iregion][channel][var]['za_ewk_JER_up']\n",
    "                f[f\"{iregion}/Signal/JER_down\"] = hdict[iregion][channel][var]['za_ewk_JER_down']\n",
    "                f[f\"{iregion}/ZGammaQCD/Nominal\"] = hdict[iregion][channel][var]['za_qcd']\n",
    "                f[f\"{iregion}/ZGammaQCD/JEC_up\"] = hdict[iregion][channel][var]['za_qcd_JEC_up']\n",
    "                f[f\"{iregion}/ZGammaQCD/JEC_down\"] = hdict[iregion][channel][var]['za_qcd_JEC_down']\n",
    "                f[f\"{iregion}/ZGammaQCD/JER_up\"] = hdict[iregion][channel][var]['za_qcd_JER_up']\n",
    "                f[f\"{iregion}/ZGammaQCD/JER_down\"] = hdict[iregion][channel][var]['za_qcd_JER_down']\n",
    "                f[f\"{iregion}/FakePhoton/Nominal\"] = hdict[iregion][channel][var]['fake']\n",
    "                f[f\"{iregion}/FakePhoton/FakeSyst_up\"] = hdict[iregion][channel][var]['fake_up']\n",
    "                f[f\"{iregion}/FakePhoton/FakeSyst_down\"] = hdict[iregion][channel][var]['fake_down']\n",
    "                f[f\"{iregion}/Others/Nominal\"] = hdict[iregion][channel][var]['others']\n",
    "                f[f\"{iregion}/Others/JEC_up\"] = hdict[iregion][channel][var]['others_JEC_up']\n",
    "                f[f\"{iregion}/Others/JEC_down\"] = hdict[iregion][channel][var]['others_JEC_down']\n",
    "                f[f\"{iregion}/Others/JER_up\"] = hdict[iregion][channel][var]['others_JER_up']\n",
    "                f[f\"{iregion}/Others/JER_down\"] = hdict[iregion][channel][var]['others_JER_down']\n",
    "            else:\n",
    "                # only consider lowmjj distribution in CR\n",
    "                f[f\"{iregion}/Data/Nominal\"] = hdict[iregion][channel][\"lowmjj\"]['data']\n",
    "                f[f\"{iregion}/Signal/Nominal\"] = hdict[iregion][channel][\"lowmjj\"]['za_ewk']\n",
    "                f[f\"{iregion}/Signal/JEC_up\"] = hdict[iregion][channel][\"lowmjj\"]['za_ewk_JEC_up']\n",
    "                f[f\"{iregion}/Signal/JEC_down\"] = hdict[iregion][channel][\"lowmjj\"]['za_ewk_JEC_down']\n",
    "                f[f\"{iregion}/Signal/JER_up\"] = hdict[iregion][channel][\"lowmjj\"]['za_ewk_JER_up']\n",
    "                f[f\"{iregion}/Signal/JER_down\"] = hdict[iregion][channel][\"lowmjj\"]['za_ewk_JER_down']\n",
    "                f[f\"{iregion}/ZGammaQCD/Nominal\"] = hdict[iregion][channel][\"lowmjj\"]['za_qcd']\n",
    "                f[f\"{iregion}/ZGammaQCD/JEC_up\"] = hdict[iregion][channel][\"lowmjj\"]['za_qcd_JEC_up']\n",
    "                f[f\"{iregion}/ZGammaQCD/JEC_down\"] = hdict[iregion][channel][\"lowmjj\"]['za_qcd_JEC_down']\n",
    "                f[f\"{iregion}/ZGammaQCD/JER_up\"] = hdict[iregion][channel][\"lowmjj\"]['za_qcd_JER_up']\n",
    "                f[f\"{iregion}/ZGammaQCD/JER_down\"] = hdict[iregion][channel][\"lowmjj\"]['za_qcd_JER_down']\n",
    "                f[f\"{iregion}/FakePhoton/Nominal\"] = hdict[iregion][channel][\"lowmjj\"]['fake']\n",
    "                f[f\"{iregion}/FakePhoton/FakeSyst_up\"] = hdict[iregion][channel][\"lowmjj\"]['fake_up']\n",
    "                f[f\"{iregion}/FakePhoton/FakeSyst_down\"] = hdict[iregion][channel][\"lowmjj\"]['fake_down']\n",
    "                f[f\"{iregion}/Others/Nominal\"] = hdict[iregion][channel][\"lowmjj\"]['others']\n",
    "                f[f\"{iregion}/Others/JEC_up\"] = hdict[iregion][channel][\"lowmjj\"]['others_JEC_up']\n",
    "                f[f\"{iregion}/Others/JEC_down\"] = hdict[iregion][channel][\"lowmjj\"]['others_JEC_down']\n",
    "                f[f\"{iregion}/Others/JER_up\"] = hdict[iregion][channel][\"lowmjj\"]['others_JER_up']\n",
    "                f[f\"{iregion}/Others/JER_down\"] = hdict[iregion][channel][\"lowmjj\"]['others_JER_down']"
   ]
  },
  {
   "cell_type": "code",
   "execution_count": 25,
   "id": "6af0e4b8",
   "metadata": {},
   "outputs": [],
   "source": [
    "import os\n",
    "output_directory = \"inputs/\"\n",
    "if not os.path.exists(output_directory):\n",
    "    os.mkdir(output_directory)\n",
    "get_hists_for_stat(restruct_hist_combine, output_directory, \"ALL\", \"mjj_detajj\") # You can try another variable"
   ]
  },
  {
   "cell_type": "markdown",
   "id": "ac0863b7",
   "metadata": {},
   "source": [
    "## Backup"
   ]
  },
  {
   "cell_type": "code",
   "execution_count": 26,
   "id": "678c913a",
   "metadata": {},
   "outputs": [],
   "source": [
    "with open(\"plots/plot_2017_tmp.pkl\", \"rb\") as f:\n",
    "    hists = pickle.load(f)\n"
   ]
  },
  {
   "cell_type": "code",
   "execution_count": 30,
   "id": "f6d00421",
   "metadata": {},
   "outputs": [],
   "source": [
    "a = hists[\"SR\"][\"ALL\"]['mc'][\"mjj_detajj\"]"
   ]
  },
  {
   "cell_type": "code",
   "execution_count": 39,
   "id": "82a944ed",
   "metadata": {},
   "outputs": [
    {
     "ename": "AttributeError",
     "evalue": "'Hist' object has no attribute 'plot'",
     "output_type": "error",
     "traceback": [
      "\u001b[0;31m---------------------------------------------------------------------------\u001b[0m",
      "\u001b[0;31mAttributeError\u001b[0m                            Traceback (most recent call last)",
      "\u001b[0;32m/tmp/ipykernel_1637185/2663791480.py\u001b[0m in \u001b[0;36m<module>\u001b[0;34m\u001b[0m\n\u001b[0;32m----> 1\u001b[0;31m \u001b[0;34m(\u001b[0m\u001b[0ma\u001b[0m\u001b[0;34m.\u001b[0m\u001b[0mproject\u001b[0m\u001b[0;34m(\u001b[0m\u001b[0;34m\"dataset\"\u001b[0m\u001b[0;34m)\u001b[0m\u001b[0;34m)\u001b[0m\u001b[0;34m.\u001b[0m\u001b[0mplot\u001b[0m\u001b[0;34m(\u001b[0m\u001b[0;34m)\u001b[0m\u001b[0;34m\u001b[0m\u001b[0;34m\u001b[0m\u001b[0m\n\u001b[0m",
      "\u001b[0;31mAttributeError\u001b[0m: 'Hist' object has no attribute 'plot'"
     ]
    }
   ],
   "source": []
  },
  {
   "cell_type": "code",
   "execution_count": 43,
   "id": "d9be0509",
   "metadata": {},
   "outputs": [],
   "source": [
    "val = a.values()"
   ]
  },
  {
   "cell_type": "code",
   "execution_count": 49,
   "id": "58716971",
   "metadata": {},
   "outputs": [
    {
     "name": "stdout",
     "output_type": "stream",
     "text": [
      "[15.05012024 10.19323157  6.61424897  3.03406859  6.3003437  10.29506858\n",
      "  0.0308104   0.48913561  5.14104994]\n",
      "[0.07304155 0.04791563 0.02934412 0.02755175 0.03046072 0.04659067\n",
      " 0.00018227 0.00368352 0.02399124]\n"
     ]
    }
   ],
   "source": [
    "if len(a.axes) >= 1:\n",
    "    bin_value = (a.values()).flatten('F')\n",
    "    bin_variance = (a.variances()).flatten('F')\n",
    "print(bin_value)\n",
    "print(bin_variance)"
   ]
  },
  {
   "cell_type": "code",
   "execution_count": 61,
   "id": "8bd20c2c",
   "metadata": {},
   "outputs": [
    {
     "data": {
      "text/plain": [
       "9"
      ]
     },
     "execution_count": 61,
     "metadata": {},
     "output_type": "execute_result"
    }
   ],
   "source": [
    "value=a.values()\n",
    "value.size"
   ]
  },
  {
   "cell_type": "code",
   "execution_count": 70,
   "id": "a8e9781a",
   "metadata": {},
   "outputs": [
    {
     "name": "stdout",
     "output_type": "stream",
     "text": [
      "[15.05012024 10.19323157  6.61424897  3.03406859  6.3003437  10.29506858\n",
      "  0.0308104   0.48913561  5.14104994]\n",
      "[0.07304155 0.04791563 0.02934412 0.02755175 0.03046072 0.04659067\n",
      " 0.00018227 0.00368352 0.02399124]\n"
     ]
    }
   ],
   "source": [
    "print(bin_value)\n",
    "print(bin_variance)"
   ]
  },
  {
   "cell_type": "code",
   "execution_count": null,
   "id": "dd30aa5a",
   "metadata": {},
   "outputs": [],
   "source": [
    "bins = np.arange(0, (a.values()).size+1, 1, dtype=np.float64)\n",
    "hist = bh.Histogram(bh.axis.Variable(bins), storage=bh.storage.Weight())\n",
    "yields = bin_value\n",
    "#  = bin_variance\n",
    "hist[...] = np.stack([bin_value, bin_variance], axis=-1)\n"
   ]
  },
  {
   "cell_type": "code",
   "execution_count": 72,
   "id": "d68c2cb1",
   "metadata": {},
   "outputs": [
    {
     "data": {
      "text/plain": [
       "Histogram(Variable([0, 1, 2, 3, 4, 5, 6, 7, 8, 9]), storage=Weight()) # Sum: WeightedSum(value=0, variance=0)"
      ]
     },
     "execution_count": 72,
     "metadata": {},
     "output_type": "execute_result"
    }
   ],
   "source": [
    "bins = np.arange(0, (a.values()).size+1, 1, dtype=np.float64)\n",
    "hist = bh.Histogram(bh.axis.Variable(bins), storage=bh.storage.Weight())\n",
    "hist"
   ]
  },
  {
   "cell_type": "code",
   "execution_count": 69,
   "id": "4ad49fd6",
   "metadata": {},
   "outputs": [
    {
     "data": {
      "text/plain": [
       "array([[1.50501202e+01, 7.30415547e-02],\n",
       "       [1.01932316e+01, 4.79156330e-02],\n",
       "       [6.61424897e+00, 2.93441193e-02],\n",
       "       [3.03406859e+00, 2.75517523e-02],\n",
       "       [6.30034370e+00, 3.04607182e-02],\n",
       "       [1.02950686e+01, 4.65906743e-02],\n",
       "       [3.08104015e-02, 1.82265994e-04],\n",
       "       [4.89135614e-01, 3.68352316e-03],\n",
       "       [5.14104994e+00, 2.39912378e-02]])"
      ]
     },
     "execution_count": 69,
     "metadata": {},
     "output_type": "execute_result"
    }
   ],
   "source": [
    "np.stack([bin_value, bin_variance], axis=-1)"
   ]
  },
  {
   "cell_type": "code",
   "execution_count": 73,
   "id": "cb06bb6c",
   "metadata": {},
   "outputs": [],
   "source": [
    "hist[...]=np.stack([bin_value, bin_variance], axis=-1)"
   ]
  },
  {
   "cell_type": "code",
   "execution_count": 85,
   "id": "02e7f5c3",
   "metadata": {},
   "outputs": [],
   "source": [
    "b=a.profile\n"
   ]
  },
  {
   "cell_type": "code",
   "execution_count": 88,
   "id": "9cd64340",
   "metadata": {},
   "outputs": [
    {
     "ename": "AttributeError",
     "evalue": "'function' object has no attribute 'values'",
     "output_type": "error",
     "traceback": [
      "\u001b[0;31m---------------------------------------------------------------------------\u001b[0m",
      "\u001b[0;31mAttributeError\u001b[0m                            Traceback (most recent call last)",
      "\u001b[0;32m/tmp/ipykernel_328124/1227866755.py\u001b[0m in \u001b[0;36m<module>\u001b[0;34m\u001b[0m\n\u001b[0;32m----> 1\u001b[0;31m \u001b[0mb\u001b[0m\u001b[0;34m.\u001b[0m\u001b[0mvalues\u001b[0m\u001b[0;34m\u001b[0m\u001b[0;34m\u001b[0m\u001b[0m\n\u001b[0m",
      "\u001b[0;31mAttributeError\u001b[0m: 'function' object has no attribute 'values'"
     ]
    }
   ],
   "source": [
    "b.values"
   ]
  },
  {
   "cell_type": "code",
   "execution_count": 82,
   "id": "c3e58247",
   "metadata": {},
   "outputs": [
    {
     "data": {
      "text/plain": [
       "<bound method BaseHist.project of Hist(\n",
       "  Variable([500, 800, 1200, 2000], name='x', label='$m_{jj}$ (GeV)'),\n",
       "  Variable([2.5, 4.5, 6, 10], name='y', label='$|\\\\Delta \\\\eta _{jj}|$ (GeV)'),\n",
       "  storage=Weight()) # Sum: WeightedSum(value=57.1481, variance=0.282761)>"
      ]
     },
     "execution_count": 82,
     "metadata": {},
     "output_type": "execute_result"
    }
   ],
   "source": [
    "a.project"
   ]
  },
  {
   "cell_type": "code",
   "execution_count": 39,
   "id": "ba55a9e4",
   "metadata": {},
   "outputs": [
    {
     "name": "stdout",
     "output_type": "stream",
     "text": [
      "                  ┌──────────────────────────────────────────────────────────┐\n",
      "[-inf, 200) 0     │                                                          │\n",
      "[ 200, 300) 112.7 │██████████████████████████████████████████████████        │\n",
      "[ 300, 400) 128.6 │█████████████████████████████████████████████████████████ │\n",
      "[ 400, 500) 88.11 │███████████████████████████████████████                   │\n",
      "[ 500, 600) 55.25 │████████████████████████▌                                 │\n",
      "[ 600, inf) 0     │                                                          │\n",
      "                  └──────────────────────────────────────────────────────────┘\n"
     ]
    }
   ],
   "source": [
    "yields = np.asarray([112.73896936, 128.62169539, 88.10700838, 55.24607072])\n",
    "stdev = np.asarray([4.76136678, 5.10645036, 4.21104367, 3.34933335])\n",
    "hist[...] = np.stack([yields, stdev ** 2], axis=-1)\n",
    "print(hist)\n"
   ]
  },
  {
   "cell_type": "code",
   "execution_count": 41,
   "id": "294ca538-d124-4536-b9b4-3d323ce209de",
   "metadata": {
    "tags": []
   },
   "outputs": [
    {
     "name": "stdout",
     "output_type": "stream",
     "text": [
      "                     ┌───────────────────────────────────────────────────────┐\n",
      "[ -inf,   500) 0     │                                                       │\n",
      "[  500, 687.5) 23.81 │██████████████████████████████████████████████████████ │\n",
      "[687.5,   875) 21.47 │████████████████████████████████████████████████▊      │\n",
      "[  875,  1062) 17.4  │███████████████████████████████████████▌               │\n",
      "[ 1062,  1250) 14.03 │███████████████████████████████▉                       │\n",
      "[ 1250,  1438) 10.48 │███████████████████████▊                               │\n",
      "[ 1438,  1625) 8.482 │███████████████████▎                                   │\n",
      "[ 1625,  1812) 6.316 │██████████████▍                                        │\n",
      "[ 1812,  2000) 21.4  │████████████████████████████████████████████████▌      │\n",
      "[ 2000,   inf) 0     │                                                       │\n",
      "                     └───────────────────────────────────────────────────────┘\n"
     ]
    }
   ],
   "source": [
    "print(restruct_hist_combine['SR']['ALL'][\"mjj\"][\"za_ewk\"])"
   ]
  },
  {
   "cell_type": "code",
   "execution_count": 46,
   "id": "7678e510",
   "metadata": {},
   "outputs": [
    {
     "ename": "NameError",
     "evalue": "name 'mc_hists' is not defined",
     "output_type": "error",
     "traceback": [
      "\u001b[0;31m---------------------------------------------------------------------------\u001b[0m",
      "\u001b[0;31mNameError\u001b[0m                                 Traceback (most recent call last)",
      "\u001b[0;32m/tmp/ipykernel_126748/148102353.py\u001b[0m in \u001b[0;36m<module>\u001b[0;34m\u001b[0m\n\u001b[0;32m----> 1\u001b[0;31m \u001b[0ma\u001b[0m \u001b[0;34m=\u001b[0m \u001b[0mhist\u001b[0m\u001b[0;34m.\u001b[0m\u001b[0mHist\u001b[0m\u001b[0;34m(\u001b[0m\u001b[0mmc_hists\u001b[0m\u001b[0;34m[\u001b[0m\u001b[0;34m'z_pt'\u001b[0m\u001b[0;34m]\u001b[0m\u001b[0;34m.\u001b[0m\u001b[0mto_boost\u001b[0m\u001b[0;34m(\u001b[0m\u001b[0;34m)\u001b[0m\u001b[0;34m)\u001b[0m\u001b[0;34m\u001b[0m\u001b[0;34m\u001b[0m\u001b[0m\n\u001b[0m",
      "\u001b[0;31mNameError\u001b[0m: name 'mc_hists' is not defined"
     ]
    }
   ],
   "source": [
    "a = hist.Hist(mc_hists['z_pt'].to_boost())\n"
   ]
  },
  {
   "cell_type": "code",
   "execution_count": 47,
   "id": "95786585",
   "metadata": {},
   "outputs": [
    {
     "data": {
      "text/plain": [
       "21.0"
      ]
     },
     "execution_count": 47,
     "metadata": {},
     "output_type": "execute_result"
    }
   ],
   "source": [
    "ak.sum(a[{'dataset':'DoubleMuon_Run2018A'}].values())"
   ]
  },
  {
   "cell_type": "code",
   "execution_count": 57,
   "id": "bded1f56-9290-45c8-8a9f-def2f5e24e0f",
   "metadata": {},
   "outputs": [
    {
     "data": {
      "text/plain": [
       "<bound method Hist.dim of <Hist (dataset,x) instance at 0x7f8b143a3dc0>>"
      ]
     },
     "execution_count": 57,
     "metadata": {},
     "output_type": "execute_result"
    }
   ],
   "source": [
    "MuBarrel=116.669322\n",
    "MuEndcap=42.24843630000001\n",
    "EBarrel=61.1630082\n",
    "EEndcap=27.576385200000004\n"
   ]
  },
  {
   "cell_type": "code",
   "execution_count": 70,
   "id": "19902d4c",
   "metadata": {},
   "outputs": [
    {
     "data": {
      "text/plain": [
       "1.2136535249844205e-06"
      ]
     },
     "execution_count": 70,
     "metadata": {},
     "output_type": "execute_result"
    }
   ],
   "source": [
    "(55.49*1000/45721450857)"
   ]
  },
  {
   "cell_type": "code",
   "execution_count": 197,
   "id": "60ac3bab-d9a6-4ccd-a085-11a456b449b9",
   "metadata": {},
   "outputs": [
    {
     "data": {
      "text/plain": [
       "3.0978388"
      ]
     },
     "execution_count": 197,
     "metadata": {},
     "output_type": "execute_result"
    }
   ],
   "source": [
    "signalRes['z_pt'].values()[('ZHjj_Zll_Hbb_QCD_LO',)].sum()*134"
   ]
  },
  {
   "cell_type": "code",
   "execution_count": 48,
   "id": "d2926117-ec64-4875-94e7-fea1780f9941",
   "metadata": {},
   "outputs": [],
   "source": [
    "import ROOT"
   ]
  },
  {
   "cell_type": "code",
   "execution_count": 134,
   "id": "26e1ecb6",
   "metadata": {},
   "outputs": [
    {
     "data": {
      "text/plain": [
       "array([   9.,   10.,   24.,   19.,   68.,  118.,  333., 1150., 1066.,\n",
       "        198.,   61.,   41.,   19.,    9.,   13.,    4.])"
      ]
     },
     "execution_count": 134,
     "metadata": {},
     "output_type": "execute_result"
    }
   ],
   "source": [
    "signalRes['z_mass'].values()[('ZHjj_Zll_Hbb_EWK_LO',)]"
   ]
  },
  {
   "cell_type": "code",
   "execution_count": 16,
   "id": "395cdec7-795b-45ec-ba4f-9776096595c9",
   "metadata": {},
   "outputs": [
    {
     "data": {
      "text/plain": [
       "5.2256516000000355"
      ]
     },
     "execution_count": 16,
     "metadata": {},
     "output_type": "execute_result"
    }
   ],
   "source": [
    "signalRes['z_pt'].values()[('ZHjj_Zll_Hbb_EWK_LO',)].sum()*134"
   ]
  },
  {
   "cell_type": "code",
   "execution_count": 13,
   "id": "1949a483-aa5a-4338-b0aa-2c0d875d2cf0",
   "metadata": {},
   "outputs": [
    {
     "data": {
      "text/plain": [
       "4.190662399999997"
      ]
     },
     "execution_count": 13,
     "metadata": {},
     "output_type": "execute_result"
    }
   ],
   "source": [
    "signalRes['z_pt'].values()[('ZHjj_Zll_Hbb_QCD_LO',)].sum()*134"
   ]
  },
  {
   "cell_type": "code",
   "execution_count": 14,
   "id": "f59b20ba-3c9a-4c25-b0cb-085d087235ec",
   "metadata": {},
   "outputs": [
    {
     "data": {
      "text/plain": [
       "9.682411199999986"
      ]
     },
     "execution_count": 14,
     "metadata": {},
     "output_type": "execute_result"
    }
   ],
   "source": [
    "signalRes['z_pt'].values()[('ZHjj_Zll_Hbb_EWK_QCD_LO',)].sum()*134"
   ]
  },
  {
   "cell_type": "code",
   "execution_count": 158,
   "id": "384897ca-1af8-4b04-930b-42b79b293d0a",
   "metadata": {},
   "outputs": [
    {
     "data": {
      "text/plain": [
       "239.0"
      ]
     },
     "execution_count": 158,
     "metadata": {},
     "output_type": "execute_result"
    }
   ],
   "source": [
    "scaled['higgs_pt'].values()[('DYJetsToLL_M-50_HT-600to800',)].sum()"
   ]
  },
  {
   "cell_type": "code",
   "execution_count": 157,
   "id": "eeb2fc77-514d-408a-a518-ed73be638c59",
   "metadata": {},
   "outputs": [
    {
     "data": {
      "text/plain": [
       "243.0"
      ]
     },
     "execution_count": 157,
     "metadata": {},
     "output_type": "execute_result"
    }
   ],
   "source": [
    "signalRes['higgs_pt'].values()[('DYJetsToLL_M-50_HT-600to800',)].sum()"
   ]
  },
  {
   "cell_type": "code",
   "execution_count": null,
   "id": "3cf4d18a-d5a3-484f-94a2-aa804e956ae9",
   "metadata": {},
   "outputs": [],
   "source": []
  },
  {
   "cell_type": "code",
   "execution_count": null,
   "id": "e5d5dc84-3739-404c-9804-387ccc06299e",
   "metadata": {},
   "outputs": [],
   "source": []
  },
  {
   "cell_type": "code",
   "execution_count": null,
   "id": "947d9e3e-c379-4dc7-a62b-282777ab2ff9",
   "metadata": {},
   "outputs": [],
   "source": []
  },
  {
   "cell_type": "code",
   "execution_count": 10,
   "id": "85eee5e4",
   "metadata": {},
   "outputs": [
    {
     "data": {
      "image/png": "[encoded data removed]",
      "text/plain": [
       "<Figure size 864x720 with 1 Axes>"
      ]
     },
     "metadata": {
      "needs_background": "light"
     },
     "output_type": "display_data"
    },
    {
     "data": {
      "image/png": "[encoded data removed]",
      "text/plain": [
       "<Figure size 864x720 with 1 Axes>"
      ]
     },
     "metadata": {
      "needs_background": "light"
     },
     "output_type": "display_data"
    },
    {
     "data": {
      "image/png": "[encoded data removed]",
      "text/plain": [
       "<Figure size 864x720 with 1 Axes>"
      ]
     },
     "metadata": {
      "needs_background": "light"
     },
     "output_type": "display_data"
    },
    {
     "data": {
      "image/png": "[encoded data removed]",
      "text/plain": [
       "<Figure size 864x720 with 1 Axes>"
      ]
     },
     "metadata": {
      "needs_background": "light"
     },
     "output_type": "display_data"
    },
    {
     "data": {
      "image/png": "[encoded data removed]",
      "text/plain": [
       "<Figure size 864x720 with 1 Axes>"
      ]
     },
     "metadata": {
      "needs_background": "light"
     },
     "output_type": "display_data"
    },
    {
     "data": {
      "image/png": "[encoded data removed]",
      "text/plain": [
       "<Figure size 864x720 with 1 Axes>"
      ]
     },
     "metadata": {
      "needs_background": "light"
     },
     "output_type": "display_data"
    },
    {
     "data": {
      "image/png": "[encoded data removed]",
      "text/plain": [
       "<Figure size 864x720 with 1 Axes>"
      ]
     },
     "metadata": {
      "needs_background": "light"
     },
     "output_type": "display_data"
    },
    {
     "data": {
      "image/png": "[encoded data removed]",
      "text/plain": [
       "<Figure size 864x720 with 1 Axes>"
      ]
     },
     "metadata": {
      "needs_background": "light"
     },
     "output_type": "display_data"
    },
    {
     "data": {
      "image/png": "[encoded data removed]",
      "text/plain": [
       "<Figure size 864x720 with 1 Axes>"
      ]
     },
     "metadata": {
      "needs_background": "light"
     },
     "output_type": "display_data"
    },
    {
     "data": {
      "image/png": "[encoded data removed]",
      "text/plain": [
       "<Figure size 864x720 with 1 Axes>"
      ]
     },
     "metadata": {
      "needs_background": "light"
     },
     "output_type": "display_data"
    },
    {
     "data": {
      "image/png": "[encoded data removed]",
      "text/plain": [
       "<Figure size 864x720 with 1 Axes>"
      ]
     },
     "metadata": {
      "needs_background": "light"
     },
     "output_type": "display_data"
    },
    {
     "data": {
      "image/png": "[encoded data removed]",
      "text/plain": [
       "<Figure size 864x720 with 1 Axes>"
      ]
     },
     "metadata": {
      "needs_background": "light"
     },
     "output_type": "display_data"
    }
   ],
   "source": [
    "t = time.strftime(\"%Y-%m-%d,%H:%M:%S\", time.localtime())\n",
    "for key in keys:\n",
    "    plt.figure(figsize = (12,10))\n",
    "    ax = plt.subplot(111)\n",
    "    ax1 = hist.plot1d(signalRes[key],ax = ax)\n",
    "#     ax2 = hist.plot1d(topRes[key],ax = ax1, clear = False)\n",
    "#     ax3 = hist.plot1d(wbjRes[key],ax = ax2, clear = False)\n",
    "#     ax3.relim()\n",
    "#     ax3.autoscale()\n",
    "#     ax3.set_yscale(\"log\")\n",
    "#     plt.savefig(f\"plots/WH_{t}-{key}.pdf\")\n",
    "    \n",
    "    util.save(signalRes[key],f\"old_{key}.hist\")\n",
    "    \n",
    "#     hist.plot1d(signalRes[key])\n",
    "\n",
    "#     plt.yscale(\"log\")\n",
    "#     ax2.set_ylim((0,100000))\n",
    "# plt.subplot(223)\n",
    "# hist.plot1d(wjetRes['vbsdijetmass'])"
   ]
  },
  {
   "cell_type": "code",
   "execution_count": null,
   "id": "fac682c5",
   "metadata": {},
   "outputs": [],
   "source": []
  }
 ],
 "metadata": {
  "kernelspec": {
   "display_name": "Python [conda env:wintercamp]",
   "language": "python",
   "name": "conda-env-wintercamp-py"
  },
  "language_info": {
   "codemirror_mode": {
    "name": "ipython",
    "version": 3
   },
   "file_extension": ".py",
   "mimetype": "text/x-python",
   "name": "python",
   "nbconvert_exporter": "python",
   "pygments_lexer": "ipython3",
   "version": "3.8.12"
  }
 },
 "nbformat": 4,
 "nbformat_minor": 5
}
