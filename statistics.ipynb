{
 "cells": [
  {
   "cell_type": "markdown",
   "metadata": {},
   "source": [
    "# 第四章 统计分析\n",
    "\n",
    "在明天的`Statistical studies`课程中，会对CMS实验的统计分析及其工具作一个更全面、更深入的讲解。这里我们出于完善典型分析主要步骤的原因，使用相应工具对我们得到的实验数据（`Data`），预测值（`Prediction`:包括**Monte Carlo**模拟和**Data-Driven**估计），进行统计学解释。"
   ]
  },
  {
   "cell_type": "markdown",
   "metadata": {},
   "source": [
    "## （一）泊松分布\n",
    "![cabinetry.png](./figs/poisson_wiki.png) \n",
    "\n",
    "其中$\\lambda$为期望值，$X$为随机变量。\n",
    "\n",
    "假设我们有一个分析，计算质子--质子对撞中产生的事例数量，这时候：\n",
    "1. 观测数据`Data`只是观测到的事例数$N$\n",
    "2. 我们能够通过理论模型预测事例数的期望值$n_{exp}$: 通常情况下，我们的信号过程有一个参考截面，我们的本底过程有已知的截面--那么我们的POI （Parameter of Interest, 感兴趣的参数）可能是信号截面与参考截面的比值，我们通常称为信号强度，记为 $\\mu$，\n",
    "   \n",
    "   <img src=\"./figs/expected_count.png\" width = \"60%\" />\n",
    "\n",
    "3. 泊松概率就可以写成：\n",
    "   \n",
    "   $p(N|n_{exp}) = \\frac{n_{exp}^{N}e^{-n_{exp}}}{N!}$\n",
    "\n",
    "4. 计算$n_{exp}$时，我们提到了POI，除此之外，还有一些参数，会对我们的估计造成影响，NPs(Nuisance paramters：滋扰参数？)。2中表达式的任意一项都可以有相关的不确定度。例如，积分亮度$L$测量可能有2.5%的不确定性。观察到的事件数量可以增加2.5%（乘以1.025）或减少2.5%（除以 1.025)。此时，\n",
    "   1.  $L^{int}\\rightarrow L^{int}(1 + 0.025)^{\\theta}$\n",
    "   2.  当 $\\theta$=0, $L^{int}$ 不会改变. 当 $\\theta = \\pm 1$ 我们会有 +/- 1 $\\sigma$ 的不确定度。通常对此我们添加一项高斯约束（gaussian constraint），\n",
    "   \n",
    "         $\\pi (\\theta_{0}|\\theta) = \\pi (0|\\theta) = e^{-\\frac{1}{2} \\theta^{2}}$， 滋扰参数为**log-normally**分布"
   ]
  },
  {
   "cell_type": "markdown",
   "metadata": {},
   "source": [
    "## （二）似然函数 （likelihood function）\n",
    "（又从维基百科上搬运东西过来了😁）\n",
    "\n",
    "在数理统计学中，似然函数（英语：likelihood function）是一种关于统计模型中的参数的函数，表示模型参数中的似然性（英语：likelihood）。似然函数在统计推断中有重大作用，如在最大似然估计和费雪信息之中的应用等等。文字意义上，“似然性”与“或然性”或“概率”意思相近，都是指某种事件发生的可能性，但是在统计学中，<span style=\"background-color:yellow;color:black\">“似然性”和“概率”（或然性）有明确的区分：概率，用于在已知一些参数的情况下，预测接下来在观测上所得到的结果；似然性，则是用于在已知某些观测所得到的结果时，对有关事物之性质的参数进行估值，也就是说已观察到某事件后，对相关参数进行猜测。</span>\n",
    "\n",
    "在这种意义上，似然函数可以理解为条件概率的逆反。在已知某个参数B时，事件A会发生的概率写作：\n",
    "\n",
    "$P(A|B)=\\frac{P(A,B)}{P(B)}$\n",
    "\n",
    "利用[贝叶斯定理](https://zh.wikipedia.org/wiki/%E8%B4%9D%E5%8F%B6%E6%96%AF%E5%AE%9A%E7%90%86)，\n",
    "\n",
    "$P(B|A)=\\frac{P(A|B) P(B)}{P(A)}$\n",
    "\n",
    "因此，我们可以反过来构造表示似然性的方法：已知有事件A发生，运用似然函数$\\mathbb {L} (B\\mid A)$，我们估计或猜测参数B的不同值的可能性。形式上，似然函数也是一种条件概率函数，但我们关注的变量改变了：\n",
    "\n",
    "$ b\\mapsto P(A\\mid B=b)$\n",
    "\n",
    "注意到这里并不要求似然函数满足归一性：$ \\sum _{b\\in {\\mathcal {B}}}P(A\\mid B=b)=1$。一个似然函数乘以一个正的常数之后仍然是似然函数。对所有$\\alpha >0$，都可以有似然函数：\n",
    "\n",
    "$\\mathscr{L}(b\\mid A)=\\alpha \\;P(A\\mid B=b)$\n",
    "\n",
    "考虑（一）中的例子，其**似然函数**为：\n",
    "\n",
    "$\\mathscr{L}(\\mu,\\theta)=\\frac{n_{exp}^{N}e^{-n_{exp}}}{N!}e^{-\\frac{1}{2}\\theta^2}$, 其中\n",
    "\n",
    "$n_{exp}=\\mu \\sigma_{sig} \\epsilon_{sig} A_{sig} L^{int}1.025^{\\theta} +  \\sigma_{bkg} \\epsilon_{bkg} A_{bkg} L^{int}1.025^{\\theta}$\n",
    "\n",
    "但是我们刚刚得到的`Data`和`Predcition`的对比图，不只是一个简单的计数，而是包含多个bin，"
   ]
  },
  {
   "cell_type": "code",
   "execution_count": 1,
   "metadata": {},
   "outputs": [
    {
     "data": {
      "image/png": "[encoded data removed]",
      "text/plain": [
       "<Figure size 648x360 with 1 Axes>"
      ]
     },
     "metadata": {
      "needs_background": "light"
     },
     "output_type": "display_data"
    }
   ],
   "source": [
    "import uproot as up\n",
    "import hist as bh_hist\n",
    "import matplotlib.pyplot as plt\n",
    "\n",
    "fig, ax = plt.subplots(figsize=(9,5))\n",
    "\n",
    "hists = up.open(\"./inputs/histograms.root\")\n",
    "\n",
    "htmp1 = bh_hist.Hist(hists[\"SR\"][\"Signal\"][\"Nominal\"].to_boost())\n",
    "htmp1.plot(label=\"$Z\\gamma$jj Nominal\")\n",
    "\n",
    "ax.legend(loc='upper right')\n",
    "\n",
    "plt.show()"
   ]
  },
  {
   "cell_type": "markdown",
   "metadata": {},
   "source": [
    "这时候对应的似然函数如何表示呢？\n",
    "当然，这也可以扩展到包含多个分bin的频数图（使用泊松概率的乘积）和/或多个NPs,\n",
    "\n",
    "<img src=\"./figs/product_pois.png\" width = \"60%\" />\n"
   ]
  },
  {
   "cell_type": "markdown",
   "metadata": {},
   "source": [
    "### (1) 极大似然估计\n",
    "\n",
    "<span style=\"background-color:yellow;color:black\">对同一个似然函数，其所代表的模型中，某项参数值具有多种可能，但如果存在一个参数值，使得概似函数值达到最大的话，那么这个值就是该项参数最为“合理”的参数值。</span>\n",
    "\n",
    "最大似然估计是似然函数最初也是最自然的应用。似然函数取得最大值表示相应的参数能够使得统计模型最为合理。从这样一个想法出发，最大似然估计的做法是：首先选取似然函数（一般是概率密度函数或概率质量函数），整理之后求最大值点。实际应用中一般会取似然函数的对数作为求最大值的函数，这样求出的最大值点和直接求最大值点得到的结果是相同的。似然函数的最大值点不一定唯一，也不一定存在。与矩法估计比较，最大似然估计的精确度较高，信息损失较少，但计算量较大。\n",
    "\n",
    "#### Profile likelihood\n",
    "\n",
    "大家有兴趣可以刷刷知乎 [profile likelihood是什么?和likelihood有什么联系?](https://www.zhihu.com/question/310585422) 👍\n",
    "\n",
    "大概的意思是，当似然函数具有多个参数时，只关注其中一部分参数（POIs），而将其他参数视为常数（NPs），此时似然函数就被称为profile likelihood。\n",
    "\n",
    "比如下面的例子，二维的似然函数，包含一个POI（$\\mu$）和一个NP（$\\theta$）的模型，\n",
    "\n",
    "<img src=\"./figs/2d_likelihood.png\" width = \"80%\" />\n",
    "\n",
    "我们希望求得 (profiled) likelihood的最大值--为了避免处理特别大的或特别小的值，一般转而去求 **N**egtive **L**og of the **L**ikelihood (**NLL**) 的最小值。\n",
    "\n",
    "<img src=\"./figs/NLL.png\" width = \"40%\" />\n",
    "\n",
    "**NLL**曲线的最小值记为， $\\hat{\\mu}$，由于我们并不关心最小值处的数值，一般会减去最小值处的数值，得到的曲线为**ΔNLL**，\n",
    "\n",
    "$-\\Delta ln \\mathscr{L} = - ln\\mathscr{L}(\\mu,\\hat{\\theta}(\\mu))-(-ln\\mathscr{L}(\\hat{\\mu},\\hat{\\theta}(\\mu))) = -ln \\frac{\\mathscr{L}(\\mu,\\hat{\\theta}(\\mu))}{\\mathscr{L}(\\hat{\\mu},\\hat{\\theta}(\\mu))}$\n",
    "\n",
    "<img src=\"./figs/delta_NLL.png\" width = \"40%\" />\n",
    "\n",
    "根据**Wilks’ theorem**，在大样本量的限制下，2倍 **-ΔNLL** 为具有N个自由度的$\\chi^{2}$，其中N是似然比的分子和分母之间自由参数数量的差异（即在我们的例子中为1）。\n",
    "\n",
    "因此，我们从该区域得到68%的置信区间，\n",
    "\n",
    "$-\\Delta ln \\mathscr{L} (\\mu) < 0.5$"
   ]
  },
  {
   "cell_type": "markdown",
   "metadata": {},
   "source": [
    "## （三）动手实践（hands-on）\n",
    "\n",
    "高能物理实验使用的统计工具一直在不断发展，\n",
    "\n",
    "基于`ROOT`，我们有 `RooFit` 工具包，\n",
    "\n",
    "<img src=\"./figs/RooFit.png\" width = \"80%\" />\n",
    "\n",
    "`CMS`合作组，基于`RooFit`/`RooStats`内部广泛使用的许多不同的统计技术提供一个命令行接口，[**CMS combine tool**](https://cms-analysis.github.io/HiggsAnalysis-CombinedLimit/)。这是`CMS`实验统计分析的标准工具，明天的`Statistical studies`课程，大家可以了解更多，\n",
    "\n",
    "<img src=\"./figs/CMS_combine.png\" width = \"80%\" />\n",
    "\n",
    "随着Python编程语言的流行，很多基于Python的高能物理分析软件也在不断的更新升级中，具体可以参看[Scikit-HEP](https://scikit-hep.org/), 其中就有统计分析相关的工具[pyhf](https://github.com/scikit-hep/pyhf)和[cabinetry](https://github.com/scikit-hep/cabinetry)。\n",
    "\n",
    "<img src=\"./figs/Cabinetry.png\" width = \"80%\" />\n",
    "\n",
    "本节使用的软件包是 [`cabinetry`](https://github.com/scikit-hep/cabinetry)。\n",
    "\n",
    "![cabinetry.png](./figs/cabinetry_logo_small.png) \n",
    "\n",
    "`cabinetry` is a Python library for building and steering <span style=\"background-color:yellow;color:black\">binned template fits</span>\n",
    ".\n",
    "It is written with applications in High Energy Physics in mind.\n",
    "`cabinetry` interfaces many other powerful libraries to make it easy for an analyzer to run their statistical inference pipeline.\n",
    "Statistical models in [HistFactory](https://cds.cern.ch/record/1456844) format can be built by `cabinetry` from instructions in a declarative configuration.\n",
    "`cabinetry` makes heavy use of [`pyhf`](https://pyhf.readthedocs.io/) for statistical inference, and provides additional utilities to help study and disseminate fit results.\n",
    "This includes commonly used visualizations.\n",
    "Due to its modular approach, analyzers are free to use all of `cabinetry`'s functionality or only some pieces.\n",
    "`cabinetry` can be used for inference and visualization with any `pyhf`-compatible model, whether it was built with `cabinetry` or not."
   ]
  },
  {
   "cell_type": "markdown",
   "metadata": {},
   "source": [
    "1. 我们先导入`cabinetry`，set_logging函数只是设置了一个默认的信息输出等级。"
   ]
  },
  {
   "cell_type": "code",
   "execution_count": 2,
   "metadata": {},
   "outputs": [],
   "source": [
    "import cabinetry\n",
    "cabinetry.set_logging()\n",
    "\n",
    "import pyhf\n"
   ]
  },
  {
   "cell_type": "markdown",
   "metadata": {},
   "source": [
    "2. 配置文件`config_histograms.yml`是设置`cabinetry`的关键"
   ]
  },
  {
   "cell_type": "code",
   "execution_count": 20,
   "metadata": {},
   "outputs": [
    {
     "name": "stderr",
     "output_type": "stream",
     "text": [
      "INFO - cabinetry.configuration - opening config file config_histograms.yml\n"
     ]
    }
   ],
   "source": [
    "config = cabinetry.configuration.load(\"config_histograms.yml\")# create template histograms"
   ]
  },
  {
   "cell_type": "code",
   "execution_count": 21,
   "metadata": {},
   "outputs": [
    {
     "data": {
      "text/plain": [
       "{'Measurement': 'zajj',\n",
       " 'POI': 'Signal_norm',\n",
       " 'HistogramFolder': 'histograms/',\n",
       " 'InputPath': 'inputs/histograms.root:{RegionPath}/{SamplePath}/{VariationPath}',\n",
       " 'VariationPath': 'Nominal'}"
      ]
     },
     "execution_count": 21,
     "metadata": {},
     "output_type": "execute_result"
    }
   ],
   "source": [
    "config[\"General\"]"
   ]
  },
  {
   "cell_type": "code",
   "execution_count": 22,
   "metadata": {},
   "outputs": [
    {
     "data": {
      "text/plain": [
       "[{'Name': 'Signal_region', 'RegionPath': 'SR'},\n",
       " {'Name': 'Control_region', 'RegionPath': 'CR'}]"
      ]
     },
     "execution_count": 22,
     "metadata": {},
     "output_type": "execute_result"
    }
   ],
   "source": [
    "config[\"Regions\"]"
   ]
  },
  {
   "cell_type": "code",
   "execution_count": 23,
   "metadata": {},
   "outputs": [
    {
     "data": {
      "text/plain": [
       "[{'Name': 'Data', 'SamplePath': 'Data', 'Data': True},\n",
       " {'Name': 'Signal', 'SamplePath': 'Signal'},\n",
       " {'Name': 'ZGammaQCD', 'SamplePath': 'ZGammaQCD'},\n",
       " {'Name': 'FakePhoton', 'SamplePath': 'FakePhoton'},\n",
       " {'Name': 'Others', 'SamplePath': 'Others'}]"
      ]
     },
     "execution_count": 23,
     "metadata": {},
     "output_type": "execute_result"
    }
   ],
   "source": [
    "config[\"Samples\"]"
   ]
  },
  {
   "cell_type": "code",
   "execution_count": 24,
   "metadata": {},
   "outputs": [
    {
     "data": {
      "text/plain": [
       "[{'Name': 'Signal_norm', 'Samples': 'Signal', 'Nominal': 1, 'Bounds': [0, 10]}]"
      ]
     },
     "execution_count": 24,
     "metadata": {},
     "output_type": "execute_result"
    }
   ],
   "source": [
    "config[\"NormFactors\"]"
   ]
  },
  {
   "cell_type": "code",
   "execution_count": 25,
   "metadata": {},
   "outputs": [
    {
     "data": {
      "text/plain": [
       "[{'Name': 'LumiSyst',\n",
       "  'Up': {'Normalization': 0.02},\n",
       "  'Down': {'Normalization': -0.02},\n",
       "  'Samples': ['Signal', 'ZGammaQCD', 'Others'],\n",
       "  'Type': 'Normalization'},\n",
       " {'Name': 'SignalPDF',\n",
       "  'Up': {'Normalization': 0.02},\n",
       "  'Down': {'Normalization': -0.02},\n",
       "  'Samples': 'Signal',\n",
       "  'Type': 'Normalization'},\n",
       " {'Name': 'SignalScale',\n",
       "  'Up': {'Normalization': 0.1},\n",
       "  'Down': {'Normalization': -0.1},\n",
       "  'Samples': 'Signal',\n",
       "  'Type': 'Normalization'},\n",
       " {'Name': 'FakeSyst',\n",
       "  'Up': {'VariationPath': 'FakeSyst_up'},\n",
       "  'Down': {'VariationPath': 'FakeSyst_down'},\n",
       "  'Samples': 'FakePhoton',\n",
       "  'Type': 'NormPlusShape'},\n",
       " {'Name': 'JEC',\n",
       "  'Up': {'VariationPath': 'JEC_up'},\n",
       "  'Down': {'VariationPath': 'JEC_down'},\n",
       "  'Samples': ['Signal', 'ZGammaQCD', 'Others'],\n",
       "  'Type': 'NormPlusShape'},\n",
       " {'Name': 'JER',\n",
       "  'Up': {'VariationPath': 'JER_up'},\n",
       "  'Down': {'VariationPath': 'JER_down'},\n",
       "  'Samples': ['Signal', 'ZGammaQCD', 'Others'],\n",
       "  'Type': 'NormPlusShape'}]"
      ]
     },
     "execution_count": 25,
     "metadata": {},
     "output_type": "execute_result"
    }
   ],
   "source": [
    "config[\"Systematics\"]"
   ]
  },
  {
   "cell_type": "markdown",
   "metadata": {},
   "source": [
    "3. 同时我们也将之前存储的模板（**template**）直方图读取进来，然后建立相应的`workspace`"
   ]
  },
  {
   "cell_type": "code",
   "execution_count": 26,
   "metadata": {},
   "outputs": [
    {
     "name": "stderr",
     "output_type": "stream",
     "text": [
      "DEBUG - cabinetry.route -   in region Signal_region\n",
      "DEBUG - cabinetry.route -     reading sample Data\n",
      "DEBUG - cabinetry.route -       variation Nominal\n",
      "DEBUG - cabinetry.histo - saving histogram to histograms/Signal_region_Data.npz\n",
      "DEBUG - cabinetry.route -     reading sample Signal\n",
      "DEBUG - cabinetry.route -       variation Nominal\n",
      "DEBUG - cabinetry.histo - saving histogram to histograms/Signal_region_Signal.npz\n",
      "DEBUG - cabinetry.route -       variation JEC Up\n",
      "DEBUG - cabinetry.histo - saving histogram to histograms/Signal_region_Signal_JEC_Up.npz\n",
      "DEBUG - cabinetry.route -       variation JEC Down\n",
      "DEBUG - cabinetry.histo - saving histogram to histograms/Signal_region_Signal_JEC_Down.npz\n",
      "DEBUG - cabinetry.route -       variation JER Up\n",
      "DEBUG - cabinetry.histo - saving histogram to histograms/Signal_region_Signal_JER_Up.npz\n",
      "DEBUG - cabinetry.route -       variation JER Down\n",
      "DEBUG - cabinetry.histo - saving histogram to histograms/Signal_region_Signal_JER_Down.npz\n",
      "DEBUG - cabinetry.route -     reading sample ZGammaQCD\n",
      "DEBUG - cabinetry.route -       variation Nominal\n",
      "DEBUG - cabinetry.histo - saving histogram to histograms/Signal_region_ZGammaQCD.npz\n",
      "DEBUG - cabinetry.route -       variation JEC Up\n",
      "DEBUG - cabinetry.histo - saving histogram to histograms/Signal_region_ZGammaQCD_JEC_Up.npz\n",
      "DEBUG - cabinetry.route -       variation JEC Down\n",
      "DEBUG - cabinetry.histo - saving histogram to histograms/Signal_region_ZGammaQCD_JEC_Down.npz\n",
      "DEBUG - cabinetry.route -       variation JER Up\n",
      "DEBUG - cabinetry.histo - saving histogram to histograms/Signal_region_ZGammaQCD_JER_Up.npz\n",
      "DEBUG - cabinetry.route -       variation JER Down\n",
      "DEBUG - cabinetry.histo - saving histogram to histograms/Signal_region_ZGammaQCD_JER_Down.npz\n",
      "DEBUG - cabinetry.route -     reading sample FakePhoton\n",
      "DEBUG - cabinetry.route -       variation Nominal\n",
      "DEBUG - cabinetry.histo - saving histogram to histograms/Signal_region_FakePhoton.npz\n",
      "DEBUG - cabinetry.route -       variation FakeSyst Up\n",
      "DEBUG - cabinetry.histo - saving histogram to histograms/Signal_region_FakePhoton_FakeSyst_Up.npz\n",
      "DEBUG - cabinetry.route -       variation FakeSyst Down\n",
      "DEBUG - cabinetry.histo - saving histogram to histograms/Signal_region_FakePhoton_FakeSyst_Down.npz\n",
      "DEBUG - cabinetry.route -     reading sample Others\n",
      "DEBUG - cabinetry.route -       variation Nominal\n",
      "WARNING - cabinetry.histo - Signal_region_Others has empty bins: [6]\n",
      "DEBUG - cabinetry.histo - saving histogram to histograms/Signal_region_Others.npz\n",
      "DEBUG - cabinetry.route -       variation JEC Up\n",
      "DEBUG - cabinetry.histo - saving histogram to histograms/Signal_region_Others_JEC_Up.npz\n",
      "DEBUG - cabinetry.route -       variation JEC Down\n",
      "DEBUG - cabinetry.histo - saving histogram to histograms/Signal_region_Others_JEC_Down.npz\n",
      "DEBUG - cabinetry.route -       variation JER Up\n",
      "DEBUG - cabinetry.histo - saving histogram to histograms/Signal_region_Others_JER_Up.npz\n",
      "DEBUG - cabinetry.route -       variation JER Down\n",
      "DEBUG - cabinetry.histo - saving histogram to histograms/Signal_region_Others_JER_Down.npz\n",
      "DEBUG - cabinetry.route -   in region Control_region\n",
      "DEBUG - cabinetry.route -     reading sample Data\n",
      "DEBUG - cabinetry.route -       variation Nominal\n",
      "DEBUG - cabinetry.histo - saving histogram to histograms/Control_region_Data.npz\n",
      "DEBUG - cabinetry.route -     reading sample Signal\n",
      "DEBUG - cabinetry.route -       variation Nominal\n",
      "DEBUG - cabinetry.histo - saving histogram to histograms/Control_region_Signal.npz\n",
      "DEBUG - cabinetry.route -       variation JEC Up\n",
      "DEBUG - cabinetry.histo - saving histogram to histograms/Control_region_Signal_JEC_Up.npz\n",
      "DEBUG - cabinetry.route -       variation JEC Down\n",
      "DEBUG - cabinetry.histo - saving histogram to histograms/Control_region_Signal_JEC_Down.npz\n",
      "DEBUG - cabinetry.route -       variation JER Up\n",
      "DEBUG - cabinetry.histo - saving histogram to histograms/Control_region_Signal_JER_Up.npz\n",
      "DEBUG - cabinetry.route -       variation JER Down\n",
      "DEBUG - cabinetry.histo - saving histogram to histograms/Control_region_Signal_JER_Down.npz\n",
      "DEBUG - cabinetry.route -     reading sample ZGammaQCD\n",
      "DEBUG - cabinetry.route -       variation Nominal\n",
      "DEBUG - cabinetry.histo - saving histogram to histograms/Control_region_ZGammaQCD.npz\n",
      "DEBUG - cabinetry.route -       variation JEC Up\n",
      "DEBUG - cabinetry.histo - saving histogram to histograms/Control_region_ZGammaQCD_JEC_Up.npz\n",
      "DEBUG - cabinetry.route -       variation JEC Down\n",
      "DEBUG - cabinetry.histo - saving histogram to histograms/Control_region_ZGammaQCD_JEC_Down.npz\n",
      "DEBUG - cabinetry.route -       variation JER Up\n",
      "DEBUG - cabinetry.histo - saving histogram to histograms/Control_region_ZGammaQCD_JER_Up.npz\n",
      "DEBUG - cabinetry.route -       variation JER Down\n",
      "DEBUG - cabinetry.histo - saving histogram to histograms/Control_region_ZGammaQCD_JER_Down.npz\n",
      "DEBUG - cabinetry.route -     reading sample FakePhoton\n",
      "DEBUG - cabinetry.route -       variation Nominal\n",
      "DEBUG - cabinetry.histo - saving histogram to histograms/Control_region_FakePhoton.npz\n",
      "DEBUG - cabinetry.route -       variation FakeSyst Up\n",
      "DEBUG - cabinetry.histo - saving histogram to histograms/Control_region_FakePhoton_FakeSyst_Up.npz\n",
      "DEBUG - cabinetry.route -       variation FakeSyst Down\n",
      "DEBUG - cabinetry.histo - saving histogram to histograms/Control_region_FakePhoton_FakeSyst_Down.npz\n",
      "DEBUG - cabinetry.route -     reading sample Others\n",
      "DEBUG - cabinetry.route -       variation Nominal\n",
      "DEBUG - cabinetry.histo - saving histogram to histograms/Control_region_Others.npz\n",
      "DEBUG - cabinetry.route -       variation JEC Up\n",
      "DEBUG - cabinetry.histo - saving histogram to histograms/Control_region_Others_JEC_Up.npz\n",
      "DEBUG - cabinetry.route -       variation JEC Down\n",
      "DEBUG - cabinetry.histo - saving histogram to histograms/Control_region_Others_JEC_Down.npz\n",
      "DEBUG - cabinetry.route -       variation JER Up\n",
      "DEBUG - cabinetry.histo - saving histogram to histograms/Control_region_Others_JER_Up.npz\n",
      "DEBUG - cabinetry.route -       variation JER Down\n",
      "DEBUG - cabinetry.histo - saving histogram to histograms/Control_region_Others_JER_Down.npz\n",
      "INFO - cabinetry.workspace - building workspace\n",
      "WARNING - cabinetry.histo - the modified histogram histograms/Signal_region_Signal_modified.npz does not exist\n",
      "WARNING - cabinetry.histo - loading the un-modified histogram instead!\n",
      "DEBUG - cabinetry.workspace - adding NormFactor Signal_norm to sample Signal in region Signal_region\n",
      "DEBUG - cabinetry.workspace - adding OverallSys LumiSyst to sample Signal in region Signal_region\n",
      "DEBUG - cabinetry.workspace - adding OverallSys SignalPDF to sample Signal in region Signal_region\n",
      "DEBUG - cabinetry.workspace - adding OverallSys SignalScale to sample Signal in region Signal_region\n",
      "DEBUG - cabinetry.workspace - adding OverallSys and HistoSys JEC to sample Signal in region Signal_region\n",
      "WARNING - cabinetry.histo - the modified histogram histograms/Signal_region_Signal_JEC_Up_modified.npz does not exist\n",
      "WARNING - cabinetry.histo - loading the un-modified histogram instead!\n",
      "WARNING - cabinetry.histo - the modified histogram histograms/Signal_region_Signal_modified.npz does not exist\n",
      "WARNING - cabinetry.histo - loading the un-modified histogram instead!\n",
      "WARNING - cabinetry.histo - the modified histogram histograms/Signal_region_Signal_JEC_Down_modified.npz does not exist\n",
      "WARNING - cabinetry.histo - loading the un-modified histogram instead!\n",
      "DEBUG - cabinetry.workspace - adding OverallSys and HistoSys JER to sample Signal in region Signal_region\n",
      "WARNING - cabinetry.histo - the modified histogram histograms/Signal_region_Signal_JER_Up_modified.npz does not exist\n",
      "WARNING - cabinetry.histo - loading the un-modified histogram instead!\n",
      "WARNING - cabinetry.histo - the modified histogram histograms/Signal_region_Signal_modified.npz does not exist\n",
      "WARNING - cabinetry.histo - loading the un-modified histogram instead!\n",
      "WARNING - cabinetry.histo - the modified histogram histograms/Signal_region_Signal_JER_Down_modified.npz does not exist\n",
      "WARNING - cabinetry.histo - loading the un-modified histogram instead!\n",
      "WARNING - cabinetry.histo - the modified histogram histograms/Signal_region_ZGammaQCD_modified.npz does not exist\n",
      "WARNING - cabinetry.histo - loading the un-modified histogram instead!\n"
     ]
    },
    {
     "name": "stderr",
     "output_type": "stream",
     "text": [
      "DEBUG - cabinetry.workspace - adding OverallSys LumiSyst to sample ZGammaQCD in region Signal_region\n",
      "DEBUG - cabinetry.workspace - adding OverallSys and HistoSys JEC to sample ZGammaQCD in region Signal_region\n",
      "WARNING - cabinetry.histo - the modified histogram histograms/Signal_region_ZGammaQCD_JEC_Up_modified.npz does not exist\n",
      "WARNING - cabinetry.histo - loading the un-modified histogram instead!\n",
      "WARNING - cabinetry.histo - the modified histogram histograms/Signal_region_ZGammaQCD_modified.npz does not exist\n",
      "WARNING - cabinetry.histo - loading the un-modified histogram instead!\n",
      "WARNING - cabinetry.histo - the modified histogram histograms/Signal_region_ZGammaQCD_JEC_Down_modified.npz does not exist\n",
      "WARNING - cabinetry.histo - loading the un-modified histogram instead!\n",
      "DEBUG - cabinetry.workspace - adding OverallSys and HistoSys JER to sample ZGammaQCD in region Signal_region\n",
      "WARNING - cabinetry.histo - the modified histogram histograms/Signal_region_ZGammaQCD_JER_Up_modified.npz does not exist\n",
      "WARNING - cabinetry.histo - loading the un-modified histogram instead!\n",
      "WARNING - cabinetry.histo - the modified histogram histograms/Signal_region_ZGammaQCD_modified.npz does not exist\n",
      "WARNING - cabinetry.histo - loading the un-modified histogram instead!\n",
      "WARNING - cabinetry.histo - the modified histogram histograms/Signal_region_ZGammaQCD_JER_Down_modified.npz does not exist\n",
      "WARNING - cabinetry.histo - loading the un-modified histogram instead!\n",
      "WARNING - cabinetry.histo - the modified histogram histograms/Signal_region_FakePhoton_modified.npz does not exist\n",
      "WARNING - cabinetry.histo - loading the un-modified histogram instead!\n",
      "DEBUG - cabinetry.workspace - adding OverallSys and HistoSys FakeSyst to sample FakePhoton in region Signal_region\n",
      "WARNING - cabinetry.histo - the modified histogram histograms/Signal_region_FakePhoton_FakeSyst_Up_modified.npz does not exist\n",
      "WARNING - cabinetry.histo - loading the un-modified histogram instead!\n",
      "WARNING - cabinetry.histo - the modified histogram histograms/Signal_region_FakePhoton_modified.npz does not exist\n",
      "WARNING - cabinetry.histo - loading the un-modified histogram instead!\n",
      "WARNING - cabinetry.histo - the modified histogram histograms/Signal_region_FakePhoton_FakeSyst_Down_modified.npz does not exist\n",
      "WARNING - cabinetry.histo - loading the un-modified histogram instead!\n",
      "WARNING - cabinetry.histo - the modified histogram histograms/Signal_region_Others_modified.npz does not exist\n",
      "WARNING - cabinetry.histo - loading the un-modified histogram instead!\n",
      "DEBUG - cabinetry.workspace - adding OverallSys LumiSyst to sample Others in region Signal_region\n",
      "DEBUG - cabinetry.workspace - adding OverallSys and HistoSys JEC to sample Others in region Signal_region\n",
      "WARNING - cabinetry.histo - the modified histogram histograms/Signal_region_Others_JEC_Up_modified.npz does not exist\n",
      "WARNING - cabinetry.histo - loading the un-modified histogram instead!\n",
      "WARNING - cabinetry.histo - the modified histogram histograms/Signal_region_Others_modified.npz does not exist\n",
      "WARNING - cabinetry.histo - loading the un-modified histogram instead!\n",
      "WARNING - cabinetry.histo - the modified histogram histograms/Signal_region_Others_JEC_Down_modified.npz does not exist\n",
      "WARNING - cabinetry.histo - loading the un-modified histogram instead!\n",
      "DEBUG - cabinetry.workspace - adding OverallSys and HistoSys JER to sample Others in region Signal_region\n",
      "WARNING - cabinetry.histo - the modified histogram histograms/Signal_region_Others_JER_Up_modified.npz does not exist\n",
      "WARNING - cabinetry.histo - loading the un-modified histogram instead!\n",
      "WARNING - cabinetry.histo - the modified histogram histograms/Signal_region_Others_modified.npz does not exist\n",
      "WARNING - cabinetry.histo - loading the un-modified histogram instead!\n",
      "WARNING - cabinetry.histo - the modified histogram histograms/Signal_region_Others_JER_Down_modified.npz does not exist\n",
      "WARNING - cabinetry.histo - loading the un-modified histogram instead!\n",
      "WARNING - cabinetry.histo - the modified histogram histograms/Control_region_Signal_modified.npz does not exist\n",
      "WARNING - cabinetry.histo - loading the un-modified histogram instead!\n",
      "DEBUG - cabinetry.workspace - adding NormFactor Signal_norm to sample Signal in region Control_region\n",
      "DEBUG - cabinetry.workspace - adding OverallSys LumiSyst to sample Signal in region Control_region\n",
      "DEBUG - cabinetry.workspace - adding OverallSys SignalPDF to sample Signal in region Control_region\n",
      "DEBUG - cabinetry.workspace - adding OverallSys SignalScale to sample Signal in region Control_region\n",
      "DEBUG - cabinetry.workspace - adding OverallSys and HistoSys JEC to sample Signal in region Control_region\n",
      "WARNING - cabinetry.histo - the modified histogram histograms/Control_region_Signal_JEC_Up_modified.npz does not exist\n",
      "WARNING - cabinetry.histo - loading the un-modified histogram instead!\n",
      "WARNING - cabinetry.histo - the modified histogram histograms/Control_region_Signal_modified.npz does not exist\n",
      "WARNING - cabinetry.histo - loading the un-modified histogram instead!\n",
      "WARNING - cabinetry.histo - the modified histogram histograms/Control_region_Signal_JEC_Down_modified.npz does not exist\n",
      "WARNING - cabinetry.histo - loading the un-modified histogram instead!\n",
      "DEBUG - cabinetry.workspace - adding OverallSys and HistoSys JER to sample Signal in region Control_region\n",
      "WARNING - cabinetry.histo - the modified histogram histograms/Control_region_Signal_JER_Up_modified.npz does not exist\n",
      "WARNING - cabinetry.histo - loading the un-modified histogram instead!\n",
      "WARNING - cabinetry.histo - the modified histogram histograms/Control_region_Signal_modified.npz does not exist\n",
      "WARNING - cabinetry.histo - loading the un-modified histogram instead!\n",
      "WARNING - cabinetry.histo - the modified histogram histograms/Control_region_Signal_JER_Down_modified.npz does not exist\n",
      "WARNING - cabinetry.histo - loading the un-modified histogram instead!\n",
      "WARNING - cabinetry.histo - the modified histogram histograms/Control_region_ZGammaQCD_modified.npz does not exist\n",
      "WARNING - cabinetry.histo - loading the un-modified histogram instead!\n",
      "DEBUG - cabinetry.workspace - adding OverallSys LumiSyst to sample ZGammaQCD in region Control_region\n",
      "DEBUG - cabinetry.workspace - adding OverallSys and HistoSys JEC to sample ZGammaQCD in region Control_region\n",
      "WARNING - cabinetry.histo - the modified histogram histograms/Control_region_ZGammaQCD_JEC_Up_modified.npz does not exist\n",
      "WARNING - cabinetry.histo - loading the un-modified histogram instead!\n",
      "WARNING - cabinetry.histo - the modified histogram histograms/Control_region_ZGammaQCD_modified.npz does not exist\n",
      "WARNING - cabinetry.histo - loading the un-modified histogram instead!\n",
      "WARNING - cabinetry.histo - the modified histogram histograms/Control_region_ZGammaQCD_JEC_Down_modified.npz does not exist\n",
      "WARNING - cabinetry.histo - loading the un-modified histogram instead!\n",
      "DEBUG - cabinetry.workspace - adding OverallSys and HistoSys JER to sample ZGammaQCD in region Control_region\n",
      "WARNING - cabinetry.histo - the modified histogram histograms/Control_region_ZGammaQCD_JER_Up_modified.npz does not exist\n",
      "WARNING - cabinetry.histo - loading the un-modified histogram instead!\n",
      "WARNING - cabinetry.histo - the modified histogram histograms/Control_region_ZGammaQCD_modified.npz does not exist\n",
      "WARNING - cabinetry.histo - loading the un-modified histogram instead!\n",
      "WARNING - cabinetry.histo - the modified histogram histograms/Control_region_ZGammaQCD_JER_Down_modified.npz does not exist\n",
      "WARNING - cabinetry.histo - loading the un-modified histogram instead!\n",
      "WARNING - cabinetry.histo - the modified histogram histograms/Control_region_FakePhoton_modified.npz does not exist\n",
      "WARNING - cabinetry.histo - loading the un-modified histogram instead!\n",
      "DEBUG - cabinetry.workspace - adding OverallSys and HistoSys FakeSyst to sample FakePhoton in region Control_region\n",
      "WARNING - cabinetry.histo - the modified histogram histograms/Control_region_FakePhoton_FakeSyst_Up_modified.npz does not exist\n",
      "WARNING - cabinetry.histo - loading the un-modified histogram instead!\n",
      "WARNING - cabinetry.histo - the modified histogram histograms/Control_region_FakePhoton_modified.npz does not exist\n",
      "WARNING - cabinetry.histo - loading the un-modified histogram instead!\n"
     ]
    },
    {
     "name": "stderr",
     "output_type": "stream",
     "text": [
      "WARNING - cabinetry.histo - the modified histogram histograms/Control_region_FakePhoton_FakeSyst_Down_modified.npz does not exist\n",
      "WARNING - cabinetry.histo - loading the un-modified histogram instead!\n",
      "WARNING - cabinetry.histo - the modified histogram histograms/Control_region_Others_modified.npz does not exist\n",
      "WARNING - cabinetry.histo - loading the un-modified histogram instead!\n",
      "DEBUG - cabinetry.workspace - adding OverallSys LumiSyst to sample Others in region Control_region\n",
      "DEBUG - cabinetry.workspace - adding OverallSys and HistoSys JEC to sample Others in region Control_region\n",
      "WARNING - cabinetry.histo - the modified histogram histograms/Control_region_Others_JEC_Up_modified.npz does not exist\n",
      "WARNING - cabinetry.histo - loading the un-modified histogram instead!\n",
      "WARNING - cabinetry.histo - the modified histogram histograms/Control_region_Others_modified.npz does not exist\n",
      "WARNING - cabinetry.histo - loading the un-modified histogram instead!\n",
      "WARNING - cabinetry.histo - the modified histogram histograms/Control_region_Others_JEC_Down_modified.npz does not exist\n",
      "WARNING - cabinetry.histo - loading the un-modified histogram instead!\n",
      "DEBUG - cabinetry.workspace - adding OverallSys and HistoSys JER to sample Others in region Control_region\n",
      "WARNING - cabinetry.histo - the modified histogram histograms/Control_region_Others_JER_Up_modified.npz does not exist\n",
      "WARNING - cabinetry.histo - loading the un-modified histogram instead!\n",
      "WARNING - cabinetry.histo - the modified histogram histograms/Control_region_Others_modified.npz does not exist\n",
      "WARNING - cabinetry.histo - loading the un-modified histogram instead!\n",
      "WARNING - cabinetry.histo - the modified histogram histograms/Control_region_Others_JER_Down_modified.npz does not exist\n",
      "WARNING - cabinetry.histo - loading the un-modified histogram instead!\n",
      "WARNING - cabinetry.histo - the modified histogram histograms/Signal_region_Data_modified.npz does not exist\n",
      "WARNING - cabinetry.histo - loading the un-modified histogram instead!\n",
      "WARNING - cabinetry.histo - the modified histogram histograms/Control_region_Data_modified.npz does not exist\n",
      "WARNING - cabinetry.histo - loading the un-modified histogram instead!\n",
      "INFO - pyhf.workspace - Validating spec against schema: workspace.json\n"
     ]
    }
   ],
   "source": [
    "# collects all provided histograms (storing them in the format used internally by cabinetry for further processing)\n",
    "cabinetry.templates.collect(config, method=\"uproot\")\n",
    "# build a workspace\n",
    "ws = cabinetry.workspace.build(config)"
   ]
  },
  {
   "cell_type": "markdown",
   "metadata": {},
   "source": [
    "4. 建立了`workspace`后，我们可以进行极大似然拟合。拟合模型（概率密度函数Probability Density Function, **PDF**）和数据`Data`（都是从`workspace`对象中获得。拟合参数的结果将被报告。我们用到的cabinetry.fit.fit来进行拟合。"
   ]
  },
  {
   "cell_type": "code",
   "execution_count": 27,
   "metadata": {},
   "outputs": [
    {
     "name": "stderr",
     "output_type": "stream",
     "text": [
      "INFO - pyhf.workspace - Validating spec against schema: workspace.json\n",
      "INFO - pyhf.pdf - Validating spec against schema: model.json\n",
      "INFO - pyhf.pdf - adding modifier staterror_Signal_region (9 new nuisance parameters)\n",
      "INFO - pyhf.pdf - adding modifier Signal_norm (1 new nuisance parameters)\n",
      "INFO - pyhf.pdf - adding modifier LumiSyst (1 new nuisance parameters)\n",
      "INFO - pyhf.pdf - adding modifier SignalPDF (1 new nuisance parameters)\n",
      "INFO - pyhf.pdf - adding modifier SignalScale (1 new nuisance parameters)\n",
      "INFO - pyhf.pdf - adding modifier JEC (1 new nuisance parameters)\n",
      "INFO - pyhf.pdf - adding modifier JER (1 new nuisance parameters)\n",
      "INFO - pyhf.pdf - adding modifier FakeSyst (1 new nuisance parameters)\n",
      "INFO - pyhf.pdf - adding modifier staterror_Control_region (5 new nuisance parameters)\n",
      "INFO - cabinetry.fit - performing maximum likelihood fit\n",
      "INFO - cabinetry.fit - MINUIT status:\n",
      "┌─────────────────────────────────────────────────────────────────────────┐\n",
      "│                                Migrad                                   │\n",
      "├──────────────────────────────────┬──────────────────────────────────────┤\n",
      "│ FCN = 52.74                      │             Nfcn = 1673              │\n",
      "│ EDM = 0.000132 (Goal: 0.0002)    │                                      │\n",
      "├──────────────────────────────────┼──────────────────────────────────────┤\n",
      "│          Valid Minimum           │        No Parameters at limit        │\n",
      "├──────────────────────────────────┼──────────────────────────────────────┤\n",
      "│ Below EDM threshold (goal x 10)  │           Below call limit           │\n",
      "├───────────────┬──────────────────┼───────────┬─────────────┬────────────┤\n",
      "│  Covariance   │     Hesse ok     │ Accurate  │  Pos. def.  │ Not forced │\n",
      "└───────────────┴──────────────────┴───────────┴─────────────┴────────────┘\n",
      "DEBUG - cabinetry.fit - -2 log(L) = 52.736462 at best-fit point\n",
      "INFO - cabinetry.fit - fit results (with symmetric uncertainties):\n",
      "INFO - cabinetry.fit - staterror_Signal_region[0]  =  1.0064 +/- 0.0277\n",
      "INFO - cabinetry.fit - staterror_Signal_region[1]  =  1.0127 +/- 0.0424\n",
      "INFO - cabinetry.fit - staterror_Signal_region[2]  =  1.0008 +/- 0.0562\n",
      "INFO - cabinetry.fit - staterror_Signal_region[3]  =  0.9999 +/- 0.0414\n",
      "INFO - cabinetry.fit - staterror_Signal_region[4]  =  1.0059 +/- 0.0482\n",
      "INFO - cabinetry.fit - staterror_Signal_region[5]  =  0.9811 +/- 0.0469\n",
      "INFO - cabinetry.fit - staterror_Signal_region[6]  =  0.9424 +/- 0.1590\n",
      "INFO - cabinetry.fit - staterror_Signal_region[7]  =  1.0011 +/- 0.0730\n",
      "INFO - cabinetry.fit - staterror_Signal_region[8]  =  1.0056 +/- 0.0554\n",
      "INFO - cabinetry.fit - Signal_norm                 =  1.5663 +/- 0.2978\n",
      "INFO - cabinetry.fit - LumiSyst                    =  0.1795 +/- 0.9858\n",
      "INFO - cabinetry.fit - SignalPDF                   =  0.0007 +/- 0.9933\n",
      "INFO - cabinetry.fit - SignalScale                 =  0.0056 +/- 0.9933\n",
      "INFO - cabinetry.fit - JEC                         = -0.4045 +/- 0.4660\n",
      "INFO - cabinetry.fit - JER                         =  0.5636 +/- 0.3978\n",
      "INFO - cabinetry.fit - FakeSyst                    =  0.8463 +/- 0.8136\n",
      "INFO - cabinetry.fit - staterror_Control_region[0] =  1.0048 +/- 0.0191\n",
      "INFO - cabinetry.fit - staterror_Control_region[1] =  1.0095 +/- 0.0224\n",
      "INFO - cabinetry.fit - staterror_Control_region[2] =  0.9764 +/- 0.0277\n",
      "INFO - cabinetry.fit - staterror_Control_region[3] =  1.0126 +/- 0.0315\n",
      "INFO - cabinetry.fit - staterror_Control_region[4] =  0.9931 +/- 0.0343\n"
     ]
    }
   ],
   "source": [
    "# run a fit\n",
    "model, data = cabinetry.model_utils.model_and_data(ws)\n",
    "fit_results = cabinetry.fit.fit(model, data)"
   ]
  },
  {
   "cell_type": "markdown",
   "metadata": {},
   "source": [
    "我们可以将拟合结果可视化。下面是`pull`的情况"
   ]
  },
  {
   "cell_type": "code",
   "execution_count": 14,
   "metadata": {},
   "outputs": [
    {
     "name": "stderr",
     "output_type": "stream",
     "text": [
      "DEBUG - cabinetry.visualize.utils - saving figure as figures/pulls.pdf\n"
     ]
    },
    {
     "data": {
      "image/png": "[encoded data removed]",
      "text/plain": [
       "<Figure size 600x225 with 1 Axes>"
      ]
     },
     "execution_count": 14,
     "metadata": {},
     "output_type": "execute_result"
    }
   ],
   "source": [
    "cabinetry.visualize.pulls(fit_results, exclude=[\"Signal_norm\"])\n",
    "# cabinetry.visualize.pulls(fit_results)"
   ]
  },
  {
   "cell_type": "markdown",
   "metadata": {},
   "source": [
    "5. 我们先来求一下之前讲到的**ΔNLL**，就是对我们的POI ($\\mu$)进行一个扫描，在配置文件中，你可以看到这一行`POI: \"Signal_norm\"`，所以我们这里要扫描的参数是为**Signal_norm**，这里我们调用cabinetry.fit.scan函数。"
   ]
  },
  {
   "cell_type": "code",
   "execution_count": 15,
   "metadata": {},
   "outputs": [
    {
     "name": "stderr",
     "output_type": "stream",
     "text": [
      "INFO - cabinetry.fit - MINUIT status:\n",
      "┌─────────────────────────────────────────────────────────────────────────┐\n",
      "│                                Migrad                                   │\n",
      "├──────────────────────────────────┬──────────────────────────────────────┤\n",
      "│ FCN = 50.93                      │             Nfcn = 1622              │\n",
      "│ EDM = 0.000162 (Goal: 0.0002)    │                                      │\n",
      "├──────────────────────────────────┼──────────────────────────────────────┤\n",
      "│          Valid Minimum           │        No Parameters at limit        │\n",
      "├──────────────────────────────────┼──────────────────────────────────────┤\n",
      "│ Below EDM threshold (goal x 10)  │           Below call limit           │\n",
      "├───────────────┬──────────────────┼───────────┬─────────────┬────────────┤\n",
      "│  Covariance   │     Hesse ok     │ Accurate  │  Pos. def.  │ Not forced │\n",
      "└───────────────┴──────────────────┴───────────┴─────────────┴────────────┘\n",
      "DEBUG - cabinetry.fit - -2 log(L) = 50.933527 at best-fit point\n",
      "INFO - cabinetry.fit - performing likelihood scan for Signal_norm in range (0.980, 2.167) with 11 steps\n",
      "DEBUG - cabinetry.fit - performing fit with Signal_norm = 0.980\n",
      "INFO - cabinetry.fit - MINUIT status:\n",
      "┌─────────────────────────────────────────────────────────────────────────┐\n",
      "│                                Migrad                                   │\n",
      "├──────────────────────────────────┬──────────────────────────────────────┤\n",
      "│ FCN = 56.2                       │              Nfcn = 902              │\n",
      "│ EDM = 0.000276 (Goal: 0.0002)    │                                      │\n",
      "├──────────────────────────────────┼──────────────────────────────────────┤\n",
      "│          Valid Minimum           │        No Parameters at limit        │\n",
      "├──────────────────────────────────┼──────────────────────────────────────┤\n",
      "│ Below EDM threshold (goal x 10)  │           Below call limit           │\n",
      "├───────────────┬──────────────────┼───────────┬─────────────┬────────────┤\n",
      "│  Covariance   │     Hesse ok     │ Accurate  │  Pos. def.  │ Not forced │\n",
      "└───────────────┴──────────────────┴───────────┴─────────────┴────────────┘\n",
      "DEBUG - cabinetry.fit - -2 log(L) = 56.204399 at best-fit point\n",
      "DEBUG - cabinetry.fit - performing fit with Signal_norm = 1.099\n",
      "INFO - cabinetry.fit - MINUIT status:\n",
      "┌─────────────────────────────────────────────────────────────────────────┐\n",
      "│                                Migrad                                   │\n",
      "├──────────────────────────────────┬──────────────────────────────────────┤\n",
      "│ FCN = 54.19                      │             Nfcn = 1068              │\n",
      "│ EDM = 9.76e-05 (Goal: 0.0002)    │                                      │\n",
      "├──────────────────────────────────┼──────────────────────────────────────┤\n",
      "│          Valid Minimum           │        No Parameters at limit        │\n",
      "├──────────────────────────────────┼──────────────────────────────────────┤\n",
      "│ Below EDM threshold (goal x 10)  │           Below call limit           │\n",
      "├───────────────┬──────────────────┼───────────┬─────────────┬────────────┤\n",
      "│  Covariance   │     Hesse ok     │ Accurate  │  Pos. def.  │ Not forced │\n",
      "└───────────────┴──────────────────┴───────────┴─────────────┴────────────┘\n",
      "DEBUG - cabinetry.fit - -2 log(L) = 54.193997 at best-fit point\n",
      "DEBUG - cabinetry.fit - performing fit with Signal_norm = 1.218\n",
      "INFO - cabinetry.fit - MINUIT status:\n",
      "┌─────────────────────────────────────────────────────────────────────────┐\n",
      "│                                Migrad                                   │\n",
      "├──────────────────────────────────┬──────────────────────────────────────┤\n",
      "│ FCN = 52.67                      │             Nfcn = 1019              │\n",
      "│ EDM = 1.11e-05 (Goal: 0.0002)    │                                      │\n",
      "├──────────────────────────────────┼──────────────────────────────────────┤\n",
      "│          Valid Minimum           │        No Parameters at limit        │\n",
      "├──────────────────────────────────┼──────────────────────────────────────┤\n",
      "│ Below EDM threshold (goal x 10)  │           Below call limit           │\n",
      "├───────────────┬──────────────────┼───────────┬─────────────┬────────────┤\n",
      "│  Covariance   │     Hesse ok     │ Accurate  │  Pos. def.  │ Not forced │\n",
      "└───────────────┴──────────────────┴───────────┴─────────────┴────────────┘\n",
      "DEBUG - cabinetry.fit - -2 log(L) = 52.667686 at best-fit point\n",
      "DEBUG - cabinetry.fit - performing fit with Signal_norm = 1.336\n",
      "INFO - cabinetry.fit - MINUIT status:\n",
      "┌─────────────────────────────────────────────────────────────────────────┐\n",
      "│                                Migrad                                   │\n",
      "├──────────────────────────────────┬──────────────────────────────────────┤\n",
      "│ FCN = 51.66                      │              Nfcn = 945              │\n",
      "│ EDM = 4.75e-05 (Goal: 0.0002)    │                                      │\n",
      "├──────────────────────────────────┼──────────────────────────────────────┤\n",
      "│          Valid Minimum           │        No Parameters at limit        │\n",
      "├──────────────────────────────────┼──────────────────────────────────────┤\n",
      "│ Below EDM threshold (goal x 10)  │           Below call limit           │\n",
      "├───────────────┬──────────────────┼───────────┬─────────────┬────────────┤\n",
      "│  Covariance   │     Hesse ok     │ Accurate  │  Pos. def.  │ Not forced │\n",
      "└───────────────┴──────────────────┴───────────┴─────────────┴────────────┘\n",
      "DEBUG - cabinetry.fit - -2 log(L) = 51.662688 at best-fit point\n",
      "DEBUG - cabinetry.fit - performing fit with Signal_norm = 1.455\n",
      "INFO - cabinetry.fit - MINUIT status:\n",
      "┌─────────────────────────────────────────────────────────────────────────┐\n",
      "│                                Migrad                                   │\n",
      "├──────────────────────────────────┬──────────────────────────────────────┤\n",
      "│ FCN = 51.11                      │             Nfcn = 1024              │\n",
      "│ EDM = 4.51e-05 (Goal: 0.0002)    │                                      │\n",
      "├──────────────────────────────────┼──────────────────────────────────────┤\n",
      "│          Valid Minimum           │        No Parameters at limit        │\n",
      "├──────────────────────────────────┼──────────────────────────────────────┤\n",
      "│ Below EDM threshold (goal x 10)  │           Below call limit           │\n",
      "├───────────────┬──────────────────┼───────────┬─────────────┬────────────┤\n",
      "│  Covariance   │     Hesse ok     │ Accurate  │  Pos. def.  │ Not forced │\n",
      "└───────────────┴──────────────────┴───────────┴─────────────┴────────────┘\n",
      "DEBUG - cabinetry.fit - -2 log(L) = 51.106943 at best-fit point\n",
      "DEBUG - cabinetry.fit - performing fit with Signal_norm = 1.573\n",
      "INFO - cabinetry.fit - MINUIT status:\n",
      "┌─────────────────────────────────────────────────────────────────────────┐\n",
      "│                                Migrad                                   │\n",
      "├──────────────────────────────────┬──────────────────────────────────────┤\n",
      "│ FCN = 50.93                      │             Nfcn = 1021              │\n",
      "│ EDM = 6.3e-05 (Goal: 0.0002)     │                                      │\n",
      "├──────────────────────────────────┼──────────────────────────────────────┤\n",
      "│          Valid Minimum           │        No Parameters at limit        │\n",
      "├──────────────────────────────────┼──────────────────────────────────────┤\n",
      "│ Below EDM threshold (goal x 10)  │           Below call limit           │\n",
      "├───────────────┬──────────────────┼───────────┬─────────────┬────────────┤\n",
      "│  Covariance   │     Hesse ok     │ Accurate  │  Pos. def.  │ Not forced │\n",
      "└───────────────┴──────────────────┴───────────┴─────────────┴────────────┘\n",
      "DEBUG - cabinetry.fit - -2 log(L) = 50.933449 at best-fit point\n",
      "DEBUG - cabinetry.fit - performing fit with Signal_norm = 1.692\n",
      "INFO - cabinetry.fit - MINUIT status:\n",
      "┌─────────────────────────────────────────────────────────────────────────┐\n",
      "│                                Migrad                                   │\n",
      "├──────────────────────────────────┬──────────────────────────────────────┤\n",
      "│ FCN = 51.08                      │             Nfcn = 1021              │\n",
      "│ EDM = 0.000101 (Goal: 0.0002)    │                                      │\n",
      "├──────────────────────────────────┼──────────────────────────────────────┤\n",
      "│          Valid Minimum           │        No Parameters at limit        │\n",
      "├──────────────────────────────────┼──────────────────────────────────────┤\n",
      "│ Below EDM threshold (goal x 10)  │           Below call limit           │\n",
      "├───────────────┬──────────────────┼───────────┬─────────────┬────────────┤\n",
      "│  Covariance   │     Hesse ok     │ Accurate  │  Pos. def.  │ Not forced │\n",
      "└───────────────┴──────────────────┴───────────┴─────────────┴────────────┘\n"
     ]
    },
    {
     "name": "stderr",
     "output_type": "stream",
     "text": [
      "DEBUG - cabinetry.fit - -2 log(L) = 51.080206 at best-fit point\n",
      "DEBUG - cabinetry.fit - performing fit with Signal_norm = 1.811\n",
      "INFO - cabinetry.fit - MINUIT status:\n",
      "┌─────────────────────────────────────────────────────────────────────────┐\n",
      "│                                Migrad                                   │\n",
      "├──────────────────────────────────┬──────────────────────────────────────┤\n",
      "│ FCN = 51.49                      │             Nfcn = 1060              │\n",
      "│ EDM = 7.37e-06 (Goal: 0.0002)    │                                      │\n",
      "├──────────────────────────────────┼──────────────────────────────────────┤\n",
      "│          Valid Minimum           │        No Parameters at limit        │\n",
      "├──────────────────────────────────┼──────────────────────────────────────┤\n",
      "│ Below EDM threshold (goal x 10)  │           Below call limit           │\n",
      "├───────────────┬──────────────────┼───────────┬─────────────┬────────────┤\n",
      "│  Covariance   │     Hesse ok     │ Accurate  │  Pos. def.  │ Not forced │\n",
      "└───────────────┴──────────────────┴───────────┴─────────────┴────────────┘\n",
      "DEBUG - cabinetry.fit - -2 log(L) = 51.493395 at best-fit point\n",
      "DEBUG - cabinetry.fit - performing fit with Signal_norm = 1.929\n",
      "INFO - cabinetry.fit - MINUIT status:\n",
      "┌─────────────────────────────────────────────────────────────────────────┐\n",
      "│                                Migrad                                   │\n",
      "├──────────────────────────────────┬──────────────────────────────────────┤\n",
      "│ FCN = 52.13                      │             Nfcn = 1061              │\n",
      "│ EDM = 2.34e-05 (Goal: 0.0002)    │                                      │\n",
      "├──────────────────────────────────┼──────────────────────────────────────┤\n",
      "│          Valid Minimum           │        No Parameters at limit        │\n",
      "├──────────────────────────────────┼──────────────────────────────────────┤\n",
      "│ Below EDM threshold (goal x 10)  │           Below call limit           │\n",
      "├───────────────┬──────────────────┼───────────┬─────────────┬────────────┤\n",
      "│  Covariance   │     Hesse ok     │ Accurate  │  Pos. def.  │ Not forced │\n",
      "└───────────────┴──────────────────┴───────────┴─────────────┴────────────┘\n",
      "DEBUG - cabinetry.fit - -2 log(L) = 52.132218 at best-fit point\n",
      "DEBUG - cabinetry.fit - performing fit with Signal_norm = 2.048\n",
      "INFO - cabinetry.fit - MINUIT status:\n",
      "┌─────────────────────────────────────────────────────────────────────────┐\n",
      "│                                Migrad                                   │\n",
      "├──────────────────────────────────┬──────────────────────────────────────┤\n",
      "│ FCN = 52.97                      │             Nfcn = 1817              │\n",
      "│ EDM = 1.83e-05 (Goal: 0.0002)    │                                      │\n",
      "├──────────────────────────────────┼──────────────────────────────────────┤\n",
      "│          Valid Minimum           │        No Parameters at limit        │\n",
      "├──────────────────────────────────┼──────────────────────────────────────┤\n",
      "│ Below EDM threshold (goal x 10)  │           Below call limit           │\n",
      "├───────────────┬──────────────────┼───────────┬─────────────┬────────────┤\n",
      "│  Covariance   │     Hesse ok     │ Accurate  │  Pos. def.  │ Not forced │\n",
      "└───────────────┴──────────────────┴───────────┴─────────────┴────────────┘\n",
      "DEBUG - cabinetry.fit - -2 log(L) = 52.968361 at best-fit point\n",
      "DEBUG - cabinetry.fit - performing fit with Signal_norm = 2.167\n",
      "INFO - cabinetry.fit - MINUIT status:\n",
      "┌─────────────────────────────────────────────────────────────────────────┐\n",
      "│                                Migrad                                   │\n",
      "├──────────────────────────────────┬──────────────────────────────────────┤\n",
      "│ FCN = 53.98                      │             Nfcn = 1648              │\n",
      "│ EDM = 6.06e-06 (Goal: 0.0002)    │                                      │\n",
      "├──────────────────────────────────┼──────────────────────────────────────┤\n",
      "│          Valid Minimum           │        No Parameters at limit        │\n",
      "├──────────────────────────────────┼──────────────────────────────────────┤\n",
      "│ Below EDM threshold (goal x 10)  │           Below call limit           │\n",
      "├───────────────┬──────────────────┼───────────┬─────────────┬────────────┤\n",
      "│  Covariance   │     Hesse ok     │ Accurate  │  Pos. def.  │ Not forced │\n",
      "└───────────────┴──────────────────┴───────────┴─────────────┴────────────┘\n",
      "DEBUG - cabinetry.fit - -2 log(L) = 53.979196 at best-fit point\n"
     ]
    }
   ],
   "source": [
    "scan_results = cabinetry.fit.scan(model, data, \"Signal_norm\")"
   ]
  },
  {
   "cell_type": "code",
   "execution_count": 16,
   "metadata": {},
   "outputs": [
    {
     "name": "stderr",
     "output_type": "stream",
     "text": [
      "DEBUG - cabinetry.visualize.utils - saving figure as figures/scan_Signal_norm.pdf\n"
     ]
    },
    {
     "data": {
      "image/png": "[encoded data removed]",
      "text/plain": [
       "<Figure size 432x288 with 1 Axes>"
      ]
     },
     "execution_count": 16,
     "metadata": {},
     "output_type": "execute_result"
    }
   ],
   "source": [
    "cabinetry.visualize.scan(scan_results)"
   ]
  },
  {
   "cell_type": "markdown",
   "metadata": {},
   "source": [
    "6. 拟合后的结果，会给出POI和NPs的最佳拟合值，对于 POI（$\\mu$），即配置文件中的`Signal_norm`，以及其他NPs也都会有改变，考虑拟合后的各种参数，作用于`Data`和`Prediction`，得到的图，我们叫做post-fit plots，对应的没有考虑拟合结果的老图就是pre-fit plots，我们先看一下pre-fit plots："
   ]
  },
  {
   "cell_type": "code",
   "execution_count": 17,
   "metadata": {},
   "outputs": [
    {
     "name": "stderr",
     "output_type": "stream",
     "text": [
      "DEBUG - cabinetry.model_utils - total stdev is [[106, 72.9, 56.6, 32.2, 28.1], ... 5.11, 2.74, 30.6, 16.4, 5.28, 2.2, 8.01, 14]]\n",
      "DEBUG - cabinetry.model_utils - total stdev per channel is [279, 98.9]\n",
      "DEBUG - cabinetry.visualize.utils - saving figure as figures/Control_region_prefit.pdf\n",
      "DEBUG - cabinetry.visualize.utils - saving figure as figures/Signal_region_prefit.pdf\n"
     ]
    },
    {
     "data": {
      "text/plain": [
       "[{'figure': <Figure size 432x432 with 2 Axes>, 'region': 'Control_region'},\n",
       " {'figure': <Figure size 432x432 with 2 Axes>, 'region': 'Signal_region'}]"
      ]
     },
     "execution_count": 17,
     "metadata": {},
     "output_type": "execute_result"
    },
    {
     "data": {
      "image/png": "[encoded data removed]",
      "text/plain": [
       "<Figure size 432x432 with 2 Axes>"
      ]
     },
     "metadata": {
      "needs_background": "light"
     },
     "output_type": "display_data"
    },
    {
     "data": {
      "image/png": "[encoded data removed]",
      "text/plain": [
       "<Figure size 432x432 with 2 Axes>"
      ]
     },
     "metadata": {
      "needs_background": "light"
     },
     "output_type": "display_data"
    }
   ],
   "source": [
    "# visualize the pre-fit model prediction and data\n",
    "model_pred = cabinetry.model_utils.prediction(model)\n",
    "cabinetry.visualize.data_mc(model_pred, data, config=config)"
   ]
  },
  {
   "cell_type": "markdown",
   "metadata": {},
   "source": [
    "接下来就是post-fit plots了，"
   ]
  },
  {
   "cell_type": "code",
   "execution_count": 18,
   "metadata": {},
   "outputs": [
    {
     "name": "stderr",
     "output_type": "stream",
     "text": [
      "DEBUG - cabinetry.model_utils - total stdev is [[34.8, 22.8, 17.2, 14.3, 10.4], ... 5.37, 3.54, 9.71, 6.43, 5.12, 1.5, 3.98, 5.38]]\n",
      "DEBUG - cabinetry.model_utils - total stdev per channel is [63.1, 26.7]\n",
      "DEBUG - cabinetry.visualize.utils - saving figure as figures/Control_region_postfit.pdf\n",
      "DEBUG - cabinetry.visualize.utils - saving figure as figures/Signal_region_postfit.pdf\n"
     ]
    },
    {
     "data": {
      "text/plain": [
       "[{'figure': <Figure size 432x432 with 2 Axes>, 'region': 'Control_region'},\n",
       " {'figure': <Figure size 432x432 with 2 Axes>, 'region': 'Signal_region'}]"
      ]
     },
     "execution_count": 18,
     "metadata": {},
     "output_type": "execute_result"
    },
    {
     "data": {
      "image/png": "[encoded data removed]",
      "text/plain": [
       "<Figure size 432x432 with 2 Axes>"
      ]
     },
     "metadata": {
      "needs_background": "light"
     },
     "output_type": "display_data"
    },
    {
     "data": {
      "image/png": "[encoded data removed]",
      "text/plain": [
       "<Figure size 432x432 with 2 Axes>"
      ]
     },
     "metadata": {
      "needs_background": "light"
     },
     "output_type": "display_data"
    }
   ],
   "source": [
    "# visualize the post-fit model prediction and data\n",
    "model_postfit = cabinetry.model_utils.prediction(model, fit_results=fit_results)\n",
    "cabinetry.visualize.data_mc(model_postfit, data, config=config)"
   ]
  },
  {
   "cell_type": "markdown",
   "metadata": {},
   "source": [
    "（四）似然比检验 （hands-on）\n",
    "\n",
    "似然比检验是利用似然函数来检测某个假设（或限制）是否有效的一种检验。一般情况下，要检测某个附加的参数限制是否是正确的，可以将加入附加限制条件的较复杂模型的似然函数最大值与之前的较简单模型的似然函数最大值进行比较。如果参数限制是正确的，那么加入这样一个参数应当不会造成似然函数最大值的大幅变动。一般使用两者的比例来进行比较，这个比值是卡方($\\chi ^2$)分布。\n",
    "\n",
    "<img src=\"./figs/significances.png\" width = \"80%\" />\n",
    "\n",
    "计算信号显著度，我们调用到的函数是`cabinetry.fit.significance`"
   ]
  },
  {
   "cell_type": "code",
   "execution_count": 28,
   "metadata": {},
   "outputs": [
    {
     "name": "stderr",
     "output_type": "stream",
     "text": [
      "INFO - cabinetry.fit - calculating discovery significance\n",
      "INFO - cabinetry.fit - observed p-value: 5.097e-15\n",
      "INFO - cabinetry.fit - observed significance: 7.737\n",
      "INFO - cabinetry.fit - expected p-value: 1.310e-09\n",
      "INFO - cabinetry.fit - expected significance: 5.954\n"
     ]
    }
   ],
   "source": [
    "significance_results = cabinetry.fit.significance(model, data)"
   ]
  },
  {
   "cell_type": "markdown",
   "metadata": {},
   "source": [
    "问题：\n",
    "1. 在我们的假设检验中，零假设（null hypothesis）指的是什么？\n",
    "2. 如果积分亮度的不确定度为2.0%，观测显著度（significance）会改变为多少？（截断到小数点后3位）\n",
    "3. 根据下图，下列选项中哪两个bin对提高信号显著度作用最大？（bin的索引值从1开始）\n",
    "   \n",
    "   <img src=\"./figs/prefit.png\" width = \"40%\" />"
   ]
  },
  {
   "cell_type": "markdown",
   "metadata": {},
   "source": [
    ">参考资料：\n",
    "> - https://indico.cern.ch/event/117033/contributions/1327652/attachments/55755/80228/Cranmer_L1.pdf\n",
    "> - https://indico.cern.ch/event/976099/contributions/4138517/attachments/2161767/3647843/Likelihoods_handsonintro.pdf\n",
    "> - https://indico.cern.ch/event/747340/contributions/3198621/attachments/1744332/2823479/Stats_Intro.pdf\n",
    "> - https://github.com/cabinetry/cabinetry-tutorials\n",
    "> - **专业文档** 👍 https://cds.cern.ch/record/1379837/files/NOTE2011_005.pdf"
   ]
  }
 ],
 "metadata": {
  "interpreter": {
   "hash": "5cb26a57e8c3bacca127120453f50d259d8e56da38e094311726df11d012d06d"
  },
  "kernelspec": {
   "display_name": "Python [conda env:wintercamp]",
   "language": "python",
   "name": "conda-env-wintercamp-py"
  },
  "language_info": {
   "codemirror_mode": {
    "name": "ipython",
    "version": 3
   },
   "file_extension": ".py",
   "mimetype": "text/x-python",
   "name": "python",
   "nbconvert_exporter": "python",
   "pygments_lexer": "ipython3",
   "version": "3.8.12"
  }
 },
 "nbformat": 4,
 "nbformat_minor": 2
}
