{
 "cells": [
  {
   "cell_type": "code",
   "execution_count": null,
   "metadata": {},
   "outputs": [],
   "source": [
    "import cabinetry\n",
    "cabinetry.set_logging()\n",
    "\n",
    "import pyhf\n"
   ]
  },
  {
   "cell_type": "code",
   "execution_count": null,
   "metadata": {},
   "outputs": [],
   "source": [
    "!cp /data/pubfs/xiaoj/zajj/nb/config_histograms.yml ."
   ]
  },
  {
   "cell_type": "code",
   "execution_count": null,
   "metadata": {},
   "outputs": [],
   "source": [
    "config = cabinetry.configuration.load(\"config_histograms.yml\")# create template histograms\n",
    "# collects all provided histograms (storing them in the format used internally by cabinetry for further processing)\n",
    "cabinetry.templates.collect(config, method=\"uproot\")\n",
    "# build a workspace\n",
    "ws = cabinetry.workspace.build(config)"
   ]
  },
  {
   "cell_type": "code",
   "execution_count": null,
   "metadata": {},
   "outputs": [],
   "source": [
    "# run a fit\n",
    "model, data = cabinetry.model_utils.model_and_data(ws)\n",
    "fit_results = cabinetry.fit.fit(model, data)"
   ]
  },
  {
   "cell_type": "code",
   "execution_count": null,
   "metadata": {},
   "outputs": [],
   "source": [
    "# visualize the pre-fit model prediction and data\n",
    "model_pred = cabinetry.model_utils.prediction(model)\n",
    "cabinetry.visualize.data_mc(model_pred, data, config=config)"
   ]
  },
  {
   "cell_type": "code",
   "execution_count": null,
   "metadata": {},
   "outputs": [],
   "source": [
    "# visualize the post-fit model prediction and data\n",
    "model_postfit = cabinetry.model_utils.prediction(model, fit_results=fit_results)\n",
    "cabinetry.visualize.data_mc(model_postfit, data, config=config)"
   ]
  },
  {
   "cell_type": "code",
   "execution_count": null,
   "metadata": {},
   "outputs": [],
   "source": [
    "# cabinetry.visualize.pulls(fit_results, exclude=[\"Signal_norm\"])\n",
    "cabinetry.visualize.pulls(fit_results)\n"
   ]
  },
  {
   "cell_type": "code",
   "execution_count": null,
   "metadata": {},
   "outputs": [],
   "source": [
    "significance_results = cabinetry.fit.significance(model, data)"
   ]
  },
  {
   "cell_type": "code",
   "execution_count": null,
   "metadata": {},
   "outputs": [],
   "source": []
  }
 ],
 "metadata": {
  "interpreter": {
   "hash": "5cb26a57e8c3bacca127120453f50d259d8e56da38e094311726df11d012d06d"
  },
  "kernelspec": {
   "display_name": "Python [conda env:wintercamp]",
   "language": "python",
   "name": "conda-env-wintercamp-py"
  },
  "language_info": {
   "codemirror_mode": {
    "name": "ipython",
    "version": 3
   },
   "file_extension": ".py",
   "mimetype": "text/x-python",
   "name": "python",
   "nbconvert_exporter": "python",
   "pygments_lexer": "ipython3",
   "version": "3.8.12"
  }
 },
 "nbformat": 4,
 "nbformat_minor": 2
}
