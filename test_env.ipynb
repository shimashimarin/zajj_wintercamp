{
 "cells": [
  {
   "cell_type": "code",
   "execution_count": null,
   "metadata": {},
   "outputs": [],
   "source": [
    "import awkward as ak\n",
    "from coffea.nanoevents import NanoEventsFactory, NanoAODSchema, BaseSchema\n",
    "from coffea import util\n",
    "import numpy as np\n",
    "import numba as nb\n",
    "import uproot as up\n",
    "from coffea import hist as coffea_hist\n",
    " \n",
    "# from coffea import hist,processor\n",
    "from coffea import processor\n",
    "from coffea.nanoevents.methods import candidate\n",
    "ak.behavior.update(candidate.behavior)\n",
    "import matplotlib.pyplot as plt\n",
    "import mplhep as hep\n",
    "import time\n",
    "\n",
    "from hist import Hist, axis\n",
    "import hist\n",
    "\n",
    "import pickle\n",
    "\n",
    "import boost_histogram as bh\n",
    "import os\n",
    "\n",
    "import cabinetry\n",
    "cabinetry.set_logging()\n",
    "\n",
    "import pyhf\n",
    "\n",
    "print(\"🎉🎉🎉 congratulations, you passed the environment test!!!\")"
   ]
  }
 ],
 "metadata": {
  "language_info": {
   "name": "python"
  },
  "orig_nbformat": 4
 },
 "nbformat": 4,
 "nbformat_minor": 2
}
